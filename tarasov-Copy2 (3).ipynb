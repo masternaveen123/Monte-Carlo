{
 "cells": [
  {
   "cell_type": "code",
   "execution_count": 1,
   "id": "5d74f3bd",
   "metadata": {},
   "outputs": [],
   "source": [
    "import pandas as pd \n",
    "import numpy as np\n",
    "import random\n",
    "import math\n",
    "import matplotlib.pyplot as plt\n",
    "import pandas as pd\n",
    "from matplotlib import animation\n",
    "import statistics\n",
    "from IPython.display import clear_output\n",
    "import scipy\n",
    "from scipy.stats import norm"
   ]
  },
  {
   "cell_type": "code",
   "execution_count": 2,
   "id": "c0534efe",
   "metadata": {},
   "outputs": [
    {
     "data": {
      "text/html": [
       "<div>\n",
       "<style scoped>\n",
       "    .dataframe tbody tr th:only-of-type {\n",
       "        vertical-align: middle;\n",
       "    }\n",
       "\n",
       "    .dataframe tbody tr th {\n",
       "        vertical-align: top;\n",
       "    }\n",
       "\n",
       "    .dataframe thead th {\n",
       "        text-align: right;\n",
       "    }\n",
       "</style>\n",
       "<table border=\"1\" class=\"dataframe\">\n",
       "  <thead>\n",
       "    <tr style=\"text-align: right;\">\n",
       "      <th></th>\n",
       "      <th>Protein_A</th>\n",
       "      <th>Protein_B</th>\n",
       "      <th>Abd_A</th>\n",
       "      <th>Abd_B</th>\n",
       "      <th>Colony_Size</th>\n",
       "    </tr>\n",
       "  </thead>\n",
       "  <tbody>\n",
       "    <tr>\n",
       "      <th>0</th>\n",
       "      <td>AAR2</td>\n",
       "      <td>LSM1</td>\n",
       "      <td>2.55</td>\n",
       "      <td>1066.00</td>\n",
       "      <td>23584</td>\n",
       "    </tr>\n",
       "    <tr>\n",
       "      <th>1</th>\n",
       "      <td>ABD1</td>\n",
       "      <td>TAF2</td>\n",
       "      <td>18.40</td>\n",
       "      <td>8.01</td>\n",
       "      <td>21605</td>\n",
       "    </tr>\n",
       "    <tr>\n",
       "      <th>2</th>\n",
       "      <td>ABD1</td>\n",
       "      <td>ECM4</td>\n",
       "      <td>18.40</td>\n",
       "      <td>21.90</td>\n",
       "      <td>21005</td>\n",
       "    </tr>\n",
       "    <tr>\n",
       "      <th>3</th>\n",
       "      <td>ABD1</td>\n",
       "      <td>RNR2</td>\n",
       "      <td>18.40</td>\n",
       "      <td>352.00</td>\n",
       "      <td>21044</td>\n",
       "    </tr>\n",
       "    <tr>\n",
       "      <th>4</th>\n",
       "      <td>ABF2</td>\n",
       "      <td>UBP6</td>\n",
       "      <td>640.00</td>\n",
       "      <td>126.00</td>\n",
       "      <td>21573</td>\n",
       "    </tr>\n",
       "    <tr>\n",
       "      <th>...</th>\n",
       "      <td>...</td>\n",
       "      <td>...</td>\n",
       "      <td>...</td>\n",
       "      <td>...</td>\n",
       "      <td>...</td>\n",
       "    </tr>\n",
       "    <tr>\n",
       "      <th>8554</th>\n",
       "      <td>ZIP2</td>\n",
       "      <td>DBP5</td>\n",
       "      <td>1.60</td>\n",
       "      <td>156.00</td>\n",
       "      <td>22056</td>\n",
       "    </tr>\n",
       "    <tr>\n",
       "      <th>8555</th>\n",
       "      <td>ZPR1</td>\n",
       "      <td>TAF2</td>\n",
       "      <td>119.00</td>\n",
       "      <td>8.01</td>\n",
       "      <td>22383</td>\n",
       "    </tr>\n",
       "    <tr>\n",
       "      <th>8556</th>\n",
       "      <td>ZPR1</td>\n",
       "      <td>ECM4</td>\n",
       "      <td>119.00</td>\n",
       "      <td>21.90</td>\n",
       "      <td>21555</td>\n",
       "    </tr>\n",
       "    <tr>\n",
       "      <th>8557</th>\n",
       "      <td>ZPR1</td>\n",
       "      <td>RNR2</td>\n",
       "      <td>119.00</td>\n",
       "      <td>352.00</td>\n",
       "      <td>38017</td>\n",
       "    </tr>\n",
       "    <tr>\n",
       "      <th>8558</th>\n",
       "      <td>ZRT3</td>\n",
       "      <td>TPM2</td>\n",
       "      <td>20.70</td>\n",
       "      <td>405.00</td>\n",
       "      <td>20805</td>\n",
       "    </tr>\n",
       "  </tbody>\n",
       "</table>\n",
       "<p>8559 rows × 5 columns</p>\n",
       "</div>"
      ],
      "text/plain": [
       "     Protein_A Protein_B   Abd_A    Abd_B  Colony_Size\n",
       "0         AAR2      LSM1    2.55  1066.00        23584\n",
       "1         ABD1      TAF2   18.40     8.01        21605\n",
       "2         ABD1      ECM4   18.40    21.90        21005\n",
       "3         ABD1      RNR2   18.40   352.00        21044\n",
       "4         ABF2      UBP6  640.00   126.00        21573\n",
       "...        ...       ...     ...      ...          ...\n",
       "8554      ZIP2      DBP5    1.60   156.00        22056\n",
       "8555      ZPR1      TAF2  119.00     8.01        22383\n",
       "8556      ZPR1      ECM4  119.00    21.90        21555\n",
       "8557      ZPR1      RNR2  119.00   352.00        38017\n",
       "8558      ZRT3      TPM2   20.70   405.00        20805\n",
       "\n",
       "[8559 rows x 5 columns]"
      ]
     },
     "execution_count": 2,
     "metadata": {},
     "output_type": "execute_result"
    }
   ],
   "source": [
    "df = pd.read_csv(\"tarassov_important_interactions.csv\") \n",
    "df"
   ]
  },
  {
   "cell_type": "code",
   "execution_count": 3,
   "id": "3e821ba5",
   "metadata": {},
   "outputs": [],
   "source": [
    "pro_A=df['Abd_A'].to_list()\n",
    "pro_B=df['Abd_B'].to_list()\n",
    "pro_A\n",
    "A_mean,A_stdev=statistics.mean(pro_A),statistics.stdev(pro_A)\n",
    "B_mean,B_stdev=statistics.mean(pro_B),statistics.stdev(pro_B)"
   ]
  },
  {
   "cell_type": "code",
   "execution_count": 4,
   "id": "67a19d29",
   "metadata": {},
   "outputs": [],
   "source": [
    "# import matplotlib.pyplot as plt\n",
    "# import numpy as np\n",
    "\n",
    "# x = pro_A\n",
    "\n",
    "# plt.hist(x)\n",
    "# plt.show() "
   ]
  },
  {
   "cell_type": "code",
   "execution_count": 5,
   "id": "46d7e2d1",
   "metadata": {},
   "outputs": [
    {
     "name": "stdout",
     "output_type": "stream",
     "text": [
      "9310.0 0.0 3420.0 0.13\n"
     ]
    },
    {
     "data": {
      "text/plain": [
       "(9310, 0, 3420, 0)"
      ]
     },
     "execution_count": 5,
     "metadata": {},
     "output_type": "execute_result"
    }
   ],
   "source": [
    "Ai_max,Ai_min,Aj_max,Aj_min=df['Abd_A'].max(),df['Abd_A'].min(),df['Abd_B'].max(),df['Abd_B'].min()\n",
    "print(Ai_max,Ai_min,Aj_max,Aj_min)\n",
    "# print(math.ceil(Ai_max),math.floor(Ai_min),math.ceil(Aj_max),math.floor(Aj_min))\n",
    "Ai_max,Ai_min,Aj_max,Aj_min=math.ceil(Ai_max),math.floor(Ai_min),math.ceil(Aj_max),math.floor(Aj_min)\n",
    "Ai_max,Ai_min,Aj_max,Aj_min"
   ]
  },
  {
   "cell_type": "code",
   "execution_count": 6,
   "id": "434d6de4",
   "metadata": {},
   "outputs": [],
   "source": [
    "df.sort_values(by=['Colony_Size'], inplace=True, ascending=False)\n",
    "df=df[1:11]"
   ]
  },
  {
   "cell_type": "code",
   "execution_count": 7,
   "id": "612f2d2f",
   "metadata": {},
   "outputs": [],
   "source": [
    "# df\n",
    "df.reset_index(drop=True,inplace=True)"
   ]
  },
  {
   "cell_type": "code",
   "execution_count": 8,
   "id": "10dedc77",
   "metadata": {
    "scrolled": true
   },
   "outputs": [
    {
     "data": {
      "text/html": [
       "<div>\n",
       "<style scoped>\n",
       "    .dataframe tbody tr th:only-of-type {\n",
       "        vertical-align: middle;\n",
       "    }\n",
       "\n",
       "    .dataframe tbody tr th {\n",
       "        vertical-align: top;\n",
       "    }\n",
       "\n",
       "    .dataframe thead th {\n",
       "        text-align: right;\n",
       "    }\n",
       "</style>\n",
       "<table border=\"1\" class=\"dataframe\">\n",
       "  <thead>\n",
       "    <tr style=\"text-align: right;\">\n",
       "      <th></th>\n",
       "      <th>Protein_A</th>\n",
       "      <th>Protein_B</th>\n",
       "      <th>Abd_A</th>\n",
       "      <th>Abd_B</th>\n",
       "      <th>Colony_Size</th>\n",
       "    </tr>\n",
       "  </thead>\n",
       "  <tbody>\n",
       "    <tr>\n",
       "      <th>0</th>\n",
       "      <td>YNL190W</td>\n",
       "      <td>AGP1</td>\n",
       "      <td>835.0</td>\n",
       "      <td>10.6</td>\n",
       "      <td>214802</td>\n",
       "    </tr>\n",
       "    <tr>\n",
       "      <th>1</th>\n",
       "      <td>MET3</td>\n",
       "      <td>MET3</td>\n",
       "      <td>57.1</td>\n",
       "      <td>57.1</td>\n",
       "      <td>203046</td>\n",
       "    </tr>\n",
       "    <tr>\n",
       "      <th>2</th>\n",
       "      <td>SEC4</td>\n",
       "      <td>GDI1</td>\n",
       "      <td>234.0</td>\n",
       "      <td>172.0</td>\n",
       "      <td>194897</td>\n",
       "    </tr>\n",
       "    <tr>\n",
       "      <th>3</th>\n",
       "      <td>ERV29</td>\n",
       "      <td>AGP1</td>\n",
       "      <td>49.8</td>\n",
       "      <td>10.6</td>\n",
       "      <td>191611</td>\n",
       "    </tr>\n",
       "    <tr>\n",
       "      <th>4</th>\n",
       "      <td>YNL190W</td>\n",
       "      <td>GAP1</td>\n",
       "      <td>835.0</td>\n",
       "      <td>11.9</td>\n",
       "      <td>191457</td>\n",
       "    </tr>\n",
       "    <tr>\n",
       "      <th>5</th>\n",
       "      <td>VHS3</td>\n",
       "      <td>OST1</td>\n",
       "      <td>14.9</td>\n",
       "      <td>52.8</td>\n",
       "      <td>190626</td>\n",
       "    </tr>\n",
       "    <tr>\n",
       "      <th>6</th>\n",
       "      <td>VPH1</td>\n",
       "      <td>VMA13</td>\n",
       "      <td>149.0</td>\n",
       "      <td>207.0</td>\n",
       "      <td>182953</td>\n",
       "    </tr>\n",
       "    <tr>\n",
       "      <th>7</th>\n",
       "      <td>SRV2</td>\n",
       "      <td>SRV2</td>\n",
       "      <td>255.0</td>\n",
       "      <td>255.0</td>\n",
       "      <td>180483</td>\n",
       "    </tr>\n",
       "    <tr>\n",
       "      <th>8</th>\n",
       "      <td>YNL190W</td>\n",
       "      <td>OST1</td>\n",
       "      <td>835.0</td>\n",
       "      <td>52.8</td>\n",
       "      <td>179079</td>\n",
       "    </tr>\n",
       "    <tr>\n",
       "      <th>9</th>\n",
       "      <td>SHR3</td>\n",
       "      <td>GAP1</td>\n",
       "      <td>35.7</td>\n",
       "      <td>11.9</td>\n",
       "      <td>176711</td>\n",
       "    </tr>\n",
       "  </tbody>\n",
       "</table>\n",
       "</div>"
      ],
      "text/plain": [
       "  Protein_A Protein_B  Abd_A  Abd_B  Colony_Size\n",
       "0   YNL190W      AGP1  835.0   10.6       214802\n",
       "1      MET3      MET3   57.1   57.1       203046\n",
       "2      SEC4      GDI1  234.0  172.0       194897\n",
       "3     ERV29      AGP1   49.8   10.6       191611\n",
       "4   YNL190W      GAP1  835.0   11.9       191457\n",
       "5      VHS3      OST1   14.9   52.8       190626\n",
       "6      VPH1     VMA13  149.0  207.0       182953\n",
       "7      SRV2      SRV2  255.0  255.0       180483\n",
       "8   YNL190W      OST1  835.0   52.8       179079\n",
       "9      SHR3      GAP1   35.7   11.9       176711"
      ]
     },
     "execution_count": 8,
     "metadata": {},
     "output_type": "execute_result"
    }
   ],
   "source": [
    "df"
   ]
  },
  {
   "cell_type": "code",
   "execution_count": 9,
   "id": "bd2228f5",
   "metadata": {},
   "outputs": [
    {
     "data": {
      "text/plain": [
       "[8906.389122802286,\n",
       " 4675.971832907027,\n",
       " 3547.4999449402476,\n",
       " 6145.640461722801,\n",
       " 1525.9354196037273,\n",
       " 9271.824410284384,\n",
       " 2979.295619478183,\n",
       " 7407.251921322247,\n",
       " 479.8931522463074,\n",
       " 6875.444391126406]"
      ]
     },
     "execution_count": 9,
     "metadata": {},
     "output_type": "execute_result"
    }
   ],
   "source": [
    "Kd = []\n",
    "for i in range(len(df)):\n",
    "       Kd_rand = random.uniform(1, 10**4)\n",
    "       Kd.append(Kd_rand)\n",
    "\n",
    "Kd"
   ]
  },
  {
   "cell_type": "code",
   "execution_count": 10,
   "id": "aab72463",
   "metadata": {},
   "outputs": [
    {
     "name": "stdout",
     "output_type": "stream",
     "text": [
      "0 9310\n"
     ]
    },
    {
     "data": {
      "text/plain": [
       "[644.1256243103314,\n",
       " 260.77479087658503,\n",
       " 40.71471476017305,\n",
       " 341.20646531331744,\n",
       " 123.90386325415726,\n",
       " 18.1918227828653,\n",
       " 181.8164284995966,\n",
       " 231.44327224948046,\n",
       " 215.25295829406576,\n",
       " 277.41715296111096]"
      ]
     },
     "execution_count": 10,
     "metadata": {},
     "output_type": "execute_result"
    }
   ],
   "source": [
    "Ai = []\n",
    "for i in range(len(df)):\n",
    "#        Ai_rand = random.uniform(Ai_min, Ai_max)\n",
    "       Ai_rand = abs(random.gauss(A_mean, A_stdev))\n",
    "       Ai.append(Ai_rand)\n",
    "\n",
    "print(Ai_min, Ai_max)\n",
    "Ai"
   ]
  },
  {
   "cell_type": "code",
   "execution_count": 11,
   "id": "787588cd",
   "metadata": {},
   "outputs": [
    {
     "name": "stdout",
     "output_type": "stream",
     "text": [
      "0 3420\n"
     ]
    },
    {
     "data": {
      "text/plain": [
       "[545.7139182446375,\n",
       " 442.58504481231955,\n",
       " 9.506161109290133,\n",
       " 362.43287074339935,\n",
       " 74.98634598167799,\n",
       " 119.8067555625648,\n",
       " 421.6367704831232,\n",
       " 69.91032172169157,\n",
       " 386.5145451584882,\n",
       " 514.0699940203106]"
      ]
     },
     "execution_count": 11,
     "metadata": {},
     "output_type": "execute_result"
    }
   ],
   "source": [
    "Aj = []\n",
    "for i in range(len(df)):\n",
    "#        Aj_rand = random.uniform(Aj_min, Aj_max)\n",
    "       Aj_rand = abs(random.gauss(B_mean, B_stdev))\n",
    "       Aj.append(Aj_rand)\n",
    "    \n",
    "print(Aj_min, Aj_max)\n",
    "Aj"
   ]
  },
  {
   "cell_type": "code",
   "execution_count": 12,
   "id": "5274fb44",
   "metadata": {},
   "outputs": [
    {
     "data": {
      "text/html": [
       "<div>\n",
       "<style scoped>\n",
       "    .dataframe tbody tr th:only-of-type {\n",
       "        vertical-align: middle;\n",
       "    }\n",
       "\n",
       "    .dataframe tbody tr th {\n",
       "        vertical-align: top;\n",
       "    }\n",
       "\n",
       "    .dataframe thead th {\n",
       "        text-align: right;\n",
       "    }\n",
       "</style>\n",
       "<table border=\"1\" class=\"dataframe\">\n",
       "  <thead>\n",
       "    <tr style=\"text-align: right;\">\n",
       "      <th></th>\n",
       "      <th>Systematic Name</th>\n",
       "      <th>Standard Name</th>\n",
       "      <th>Qualifier a</th>\n",
       "      <th>Mean molecules per cell</th>\n",
       "      <th>Median molecules per cell</th>\n",
       "      <th>Coefficient of Variation</th>\n",
       "      <th>LU</th>\n",
       "      <th>PENG</th>\n",
       "      <th>KUL</th>\n",
       "      <th>LAW</th>\n",
       "      <th>...</th>\n",
       "      <th>TKA</th>\n",
       "      <th>BRE</th>\n",
       "      <th>DEN</th>\n",
       "      <th>MAZ</th>\n",
       "      <th>CHO</th>\n",
       "      <th>YOF</th>\n",
       "      <th>NEW</th>\n",
       "      <th>LEE</th>\n",
       "      <th>DAV</th>\n",
       "      <th>GHA</th>\n",
       "    </tr>\n",
       "  </thead>\n",
       "  <tbody>\n",
       "    <tr>\n",
       "      <th>0</th>\n",
       "      <td>YMR191W</td>\n",
       "      <td>SPG5</td>\n",
       "      <td>Verified</td>\n",
       "      <td>3.359783e+00</td>\n",
       "      <td>3.359783</td>\n",
       "      <td>NaN</td>\n",
       "      <td>NaN</td>\n",
       "      <td>NaN</td>\n",
       "      <td>3.359783e+00</td>\n",
       "      <td>NaN</td>\n",
       "      <td>...</td>\n",
       "      <td>NaN</td>\n",
       "      <td>NaN</td>\n",
       "      <td>NaN</td>\n",
       "      <td>NaN</td>\n",
       "      <td>NaN</td>\n",
       "      <td>NaN</td>\n",
       "      <td>NaN</td>\n",
       "      <td>NaN</td>\n",
       "      <td>NaN</td>\n",
       "      <td>NaN</td>\n",
       "    </tr>\n",
       "    <tr>\n",
       "      <th>1</th>\n",
       "      <td>YJL093C</td>\n",
       "      <td>TOK1</td>\n",
       "      <td>Verified</td>\n",
       "      <td>3.804228e+00</td>\n",
       "      <td>3.804228</td>\n",
       "      <td>NaN</td>\n",
       "      <td>NaN</td>\n",
       "      <td>NaN</td>\n",
       "      <td>3.804228e+00</td>\n",
       "      <td>NaN</td>\n",
       "      <td>...</td>\n",
       "      <td>NaN</td>\n",
       "      <td>NaN</td>\n",
       "      <td>NaN</td>\n",
       "      <td>NaN</td>\n",
       "      <td>NaN</td>\n",
       "      <td>NaN</td>\n",
       "      <td>NaN</td>\n",
       "      <td>NaN</td>\n",
       "      <td>NaN</td>\n",
       "      <td>NaN</td>\n",
       "    </tr>\n",
       "    <tr>\n",
       "      <th>2</th>\n",
       "      <td>YER184C</td>\n",
       "      <td>TOG1</td>\n",
       "      <td>Verified</td>\n",
       "      <td>4.725730e+00</td>\n",
       "      <td>4.725730</td>\n",
       "      <td>NaN</td>\n",
       "      <td>NaN</td>\n",
       "      <td>NaN</td>\n",
       "      <td>4.725730e+00</td>\n",
       "      <td>NaN</td>\n",
       "      <td>...</td>\n",
       "      <td>NaN</td>\n",
       "      <td>NaN</td>\n",
       "      <td>NaN</td>\n",
       "      <td>NaN</td>\n",
       "      <td>NaN</td>\n",
       "      <td>NaN</td>\n",
       "      <td>NaN</td>\n",
       "      <td>NaN</td>\n",
       "      <td>NaN</td>\n",
       "      <td>NaN</td>\n",
       "    </tr>\n",
       "    <tr>\n",
       "      <th>3</th>\n",
       "      <td>YGL063W</td>\n",
       "      <td>PUS2</td>\n",
       "      <td>Verified</td>\n",
       "      <td>5.497247e+00</td>\n",
       "      <td>5.497247</td>\n",
       "      <td>NaN</td>\n",
       "      <td>NaN</td>\n",
       "      <td>NaN</td>\n",
       "      <td>5.497247e+00</td>\n",
       "      <td>NaN</td>\n",
       "      <td>...</td>\n",
       "      <td>NaN</td>\n",
       "      <td>NaN</td>\n",
       "      <td>NaN</td>\n",
       "      <td>NaN</td>\n",
       "      <td>NaN</td>\n",
       "      <td>NaN</td>\n",
       "      <td>NaN</td>\n",
       "      <td>NaN</td>\n",
       "      <td>NaN</td>\n",
       "      <td>NaN</td>\n",
       "    </tr>\n",
       "    <tr>\n",
       "      <th>4</th>\n",
       "      <td>YPL159C</td>\n",
       "      <td>PET20</td>\n",
       "      <td>Verified</td>\n",
       "      <td>6.922929e+00</td>\n",
       "      <td>6.922929</td>\n",
       "      <td>NaN</td>\n",
       "      <td>NaN</td>\n",
       "      <td>NaN</td>\n",
       "      <td>6.922929e+00</td>\n",
       "      <td>NaN</td>\n",
       "      <td>...</td>\n",
       "      <td>NaN</td>\n",
       "      <td>NaN</td>\n",
       "      <td>NaN</td>\n",
       "      <td>NaN</td>\n",
       "      <td>NaN</td>\n",
       "      <td>NaN</td>\n",
       "      <td>NaN</td>\n",
       "      <td>NaN</td>\n",
       "      <td>NaN</td>\n",
       "      <td>NaN</td>\n",
       "    </tr>\n",
       "    <tr>\n",
       "      <th>...</th>\n",
       "      <td>...</td>\n",
       "      <td>...</td>\n",
       "      <td>...</td>\n",
       "      <td>...</td>\n",
       "      <td>...</td>\n",
       "      <td>...</td>\n",
       "      <td>...</td>\n",
       "      <td>...</td>\n",
       "      <td>...</td>\n",
       "      <td>...</td>\n",
       "      <td>...</td>\n",
       "      <td>...</td>\n",
       "      <td>...</td>\n",
       "      <td>...</td>\n",
       "      <td>...</td>\n",
       "      <td>...</td>\n",
       "      <td>...</td>\n",
       "      <td>...</td>\n",
       "      <td>...</td>\n",
       "      <td>...</td>\n",
       "      <td>...</td>\n",
       "    </tr>\n",
       "    <tr>\n",
       "      <th>5386</th>\n",
       "      <td>YCR012W</td>\n",
       "      <td>PGK1</td>\n",
       "      <td>Verified</td>\n",
       "      <td>1.048126e+06</td>\n",
       "      <td>535389.467835</td>\n",
       "      <td>118.212499</td>\n",
       "      <td>1898620.0</td>\n",
       "      <td>370624.0</td>\n",
       "      <td>5.612653e+05</td>\n",
       "      <td>3.696853e+06</td>\n",
       "      <td>...</td>\n",
       "      <td>632360.321606</td>\n",
       "      <td>762925.325484</td>\n",
       "      <td>3.869733e+06</td>\n",
       "      <td>NaN</td>\n",
       "      <td>535389.467835</td>\n",
       "      <td>NaN</td>\n",
       "      <td>467325.245209</td>\n",
       "      <td>1.013168e+06</td>\n",
       "      <td>2.518955e+06</td>\n",
       "      <td>314000.0</td>\n",
       "    </tr>\n",
       "    <tr>\n",
       "      <th>5387</th>\n",
       "      <td>YLR044C</td>\n",
       "      <td>PDC1</td>\n",
       "      <td>Verified</td>\n",
       "      <td>1.334957e+06</td>\n",
       "      <td>581219.289895</td>\n",
       "      <td>167.610282</td>\n",
       "      <td>1335789.0</td>\n",
       "      <td>284185.0</td>\n",
       "      <td>7.056524e+05</td>\n",
       "      <td>4.366751e+06</td>\n",
       "      <td>...</td>\n",
       "      <td>749870.982279</td>\n",
       "      <td>458461.578265</td>\n",
       "      <td>8.719740e+06</td>\n",
       "      <td>NaN</td>\n",
       "      <td>802711.880877</td>\n",
       "      <td>NaN</td>\n",
       "      <td>581219.289895</td>\n",
       "      <td>1.152585e+06</td>\n",
       "      <td>4.778059e+06</td>\n",
       "      <td>8970.0</td>\n",
       "    </tr>\n",
       "    <tr>\n",
       "      <th>5388</th>\n",
       "      <td>YHR174W</td>\n",
       "      <td>ENO2</td>\n",
       "      <td>Verified</td>\n",
       "      <td>1.392599e+06</td>\n",
       "      <td>736616.685356</td>\n",
       "      <td>169.701905</td>\n",
       "      <td>3055113.0</td>\n",
       "      <td>96517.0</td>\n",
       "      <td>9.298181e+05</td>\n",
       "      <td>9.756854e+05</td>\n",
       "      <td>...</td>\n",
       "      <td>698792.974393</td>\n",
       "      <td>786698.099060</td>\n",
       "      <td>9.928852e+06</td>\n",
       "      <td>NaN</td>\n",
       "      <td>711030.657259</td>\n",
       "      <td>762202.713453</td>\n",
       "      <td>867615.284478</td>\n",
       "      <td>1.926174e+06</td>\n",
       "      <td>3.651029e+06</td>\n",
       "      <td>2610.0</td>\n",
       "    </tr>\n",
       "    <tr>\n",
       "      <th>5389</th>\n",
       "      <td>YKL060C</td>\n",
       "      <td>FBA1</td>\n",
       "      <td>Verified</td>\n",
       "      <td>1.160837e+06</td>\n",
       "      <td>737008.613917</td>\n",
       "      <td>151.923907</td>\n",
       "      <td>2044661.0</td>\n",
       "      <td>276079.0</td>\n",
       "      <td>8.476516e+05</td>\n",
       "      <td>NaN</td>\n",
       "      <td>...</td>\n",
       "      <td>811477.040646</td>\n",
       "      <td>932942.583979</td>\n",
       "      <td>7.403471e+06</td>\n",
       "      <td>NaN</td>\n",
       "      <td>662540.187189</td>\n",
       "      <td>NaN</td>\n",
       "      <td>541286.587601</td>\n",
       "      <td>1.107529e+06</td>\n",
       "      <td>3.317388e+06</td>\n",
       "      <td>1020000.0</td>\n",
       "    </tr>\n",
       "    <tr>\n",
       "      <th>5390</th>\n",
       "      <td>YGR192C</td>\n",
       "      <td>TDH3</td>\n",
       "      <td>Verified</td>\n",
       "      <td>1.371127e+06</td>\n",
       "      <td>746357.568074</td>\n",
       "      <td>139.553969</td>\n",
       "      <td>2003699.0</td>\n",
       "      <td>248743.0</td>\n",
       "      <td>1.575311e+06</td>\n",
       "      <td>3.531903e+06</td>\n",
       "      <td>...</td>\n",
       "      <td>746357.568074</td>\n",
       "      <td>928368.697745</td>\n",
       "      <td>7.889502e+06</td>\n",
       "      <td>NaN</td>\n",
       "      <td>816996.457523</td>\n",
       "      <td>NaN</td>\n",
       "      <td>642009.529894</td>\n",
       "      <td>1.888509e+06</td>\n",
       "      <td>3.407017e+06</td>\n",
       "      <td>169000.0</td>\n",
       "    </tr>\n",
       "  </tbody>\n",
       "</table>\n",
       "<p>5391 rows × 27 columns</p>\n",
       "</div>"
      ],
      "text/plain": [
       "     Systematic Name Standard Name Qualifier a  Mean molecules per cell  \\\n",
       "0            YMR191W          SPG5    Verified             3.359783e+00   \n",
       "1            YJL093C          TOK1    Verified             3.804228e+00   \n",
       "2            YER184C          TOG1    Verified             4.725730e+00   \n",
       "3            YGL063W          PUS2    Verified             5.497247e+00   \n",
       "4            YPL159C         PET20    Verified             6.922929e+00   \n",
       "...              ...           ...         ...                      ...   \n",
       "5386         YCR012W          PGK1    Verified             1.048126e+06   \n",
       "5387         YLR044C          PDC1    Verified             1.334957e+06   \n",
       "5388         YHR174W          ENO2    Verified             1.392599e+06   \n",
       "5389         YKL060C          FBA1    Verified             1.160837e+06   \n",
       "5390         YGR192C          TDH3    Verified             1.371127e+06   \n",
       "\n",
       "      Median molecules per cell  Coefficient of Variation         LU  \\\n",
       "0                      3.359783                       NaN        NaN   \n",
       "1                      3.804228                       NaN        NaN   \n",
       "2                      4.725730                       NaN        NaN   \n",
       "3                      5.497247                       NaN        NaN   \n",
       "4                      6.922929                       NaN        NaN   \n",
       "...                         ...                       ...        ...   \n",
       "5386              535389.467835                118.212499  1898620.0   \n",
       "5387              581219.289895                167.610282  1335789.0   \n",
       "5388              736616.685356                169.701905  3055113.0   \n",
       "5389              737008.613917                151.923907  2044661.0   \n",
       "5390              746357.568074                139.553969  2003699.0   \n",
       "\n",
       "          PENG           KUL           LAW  ...            TKA            BRE  \\\n",
       "0          NaN  3.359783e+00           NaN  ...            NaN            NaN   \n",
       "1          NaN  3.804228e+00           NaN  ...            NaN            NaN   \n",
       "2          NaN  4.725730e+00           NaN  ...            NaN            NaN   \n",
       "3          NaN  5.497247e+00           NaN  ...            NaN            NaN   \n",
       "4          NaN  6.922929e+00           NaN  ...            NaN            NaN   \n",
       "...        ...           ...           ...  ...            ...            ...   \n",
       "5386  370624.0  5.612653e+05  3.696853e+06  ...  632360.321606  762925.325484   \n",
       "5387  284185.0  7.056524e+05  4.366751e+06  ...  749870.982279  458461.578265   \n",
       "5388   96517.0  9.298181e+05  9.756854e+05  ...  698792.974393  786698.099060   \n",
       "5389  276079.0  8.476516e+05           NaN  ...  811477.040646  932942.583979   \n",
       "5390  248743.0  1.575311e+06  3.531903e+06  ...  746357.568074  928368.697745   \n",
       "\n",
       "               DEN  MAZ            CHO            YOF            NEW  \\\n",
       "0              NaN  NaN            NaN            NaN            NaN   \n",
       "1              NaN  NaN            NaN            NaN            NaN   \n",
       "2              NaN  NaN            NaN            NaN            NaN   \n",
       "3              NaN  NaN            NaN            NaN            NaN   \n",
       "4              NaN  NaN            NaN            NaN            NaN   \n",
       "...            ...  ...            ...            ...            ...   \n",
       "5386  3.869733e+06  NaN  535389.467835            NaN  467325.245209   \n",
       "5387  8.719740e+06  NaN  802711.880877            NaN  581219.289895   \n",
       "5388  9.928852e+06  NaN  711030.657259  762202.713453  867615.284478   \n",
       "5389  7.403471e+06  NaN  662540.187189            NaN  541286.587601   \n",
       "5390  7.889502e+06  NaN  816996.457523            NaN  642009.529894   \n",
       "\n",
       "               LEE           DAV        GHA  \n",
       "0              NaN           NaN        NaN  \n",
       "1              NaN           NaN        NaN  \n",
       "2              NaN           NaN        NaN  \n",
       "3              NaN           NaN        NaN  \n",
       "4              NaN           NaN        NaN  \n",
       "...            ...           ...        ...  \n",
       "5386  1.013168e+06  2.518955e+06   314000.0  \n",
       "5387  1.152585e+06  4.778059e+06     8970.0  \n",
       "5388  1.926174e+06  3.651029e+06     2610.0  \n",
       "5389  1.107529e+06  3.317388e+06  1020000.0  \n",
       "5390  1.888509e+06  3.407017e+06   169000.0  \n",
       "\n",
       "[5391 rows x 27 columns]"
      ]
     },
     "execution_count": 12,
     "metadata": {},
     "output_type": "execute_result"
    }
   ],
   "source": [
    "abd = pd.read_csv(\"tarassov_protein_abundances.csv\") \n",
    "abd"
   ]
  },
  {
   "cell_type": "code",
   "execution_count": 13,
   "id": "7debcd15",
   "metadata": {},
   "outputs": [],
   "source": [
    "def fitness(Kda, Ai, Aj):\n",
    "    Ki=0.00054\n",
    "    a=0.1\n",
    "    B=1.3\n",
    "    MTX=440\n",
    "    Kapp=1\n",
    "\n",
    "    A=[]\n",
    "    f_c=[]\n",
    "\n",
    "    for i in range(len(df)):\n",
    "\n",
    "        f_cur=(a*Kapp*Ki*Ai[i]*Aj[i])/((B*Ki*Kda[i])+(B*Kda[i]*MTX)+(Kapp*Ki*Ai[i]*Aj[i]))\n",
    "        f_c.append(f_cur)\n",
    "#         print(f_c)\n",
    "\n",
    "\n",
    "        A.append(min(Ai[i],Aj[i])+Ai[i])\n",
    "#         print(A,'\\n')\n",
    "    \n",
    "    return A,f_c\n",
    "#     print(A_total,'\\n')\n",
    "#     print(f_exp,'\\n')\n",
    "#     print(f_curr,'\\n')"
   ]
  },
  {
   "cell_type": "code",
   "execution_count": 14,
   "id": "d4263ee1",
   "metadata": {},
   "outputs": [],
   "source": [
    "def fitness_exp(df):\n",
    "    f_exp=[]\n",
    "    for i in range(len(df)):\n",
    "        f_exp_c=(1/96)*math.log(df['Colony_Size'][i]/20)\n",
    "        f_exp.append(f_exp_c)\n",
    "\n",
    "    return f_exp"
   ]
  },
  {
   "cell_type": "code",
   "execution_count": 15,
   "id": "a8dd7835",
   "metadata": {},
   "outputs": [],
   "source": [
    "def Kd_n(Kd):\n",
    "    \n",
    "    ddg=random.gauss(mu, sigma)\n",
    "    Kd_new=[element * math.exp(B*ddg) for element in Kd]\n",
    "    return Kd_new"
   ]
  },
  {
   "cell_type": "code",
   "execution_count": 16,
   "id": "633069f7",
   "metadata": {},
   "outputs": [],
   "source": [
    "def cost(A_total, f_exp, f_curr):\n",
    "    f_sub=0\n",
    "    A_sub=0\n",
    "    for i in range(len(df)):\n",
    "        f_sub+=(f_curr[i]-f_exp[i])**2\n",
    "#         print(f_sub)\n",
    "        if(len(abd.loc[abd['Standard Name'].str.contains(df['Protein_A'][i], case=False)]['Mean molecules per cell'][:1])>0):      \n",
    "            A_sub+=(A_total[i]-abd.loc[abd['Standard Name'].str.contains(df['Protein_A'][i], case=False)]['Mean molecules per cell'][:1].values[0])\n",
    "        elif(len(abd.loc[abd['Systematic Name'].str.contains(df['Protein_A'][i], case=False)]['Mean molecules per cell'][:1])>0):      \n",
    "            A_sub+=(A_total[i]-abd.loc[abd['Systematic Name'].str.contains(df['Protein_A'][i], case=False)]['Mean molecules per cell'][:1].values[0])\n",
    "        else:\n",
    "            print(df['Protein_A'][i])\n",
    "    \n",
    "#     print(f_sub,A_sub)\n",
    "    cost=f_sub+(A_sub**2)\n",
    "    return cost\n",
    "#     print('Cost: ',cost)\n",
    "#     print(f_sub)\n",
    "#     print(A_sub**2)"
   ]
  },
  {
   "cell_type": "code",
   "execution_count": 17,
   "id": "aa6712a2",
   "metadata": {},
   "outputs": [],
   "source": [
    "# mu = 1\n",
    "# sigma = 1.7\n",
    "# B=-0.01\n",
    "\n",
    "# f_exp=fitness_exp(df)\n",
    "# Kd_new=Kd_n(Kd)\n",
    "# A_total, f_curr=fitness(Kd, Ai, Aj)\n",
    "# A_total_new, f_curr_new=fitness(Kd_new, Ai, Aj)\n",
    "# C_old=cost(A_total, f_exp, f_curr)\n",
    "# print('\\n\\n')\n",
    "# C_new=cost(A_total_new, f_exp, f_curr_new)\n",
    "# print(Kd,'\\n\\n',Kd_new,'\\n\\n',f_curr,'\\n\\n',f_curr_new,'\\n\\n',C_old,'\\n\\n',C_new)"
   ]
  },
  {
   "cell_type": "code",
   "execution_count": null,
   "id": "663007c5",
   "metadata": {},
   "outputs": [],
   "source": []
  },
  {
   "cell_type": "code",
   "execution_count": 18,
   "id": "826017fc",
   "metadata": {},
   "outputs": [],
   "source": [
    "# a=Kd_n(Kd)\n",
    "# a"
   ]
  },
  {
   "cell_type": "code",
   "execution_count": 19,
   "id": "c0932f6d",
   "metadata": {},
   "outputs": [
    {
     "data": {
      "text/plain": [
       "[8906.389122802286,\n",
       " 4675.971832907027,\n",
       " 3547.4999449402476,\n",
       " 6145.640461722801,\n",
       " 1525.9354196037273,\n",
       " 9271.824410284384,\n",
       " 2979.295619478183,\n",
       " 7407.251921322247,\n",
       " 479.8931522463074,\n",
       " 6875.444391126406]"
      ]
     },
     "execution_count": 19,
     "metadata": {},
     "output_type": "execute_result"
    }
   ],
   "source": [
    "Kd"
   ]
  },
  {
   "cell_type": "code",
   "execution_count": null,
   "id": "942d90f5",
   "metadata": {},
   "outputs": [],
   "source": []
  },
  {
   "cell_type": "code",
   "execution_count": null,
   "id": "205a182c",
   "metadata": {},
   "outputs": [],
   "source": []
  },
  {
   "cell_type": "code",
   "execution_count": 20,
   "id": "8488e636",
   "metadata": {
    "scrolled": true
   },
   "outputs": [
    {
     "data": {
      "text/plain": [
       "([1189.8395425549688,\n",
       "  521.5495817531701,\n",
       "  50.220875869463185,\n",
       "  682.4129306266349,\n",
       "  198.89020923583524,\n",
       "  36.3836455657306,\n",
       "  363.6328569991932,\n",
       "  301.353593971172,\n",
       "  430.5059165881315,\n",
       "  554.8343059222219],\n",
       " [3.72576070665402e-06,\n",
       "  2.3301159492006834e-06,\n",
       "  1.0299860029005071e-08,\n",
       "  1.8996195462225303e-06,\n",
       "  5.748116832807387e-07,\n",
       "  2.2191641471167737e-08,\n",
       "  2.4290958448063223e-06,\n",
       "  2.06217277423062e-07,\n",
       "  1.636426639538773e-05,\n",
       "  1.9581388567168587e-06])"
      ]
     },
     "execution_count": 20,
     "metadata": {},
     "output_type": "execute_result"
    }
   ],
   "source": [
    "A_total, f_curr=fitness(Kd, Ai, Aj)\n",
    "A_total, f_curr"
   ]
  },
  {
   "cell_type": "code",
   "execution_count": 21,
   "id": "ff392167",
   "metadata": {},
   "outputs": [
    {
     "data": {
      "text/plain": [
       "[8906.389122802286,\n",
       " 4675.971832907027,\n",
       " 3547.4999449402476,\n",
       " 6145.640461722801,\n",
       " 1525.9354196037273,\n",
       " 9271.824410284384,\n",
       " 2979.295619478183,\n",
       " 7407.251921322247,\n",
       " 479.8931522463074,\n",
       " 6875.444391126406]"
      ]
     },
     "execution_count": 21,
     "metadata": {},
     "output_type": "execute_result"
    }
   ],
   "source": [
    "Kd"
   ]
  },
  {
   "cell_type": "code",
   "execution_count": 22,
   "id": "5fa434b8",
   "metadata": {
    "scrolled": true
   },
   "outputs": [
    {
     "data": {
      "image/png": "[encoded data removed]",
      "text/plain": [
       "<Figure size 432x288 with 1 Axes>"
      ]
     },
     "metadata": {
      "needs_background": "light"
     },
     "output_type": "display_data"
    }
   ],
   "source": [
    "t=0\n",
    "\n",
    "mu = 1\n",
    "sigma = 1.7\n",
    "B=-0.01\n",
    "dC_array=[]\n",
    "C_new_array=[]\n",
    "while(t<2000):\n",
    "    \n",
    "    f_exp=fitness_exp(df)\n",
    "    Kd_new=Kd_n(Kd)\n",
    "    A_total, f_curr=fitness(Kd, Ai, Aj)\n",
    "    A_total_new, f_curr_new=fitness(Kd_new, Ai, Aj)\n",
    "    C_old=cost(A_total, f_exp, f_curr)\n",
    "    C_new=cost(A_total_new, f_exp, f_curr_new)\n",
    "    dC=C_new-C_old\n",
    "    \n",
    "#     dC_array.append(dC)\n",
    "    C_new_array.append(C_new)\n",
    "#     print(t,B,dC)\n",
    "    \n",
    "#     print(Kd,'\\n\\n',Kd_new,'\\n\\n',A_total,'\\n\\n',A_total_new,'\\n\\n',C_new,C_old,dC)\n",
    "    if((random.random()<=math.exp(B*dC)) and dC<=0):\n",
    "#         print('1')\n",
    "        Kd_new_temp=Kd_new\n",
    "    else:\n",
    "#         print('2')\n",
    "        Kd_new_temp=Kd\n",
    "    \n",
    "    Kd=Kd_new_temp\n",
    "    t=t+1\n",
    "    \n",
    "#     E_a=random.gauss(0, 1)\n",
    "#     E_b=random.gauss(0, 1)\n",
    "#     Ai=[element*(10**E_a) for element in Ai]\n",
    "#     Aj=[element*(10**E_b) for element in Aj]\n",
    "    \n",
    "#     count=0\n",
    "#     x=[]\n",
    "#     y=C_new_array\n",
    "\n",
    "#     for a in range(len(y)):\n",
    "#         x.append(a)\n",
    "\n",
    "#     plt.plot(x,y)\n",
    "#     plt.show()\n",
    "#     clear_output(wait=False)\n",
    "\n",
    "#     print(t,B,dC)\n",
    "#     if dC<=math.exp(-3):\n",
    "#         break\n",
    "    \n",
    "# print(Kd,'\\n\\n', Kd_new,'\\n\\n', Kd_new_temp,'\\n\\n',dC,'\\n TIME:',t)\n",
    "\n",
    "count=0\n",
    "x=[]\n",
    "y=C_new_array\n",
    "\n",
    "for a in range(len(y)):\n",
    "    x.append(a)\n",
    "    \n",
    "plt.plot(x,y)\n",
    "plt.show()"
   ]
  },
  {
   "cell_type": "code",
   "execution_count": 34,
   "id": "0233b0d2",
   "metadata": {},
   "outputs": [
    {
     "data": {
      "text/plain": [
       "[231.2563117375754,\n",
       " 93.62430876248142,\n",
       " 14.61754417698613,\n",
       " 122.50117947699712,\n",
       " 44.48441320258421,\n",
       " 6.531294023667281,\n",
       " 65.27639187330014,\n",
       " 83.09360083942853,\n",
       " 77.28089575536758,\n",
       " 99.59930980112121]"
      ]
     },
     "execution_count": 34,
     "metadata": {},
     "output_type": "execute_result"
    }
   ],
   "source": [
    "Ai"
   ]
  },
  {
   "cell_type": "code",
   "execution_count": 51,
   "id": "271e577d",
   "metadata": {},
   "outputs": [
    {
     "data": {
      "text/plain": [
       "[<matplotlib.lines.Line2D at 0x7ff5240d3400>]"
      ]
     },
     "execution_count": 51,
     "metadata": {},
     "output_type": "execute_result"
    },
    {
     "data": {
      "image/png": "[encoded data removed]",
      "text/plain": [
       "<Figure size 432x288 with 1 Axes>"
      ]
     },
     "metadata": {
      "needs_background": "light"
     },
     "output_type": "display_data"
    }
   ],
   "source": [
    "# data = np.random.normal(0, 1, 1000)\n",
    "data=pro_A\n",
    "_, bins, _ = plt.hist(Ai, 100, density=1, alpha=0.5)\n",
    "\n",
    "mu, sigma = scipy.stats.norm.fit(data)\n",
    "best_fit_line = scipy.stats.norm.pdf(bins, mu, sigma)\n",
    "plt.plot(bins, best_fit_line)"
   ]
  },
  {
   "cell_type": "code",
   "execution_count": 49,
   "id": "e1f24753",
   "metadata": {},
   "outputs": [
    {
     "data": {
      "text/plain": [
       "[<matplotlib.lines.Line2D at 0x7ff52437b400>]"
      ]
     },
     "execution_count": 49,
     "metadata": {},
     "output_type": "execute_result"
    },
    {
     "data": {
      "image/png": "[encoded data removed]",
      "text/plain": [
       "<Figure size 432x288 with 1 Axes>"
      ]
     },
     "metadata": {
      "needs_background": "light"
     },
     "output_type": "display_data"
    }
   ],
   "source": [
    "# data = np.random.normal(0, 1, 1000)\n",
    "data=pro_A\n",
    "_, bins, _ = plt.hist(Aj, 100, density=1, alpha=0.5)\n",
    "\n",
    "mu, sigma = scipy.stats.norm.fit(data)\n",
    "best_fit_line = scipy.stats.norm.pdf(bins, mu, sigma)\n",
    "plt.plot(bins, best_fit_line)"
   ]
  },
  {
   "cell_type": "code",
   "execution_count": 47,
   "id": "7e93b5dc",
   "metadata": {},
   "outputs": [
    {
     "data": {
      "text/plain": [
       "[<matplotlib.lines.Line2D at 0x7ff524498fd0>]"
      ]
     },
     "execution_count": 47,
     "metadata": {},
     "output_type": "execute_result"
    },
    {
     "data": {
      "image/png": "[encoded data removed]",
      "text/plain": [
       "<Figure size 432x288 with 1 Axes>"
      ]
     },
     "metadata": {
      "needs_background": "light"
     },
     "output_type": "display_data"
    }
   ],
   "source": [
    "# data = np.random.normal(0, 1, 1000)\n",
    "data=pro_A\n",
    "_, bins, _ = plt.hist(data, 100, density=1, alpha=0.5)\n",
    "\n",
    "mu, sigma = scipy.stats.norm.fit(data)\n",
    "best_fit_line = scipy.stats.norm.pdf(bins, mu, sigma)\n",
    "plt.plot(bins, best_fit_line)"
   ]
  },
  {
   "cell_type": "code",
   "execution_count": 25,
   "id": "5b03eb99",
   "metadata": {},
   "outputs": [
    {
     "data": {
      "text/plain": [
       "[<matplotlib.lines.Line2D at 0x7ff5262da370>]"
      ]
     },
     "execution_count": 25,
     "metadata": {},
     "output_type": "execute_result"
    },
    {
     "data": {
      "image/png": "[encoded data removed]",
      "text/plain": [
       "<Figure size 432x288 with 1 Axes>"
      ]
     },
     "metadata": {
      "needs_background": "light"
     },
     "output_type": "display_data"
    }
   ],
   "source": [
    "import scipy\n",
    "from scipy.stats import norm\n",
    "\n",
    "# data = np.random.normal(0, 1, 1000)\n",
    "data=pro_B\n",
    "_, bins, _ = plt.hist(data, 100, density=1, alpha=0.5)\n",
    "\n",
    "mu, sigma = scipy.stats.norm.fit(data)\n",
    "best_fit_line = scipy.stats.norm.pdf(bins, mu, sigma)\n",
    "plt.plot(bins, best_fit_line)"
   ]
  },
  {
   "cell_type": "code",
   "execution_count": 26,
   "id": "3cb52cd6",
   "metadata": {},
   "outputs": [
    {
     "data": {
      "text/plain": [
       "(array([1.09830765e-03, 1.16163928e-03, 1.21375614e-03, 1.25286553e-03,\n",
       "        1.27758661e-03, 1.28703132e-03, 1.28085731e-03, 1.25928856e-03,\n",
       "        1.22310188e-03, 1.17358049e-03, 1.11243847e-03, 1.04172237e-03,\n",
       "        9.63697760e-04, 8.80729577e-04, 7.95164868e-04, 7.09226014e-04,\n",
       "        6.24920831e-04, 5.43974093e-04, 4.67782858e-04, 3.97395789e-04,\n",
       "        3.33514783e-04, 2.76515696e-04, 2.26483913e-04, 1.83260050e-04,\n",
       "        1.46491057e-04, 1.15682402e-04, 9.02477431e-05, 6.95533857e-05,\n",
       "        5.29557437e-05, 3.98309568e-05, 2.95965628e-05, 2.17257454e-05,\n",
       "        1.57550928e-05, 1.12870414e-05, 7.98825904e-06, 5.58517818e-06,\n",
       "        3.85775637e-06, 2.63236090e-06, 1.77447113e-06, 1.18169477e-06,\n",
       "        7.77417948e-07, 5.05262052e-07, 3.24408087e-07, 2.05768804e-07,\n",
       "        1.28937803e-07, 7.98167182e-08, 4.88112963e-08, 2.94889756e-08,\n",
       "        1.75999690e-08, 1.03771236e-08, 6.04442435e-09, 3.47812972e-09,\n",
       "        1.97719487e-09, 1.11036572e-09, 6.16020957e-10, 3.37627490e-10,\n",
       "        1.82807068e-10, 9.77824778e-11, 5.16704167e-11, 2.69734042e-11,\n",
       "        1.39104900e-11, 7.08699239e-12, 3.56692827e-12, 1.77353456e-12,\n",
       "        8.71159763e-13, 4.22735608e-13, 2.02652854e-13, 9.59730924e-14,\n",
       "        4.49013216e-14, 2.07530356e-14, 9.47582448e-15, 4.27430251e-15,\n",
       "        1.90469910e-15, 8.38494785e-16, 3.64659244e-16, 1.56670403e-16,\n",
       "        6.64966187e-17, 2.78820715e-17, 1.15495053e-17, 4.72622723e-18,\n",
       "        1.91063921e-18, 7.63054651e-19, 3.01054742e-19, 1.17340564e-19,\n",
       "        4.51818224e-20, 1.71866877e-20, 6.45852729e-21, 2.39766047e-21,\n",
       "        8.79335766e-22, 3.18591852e-22, 1.14032189e-22, 4.03211703e-23,\n",
       "        1.40848319e-23, 4.86052384e-24, 1.65701851e-24, 5.58064647e-25,\n",
       "        1.85675471e-25, 6.10291649e-26, 1.98167848e-26, 6.35684802e-27,\n",
       "        2.01448174e-27]),\n",
       " array([1.3000000e-01, 3.4328700e+01, 6.8527400e+01, 1.0272610e+02,\n",
       "        1.3692480e+02, 1.7112350e+02, 2.0532220e+02, 2.3952090e+02,\n",
       "        2.7371960e+02, 3.0791830e+02, 3.4211700e+02, 3.7631570e+02,\n",
       "        4.1051440e+02, 4.4471310e+02, 4.7891180e+02, 5.1311050e+02,\n",
       "        5.4730920e+02, 5.8150790e+02, 6.1570660e+02, 6.4990530e+02,\n",
       "        6.8410400e+02, 7.1830270e+02, 7.5250140e+02, 7.8670010e+02,\n",
       "        8.2089880e+02, 8.5509750e+02, 8.8929620e+02, 9.2349490e+02,\n",
       "        9.5769360e+02, 9.9189230e+02, 1.0260910e+03, 1.0602897e+03,\n",
       "        1.0944884e+03, 1.1286871e+03, 1.1628858e+03, 1.1970845e+03,\n",
       "        1.2312832e+03, 1.2654819e+03, 1.2996806e+03, 1.3338793e+03,\n",
       "        1.3680780e+03, 1.4022767e+03, 1.4364754e+03, 1.4706741e+03,\n",
       "        1.5048728e+03, 1.5390715e+03, 1.5732702e+03, 1.6074689e+03,\n",
       "        1.6416676e+03, 1.6758663e+03, 1.7100650e+03, 1.7442637e+03,\n",
       "        1.7784624e+03, 1.8126611e+03, 1.8468598e+03, 1.8810585e+03,\n",
       "        1.9152572e+03, 1.9494559e+03, 1.9836546e+03, 2.0178533e+03,\n",
       "        2.0520520e+03, 2.0862507e+03, 2.1204494e+03, 2.1546481e+03,\n",
       "        2.1888468e+03, 2.2230455e+03, 2.2572442e+03, 2.2914429e+03,\n",
       "        2.3256416e+03, 2.3598403e+03, 2.3940390e+03, 2.4282377e+03,\n",
       "        2.4624364e+03, 2.4966351e+03, 2.5308338e+03, 2.5650325e+03,\n",
       "        2.5992312e+03, 2.6334299e+03, 2.6676286e+03, 2.7018273e+03,\n",
       "        2.7360260e+03, 2.7702247e+03, 2.8044234e+03, 2.8386221e+03,\n",
       "        2.8728208e+03, 2.9070195e+03, 2.9412182e+03, 2.9754169e+03,\n",
       "        3.0096156e+03, 3.0438143e+03, 3.0780130e+03, 3.1122117e+03,\n",
       "        3.1464104e+03, 3.1806091e+03, 3.2148078e+03, 3.2490065e+03,\n",
       "        3.2832052e+03, 3.3174039e+03, 3.3516026e+03, 3.3858013e+03,\n",
       "        3.4200000e+03]))"
      ]
     },
     "execution_count": 26,
     "metadata": {},
     "output_type": "execute_result"
    }
   ],
   "source": [
    "best_fit_line,bins"
   ]
  },
  {
   "cell_type": "code",
   "execution_count": 27,
   "id": "2dad9f0f",
   "metadata": {},
   "outputs": [
    {
     "data": {
      "text/plain": [
       "[9744075045.677946, 10564895908.999384]"
      ]
     },
     "execution_count": 27,
     "metadata": {},
     "output_type": "execute_result"
    }
   ],
   "source": [
    "C_new_array"
   ]
  },
  {
   "cell_type": "code",
   "execution_count": 28,
   "id": "50c904ed",
   "metadata": {},
   "outputs": [
    {
     "data": {
      "text/plain": [
       "[9744075045.677946, 10564895908.999384]"
      ]
     },
     "execution_count": 28,
     "metadata": {},
     "output_type": "execute_result"
    }
   ],
   "source": [
    "C_new_array[-10:]"
   ]
  },
  {
   "cell_type": "code",
   "execution_count": 29,
   "id": "3df54fc3",
   "metadata": {},
   "outputs": [
    {
     "data": {
      "text/plain": [
       "[9047.139687542807,\n",
       " 4749.867736972957,\n",
       " 3603.5622406453563,\n",
       " 6242.7620172435545,\n",
       " 1550.0502734581264,\n",
       " 9418.350067756654,\n",
       " 3026.378397379378,\n",
       " 7524.311133167392,\n",
       " 487.47705985043916,\n",
       " 6984.099275563861]"
      ]
     },
     "execution_count": 29,
     "metadata": {},
     "output_type": "execute_result"
    }
   ],
   "source": [
    "Kd"
   ]
  },
  {
   "cell_type": "code",
   "execution_count": null,
   "id": "e228b6ad",
   "metadata": {},
   "outputs": [],
   "source": []
  }
 ],
 "metadata": {
  "kernelspec": {
   "display_name": "Python 3 (ipykernel)",
   "language": "python",
   "name": "python3"
  },
  "language_info": {
   "codemirror_mode": {
    "name": "ipython",
    "version": 3
   },
   "file_extension": ".py",
   "mimetype": "text/x-python",
   "name": "python",
   "nbconvert_exporter": "python",
   "pygments_lexer": "ipython3",
   "version": "3.9.12"
  }
 },
 "nbformat": 4,
 "nbformat_minor": 5
}
