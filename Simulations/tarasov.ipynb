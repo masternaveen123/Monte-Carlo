{
 "cells": [
  {
   "cell_type": "code",
   "execution_count": 326,
   "id": "5d74f3bd",
   "metadata": {},
   "outputs": [],
   "source": [
    "import pandas as pd \n",
    "import random\n",
    "import math"
   ]
  },
  {
   "cell_type": "code",
   "execution_count": 327,
   "id": "c0534efe",
   "metadata": {},
   "outputs": [
    {
     "data": {
      "text/html": [
       "<div>\n",
       "<style scoped>\n",
       "    .dataframe tbody tr th:only-of-type {\n",
       "        vertical-align: middle;\n",
       "    }\n",
       "\n",
       "    .dataframe tbody tr th {\n",
       "        vertical-align: top;\n",
       "    }\n",
       "\n",
       "    .dataframe thead th {\n",
       "        text-align: right;\n",
       "    }\n",
       "</style>\n",
       "<table border=\"1\" class=\"dataframe\">\n",
       "  <thead>\n",
       "    <tr style=\"text-align: right;\">\n",
       "      <th></th>\n",
       "      <th>Protein_A</th>\n",
       "      <th>Protein_B</th>\n",
       "      <th>Abd_A</th>\n",
       "      <th>Abd_B</th>\n",
       "      <th>Colony_Size</th>\n",
       "    </tr>\n",
       "  </thead>\n",
       "  <tbody>\n",
       "    <tr>\n",
       "      <th>0</th>\n",
       "      <td>AAR2</td>\n",
       "      <td>LSM1</td>\n",
       "      <td>2.55</td>\n",
       "      <td>1066.00</td>\n",
       "      <td>23584</td>\n",
       "    </tr>\n",
       "    <tr>\n",
       "      <th>1</th>\n",
       "      <td>ABD1</td>\n",
       "      <td>TAF2</td>\n",
       "      <td>18.40</td>\n",
       "      <td>8.01</td>\n",
       "      <td>21605</td>\n",
       "    </tr>\n",
       "    <tr>\n",
       "      <th>2</th>\n",
       "      <td>ABD1</td>\n",
       "      <td>ECM4</td>\n",
       "      <td>18.40</td>\n",
       "      <td>21.90</td>\n",
       "      <td>21005</td>\n",
       "    </tr>\n",
       "    <tr>\n",
       "      <th>3</th>\n",
       "      <td>ABD1</td>\n",
       "      <td>RNR2</td>\n",
       "      <td>18.40</td>\n",
       "      <td>352.00</td>\n",
       "      <td>21044</td>\n",
       "    </tr>\n",
       "    <tr>\n",
       "      <th>4</th>\n",
       "      <td>ABF2</td>\n",
       "      <td>UBP6</td>\n",
       "      <td>640.00</td>\n",
       "      <td>126.00</td>\n",
       "      <td>21573</td>\n",
       "    </tr>\n",
       "    <tr>\n",
       "      <th>...</th>\n",
       "      <td>...</td>\n",
       "      <td>...</td>\n",
       "      <td>...</td>\n",
       "      <td>...</td>\n",
       "      <td>...</td>\n",
       "    </tr>\n",
       "    <tr>\n",
       "      <th>8554</th>\n",
       "      <td>ZIP2</td>\n",
       "      <td>DBP5</td>\n",
       "      <td>1.60</td>\n",
       "      <td>156.00</td>\n",
       "      <td>22056</td>\n",
       "    </tr>\n",
       "    <tr>\n",
       "      <th>8555</th>\n",
       "      <td>ZPR1</td>\n",
       "      <td>TAF2</td>\n",
       "      <td>119.00</td>\n",
       "      <td>8.01</td>\n",
       "      <td>22383</td>\n",
       "    </tr>\n",
       "    <tr>\n",
       "      <th>8556</th>\n",
       "      <td>ZPR1</td>\n",
       "      <td>ECM4</td>\n",
       "      <td>119.00</td>\n",
       "      <td>21.90</td>\n",
       "      <td>21555</td>\n",
       "    </tr>\n",
       "    <tr>\n",
       "      <th>8557</th>\n",
       "      <td>ZPR1</td>\n",
       "      <td>RNR2</td>\n",
       "      <td>119.00</td>\n",
       "      <td>352.00</td>\n",
       "      <td>38017</td>\n",
       "    </tr>\n",
       "    <tr>\n",
       "      <th>8558</th>\n",
       "      <td>ZRT3</td>\n",
       "      <td>TPM2</td>\n",
       "      <td>20.70</td>\n",
       "      <td>405.00</td>\n",
       "      <td>20805</td>\n",
       "    </tr>\n",
       "  </tbody>\n",
       "</table>\n",
       "<p>8559 rows × 5 columns</p>\n",
       "</div>"
      ],
      "text/plain": [
       "     Protein_A Protein_B   Abd_A    Abd_B  Colony_Size\n",
       "0         AAR2      LSM1    2.55  1066.00        23584\n",
       "1         ABD1      TAF2   18.40     8.01        21605\n",
       "2         ABD1      ECM4   18.40    21.90        21005\n",
       "3         ABD1      RNR2   18.40   352.00        21044\n",
       "4         ABF2      UBP6  640.00   126.00        21573\n",
       "...        ...       ...     ...      ...          ...\n",
       "8554      ZIP2      DBP5    1.60   156.00        22056\n",
       "8555      ZPR1      TAF2  119.00     8.01        22383\n",
       "8556      ZPR1      ECM4  119.00    21.90        21555\n",
       "8557      ZPR1      RNR2  119.00   352.00        38017\n",
       "8558      ZRT3      TPM2   20.70   405.00        20805\n",
       "\n",
       "[8559 rows x 5 columns]"
      ]
     },
     "execution_count": 327,
     "metadata": {},
     "output_type": "execute_result"
    }
   ],
   "source": [
    "df = pd.read_csv(\"tarassov_important_interactions.csv\") \n",
    "df"
   ]
  },
  {
   "cell_type": "code",
   "execution_count": 328,
   "id": "46d7e2d1",
   "metadata": {},
   "outputs": [
    {
     "name": "stdout",
     "output_type": "stream",
     "text": [
      "9310.0 0.0 3420.0 0.13\n"
     ]
    },
    {
     "data": {
      "text/plain": [
       "(9310, 0, 3420, 0)"
      ]
     },
     "execution_count": 328,
     "metadata": {},
     "output_type": "execute_result"
    }
   ],
   "source": [
    "Ai_max,Ai_min,Aj_max,Aj_min=df['Abd_A'].max(),df['Abd_A'].min(),df['Abd_B'].max(),df['Abd_B'].min()\n",
    "print(Ai_max,Ai_min,Aj_max,Aj_min)\n",
    "# print(math.ceil(Ai_max),math.floor(Ai_min),math.ceil(Aj_max),math.floor(Aj_min))\n",
    "Ai_max,Ai_min,Aj_max,Aj_min=math.ceil(Ai_max),math.floor(Ai_min),math.ceil(Aj_max),math.floor(Aj_min)\n",
    "Ai_max,Ai_min,Aj_max,Aj_min"
   ]
  },
  {
   "cell_type": "code",
   "execution_count": 329,
   "id": "434d6de4",
   "metadata": {},
   "outputs": [],
   "source": [
    "df.sort_values(by=['Colony_Size'], inplace=True, ascending=False)\n",
    "df=df[1:11]"
   ]
  },
  {
   "cell_type": "code",
   "execution_count": 330,
   "id": "612f2d2f",
   "metadata": {},
   "outputs": [],
   "source": [
    "# df\n",
    "df.reset_index(drop=True,inplace=True)"
   ]
  },
  {
   "cell_type": "code",
   "execution_count": 331,
   "id": "10dedc77",
   "metadata": {
    "scrolled": true
   },
   "outputs": [
    {
     "data": {
      "text/html": [
       "<div>\n",
       "<style scoped>\n",
       "    .dataframe tbody tr th:only-of-type {\n",
       "        vertical-align: middle;\n",
       "    }\n",
       "\n",
       "    .dataframe tbody tr th {\n",
       "        vertical-align: top;\n",
       "    }\n",
       "\n",
       "    .dataframe thead th {\n",
       "        text-align: right;\n",
       "    }\n",
       "</style>\n",
       "<table border=\"1\" class=\"dataframe\">\n",
       "  <thead>\n",
       "    <tr style=\"text-align: right;\">\n",
       "      <th></th>\n",
       "      <th>Protein_A</th>\n",
       "      <th>Protein_B</th>\n",
       "      <th>Abd_A</th>\n",
       "      <th>Abd_B</th>\n",
       "      <th>Colony_Size</th>\n",
       "    </tr>\n",
       "  </thead>\n",
       "  <tbody>\n",
       "    <tr>\n",
       "      <th>0</th>\n",
       "      <td>YNL190W</td>\n",
       "      <td>AGP1</td>\n",
       "      <td>835.0</td>\n",
       "      <td>10.6</td>\n",
       "      <td>214802</td>\n",
       "    </tr>\n",
       "    <tr>\n",
       "      <th>1</th>\n",
       "      <td>MET3</td>\n",
       "      <td>MET3</td>\n",
       "      <td>57.1</td>\n",
       "      <td>57.1</td>\n",
       "      <td>203046</td>\n",
       "    </tr>\n",
       "    <tr>\n",
       "      <th>2</th>\n",
       "      <td>SEC4</td>\n",
       "      <td>GDI1</td>\n",
       "      <td>234.0</td>\n",
       "      <td>172.0</td>\n",
       "      <td>194897</td>\n",
       "    </tr>\n",
       "    <tr>\n",
       "      <th>3</th>\n",
       "      <td>ERV29</td>\n",
       "      <td>AGP1</td>\n",
       "      <td>49.8</td>\n",
       "      <td>10.6</td>\n",
       "      <td>191611</td>\n",
       "    </tr>\n",
       "    <tr>\n",
       "      <th>4</th>\n",
       "      <td>YNL190W</td>\n",
       "      <td>GAP1</td>\n",
       "      <td>835.0</td>\n",
       "      <td>11.9</td>\n",
       "      <td>191457</td>\n",
       "    </tr>\n",
       "    <tr>\n",
       "      <th>5</th>\n",
       "      <td>VHS3</td>\n",
       "      <td>OST1</td>\n",
       "      <td>14.9</td>\n",
       "      <td>52.8</td>\n",
       "      <td>190626</td>\n",
       "    </tr>\n",
       "    <tr>\n",
       "      <th>6</th>\n",
       "      <td>VPH1</td>\n",
       "      <td>VMA13</td>\n",
       "      <td>149.0</td>\n",
       "      <td>207.0</td>\n",
       "      <td>182953</td>\n",
       "    </tr>\n",
       "    <tr>\n",
       "      <th>7</th>\n",
       "      <td>SRV2</td>\n",
       "      <td>SRV2</td>\n",
       "      <td>255.0</td>\n",
       "      <td>255.0</td>\n",
       "      <td>180483</td>\n",
       "    </tr>\n",
       "    <tr>\n",
       "      <th>8</th>\n",
       "      <td>YNL190W</td>\n",
       "      <td>OST1</td>\n",
       "      <td>835.0</td>\n",
       "      <td>52.8</td>\n",
       "      <td>179079</td>\n",
       "    </tr>\n",
       "    <tr>\n",
       "      <th>9</th>\n",
       "      <td>SHR3</td>\n",
       "      <td>GAP1</td>\n",
       "      <td>35.7</td>\n",
       "      <td>11.9</td>\n",
       "      <td>176711</td>\n",
       "    </tr>\n",
       "  </tbody>\n",
       "</table>\n",
       "</div>"
      ],
      "text/plain": [
       "  Protein_A Protein_B  Abd_A  Abd_B  Colony_Size\n",
       "0   YNL190W      AGP1  835.0   10.6       214802\n",
       "1      MET3      MET3   57.1   57.1       203046\n",
       "2      SEC4      GDI1  234.0  172.0       194897\n",
       "3     ERV29      AGP1   49.8   10.6       191611\n",
       "4   YNL190W      GAP1  835.0   11.9       191457\n",
       "5      VHS3      OST1   14.9   52.8       190626\n",
       "6      VPH1     VMA13  149.0  207.0       182953\n",
       "7      SRV2      SRV2  255.0  255.0       180483\n",
       "8   YNL190W      OST1  835.0   52.8       179079\n",
       "9      SHR3      GAP1   35.7   11.9       176711"
      ]
     },
     "execution_count": 331,
     "metadata": {},
     "output_type": "execute_result"
    }
   ],
   "source": [
    "df"
   ]
  },
  {
   "cell_type": "code",
   "execution_count": 332,
   "id": "bd2228f5",
   "metadata": {},
   "outputs": [
    {
     "data": {
      "text/plain": [
       "[9462, 5773, 6790, 1826, 318, 8728, 2248, 5233, 7613, 3999]"
      ]
     },
     "execution_count": 332,
     "metadata": {},
     "output_type": "execute_result"
    }
   ],
   "source": [
    "Kd = []\n",
    "for i in range(len(df)):\n",
    "       Kd_rand = random.randint(1, 10**4)\n",
    "       Kd.append(Kd_rand)\n",
    "\n",
    "Kd"
   ]
  },
  {
   "cell_type": "code",
   "execution_count": 333,
   "id": "aab72463",
   "metadata": {},
   "outputs": [
    {
     "name": "stdout",
     "output_type": "stream",
     "text": [
      "0 9310\n"
     ]
    },
    {
     "data": {
      "text/plain": [
       "[1191, 1216, 674, 9166, 6259, 2670, 4182, 4207, 1578, 4672]"
      ]
     },
     "execution_count": 333,
     "metadata": {},
     "output_type": "execute_result"
    }
   ],
   "source": [
    "Ai = []\n",
    "for i in range(len(df)):\n",
    "       Ai_rand = random.randint(Ai_min, Ai_max)\n",
    "       Ai.append(Ai_rand)\n",
    "\n",
    "print(Ai_min, Ai_max)\n",
    "Ai"
   ]
  },
  {
   "cell_type": "code",
   "execution_count": 334,
   "id": "787588cd",
   "metadata": {},
   "outputs": [
    {
     "name": "stdout",
     "output_type": "stream",
     "text": [
      "0 3420\n"
     ]
    },
    {
     "data": {
      "text/plain": [
       "[1788, 1271, 266, 2033, 538, 2166, 1020, 1875, 1549, 3025]"
      ]
     },
     "execution_count": 334,
     "metadata": {},
     "output_type": "execute_result"
    }
   ],
   "source": [
    "Aj = []\n",
    "for i in range(len(df)):\n",
    "       Aj_rand = random.randint(Aj_min, Aj_max)\n",
    "       Aj.append(Aj_rand)\n",
    "    \n",
    "print(Aj_min, Aj_max)\n",
    "Aj"
   ]
  },
  {
   "cell_type": "code",
   "execution_count": 335,
   "id": "7debcd15",
   "metadata": {},
   "outputs": [],
   "source": [
    "def fitness(Kda, Ai, Aj):\n",
    "    Ki=0.00054\n",
    "    a=0.1\n",
    "    B=1.3\n",
    "    MTX=440\n",
    "    Kapp=1\n",
    "\n",
    "    A_total=[]\n",
    "    f_curr=[]\n",
    "    f_exp=[]\n",
    "\n",
    "    for i in range(len(df)):\n",
    "\n",
    "        f_curr_c=(a*Kapp*Ki*Ai[i]*Aj[i])/((B*Ki*Kda[i])+(B*Kda[i]*MTX)+(Kapp*Ki*Ai[i]*Aj[i]))\n",
    "        f_curr.append(f_curr_c)\n",
    "    #     print(f_curr)\n",
    "\n",
    "\n",
    "        A_total.append(min(Ai[i],Aj[i])+Ai[i])\n",
    "    #     print(A_total,'\\n')\n",
    "\n",
    "        f_exp_c=(1/96)*math.log(df['Colony_Size'][i]/20)\n",
    "    #     print(f_exp)\n",
    "        f_exp.append(f_exp_c)\n",
    "    \n",
    "    return(A_total, f_exp, f_curr)\n",
    "#     print(A_total,'\\n')\n",
    "#     print(f_exp,'\\n')\n",
    "#     print(f_curr,'\\n')"
   ]
  },
  {
   "cell_type": "code",
   "execution_count": 337,
   "id": "8488e636",
   "metadata": {
    "scrolled": true
   },
   "outputs": [
    {
     "data": {
      "text/plain": [
       "([2382, 2432, 940, 11199, 6797, 4836, 5202, 6082, 3127, 7697],\n",
       " [0.0966847883229841,\n",
       "  0.09609849541442739,\n",
       "  0.09567181478452308,\n",
       "  0.09549469042281696,\n",
       "  0.09548631505994098,\n",
       "  0.09544100415289272,\n",
       "  0.09501304473626923,\n",
       "  0.09487145412437621,\n",
       "  0.09479010473634193,\n",
       "  0.09465144411688961],\n",
       " [2.1242286715378233e-05,\n",
       "  2.526765951618125e-05,\n",
       "  2.49263180083093e-06,\n",
       "  0.0009542224328509994,\n",
       "  0.000989776969062148,\n",
       "  6.251447557434609e-05,\n",
       "  0.00017881658873600593,\n",
       "  0.00014210280930516264,\n",
       "  3.030178175834506e-05,\n",
       "  0.0003325274120346989])"
      ]
     },
     "execution_count": 337,
     "metadata": {},
     "output_type": "execute_result"
    }
   ],
   "source": [
    "A_total, f_exp, f_curr=fitness(Kd, Ai, Aj)\n",
    "A_total, f_exp, f_curr"
   ]
  },
  {
   "cell_type": "code",
   "execution_count": null,
   "id": "7762b53e",
   "metadata": {},
   "outputs": [],
   "source": []
  },
  {
   "cell_type": "code",
   "execution_count": null,
   "id": "c42cf5c7",
   "metadata": {},
   "outputs": [],
   "source": []
  },
  {
   "cell_type": "code",
   "execution_count": null,
   "id": "c65d0ae3",
   "metadata": {},
   "outputs": [],
   "source": []
  },
  {
   "cell_type": "code",
   "execution_count": null,
   "id": "5a032bfe",
   "metadata": {},
   "outputs": [],
   "source": []
  },
  {
   "cell_type": "code",
   "execution_count": null,
   "id": "09e65aba",
   "metadata": {},
   "outputs": [],
   "source": []
  },
  {
   "cell_type": "code",
   "execution_count": null,
   "id": "e229e849",
   "metadata": {},
   "outputs": [],
   "source": []
  },
  {
   "cell_type": "code",
   "execution_count": null,
   "id": "284a3300",
   "metadata": {},
   "outputs": [],
   "source": []
  },
  {
   "cell_type": "code",
   "execution_count": null,
   "id": "1f363860",
   "metadata": {},
   "outputs": [],
   "source": []
  },
  {
   "cell_type": "code",
   "execution_count": 338,
   "id": "25b4f835",
   "metadata": {},
   "outputs": [],
   "source": [
    "mu = 1\n",
    "sigma = 1.7\n",
    "B=1\n",
    "  \n",
    "ddg=random.gauss(mu, sigma)\n",
    "\n",
    "Kd_new=[element * math.exp(B*ddg) for element in Kd]"
   ]
  },
  {
   "cell_type": "code",
   "execution_count": 339,
   "id": "70968745",
   "metadata": {},
   "outputs": [
    {
     "data": {
      "text/plain": [
       "([2382, 2432, 940, 11199, 6797, 4836, 5202, 6082, 3127, 7697],\n",
       " [0.0966847883229841,\n",
       "  0.09609849541442739,\n",
       "  0.09567181478452308,\n",
       "  0.09549469042281696,\n",
       "  0.09548631505994098,\n",
       "  0.09544100415289272,\n",
       "  0.09501304473626923,\n",
       "  0.09487145412437621,\n",
       "  0.09479010473634193,\n",
       "  0.09465144411688961],\n",
       " [3.174761138440189e-06,\n",
       "  3.776501642395133e-06,\n",
       "  3.724763068773606e-07,\n",
       "  0.00014375408823258485,\n",
       "  0.00014915587332586536,\n",
       "  9.346368387860928e-06,\n",
       "  2.6760866295744203e-05,\n",
       "  2.1259802258028585e-05,\n",
       "  4.529094977350011e-06,\n",
       "  4.982976723036009e-05])"
      ]
     },
     "execution_count": 339,
     "metadata": {},
     "output_type": "execute_result"
    }
   ],
   "source": [
    "A_total_new, f_exp_new, f_curr_new=fitness(Kd_new, Ai, Aj)\n",
    "A_total_new, f_exp_new, f_curr_new"
   ]
  },
  {
   "cell_type": "code",
   "execution_count": 340,
   "id": "5274fb44",
   "metadata": {},
   "outputs": [
    {
     "data": {
      "text/html": [
       "<div>\n",
       "<style scoped>\n",
       "    .dataframe tbody tr th:only-of-type {\n",
       "        vertical-align: middle;\n",
       "    }\n",
       "\n",
       "    .dataframe tbody tr th {\n",
       "        vertical-align: top;\n",
       "    }\n",
       "\n",
       "    .dataframe thead th {\n",
       "        text-align: right;\n",
       "    }\n",
       "</style>\n",
       "<table border=\"1\" class=\"dataframe\">\n",
       "  <thead>\n",
       "    <tr style=\"text-align: right;\">\n",
       "      <th></th>\n",
       "      <th>Systematic Name</th>\n",
       "      <th>Standard Name</th>\n",
       "      <th>Qualifier a</th>\n",
       "      <th>Mean molecules per cell</th>\n",
       "      <th>Median molecules per cell</th>\n",
       "      <th>Coefficient of Variation</th>\n",
       "      <th>LU</th>\n",
       "      <th>PENG</th>\n",
       "      <th>KUL</th>\n",
       "      <th>LAW</th>\n",
       "      <th>...</th>\n",
       "      <th>TKA</th>\n",
       "      <th>BRE</th>\n",
       "      <th>DEN</th>\n",
       "      <th>MAZ</th>\n",
       "      <th>CHO</th>\n",
       "      <th>YOF</th>\n",
       "      <th>NEW</th>\n",
       "      <th>LEE</th>\n",
       "      <th>DAV</th>\n",
       "      <th>GHA</th>\n",
       "    </tr>\n",
       "  </thead>\n",
       "  <tbody>\n",
       "    <tr>\n",
       "      <th>0</th>\n",
       "      <td>YMR191W</td>\n",
       "      <td>SPG5</td>\n",
       "      <td>Verified</td>\n",
       "      <td>3.359783e+00</td>\n",
       "      <td>3.359783</td>\n",
       "      <td>NaN</td>\n",
       "      <td>NaN</td>\n",
       "      <td>NaN</td>\n",
       "      <td>3.359783e+00</td>\n",
       "      <td>NaN</td>\n",
       "      <td>...</td>\n",
       "      <td>NaN</td>\n",
       "      <td>NaN</td>\n",
       "      <td>NaN</td>\n",
       "      <td>NaN</td>\n",
       "      <td>NaN</td>\n",
       "      <td>NaN</td>\n",
       "      <td>NaN</td>\n",
       "      <td>NaN</td>\n",
       "      <td>NaN</td>\n",
       "      <td>NaN</td>\n",
       "    </tr>\n",
       "    <tr>\n",
       "      <th>1</th>\n",
       "      <td>YJL093C</td>\n",
       "      <td>TOK1</td>\n",
       "      <td>Verified</td>\n",
       "      <td>3.804228e+00</td>\n",
       "      <td>3.804228</td>\n",
       "      <td>NaN</td>\n",
       "      <td>NaN</td>\n",
       "      <td>NaN</td>\n",
       "      <td>3.804228e+00</td>\n",
       "      <td>NaN</td>\n",
       "      <td>...</td>\n",
       "      <td>NaN</td>\n",
       "      <td>NaN</td>\n",
       "      <td>NaN</td>\n",
       "      <td>NaN</td>\n",
       "      <td>NaN</td>\n",
       "      <td>NaN</td>\n",
       "      <td>NaN</td>\n",
       "      <td>NaN</td>\n",
       "      <td>NaN</td>\n",
       "      <td>NaN</td>\n",
       "    </tr>\n",
       "    <tr>\n",
       "      <th>2</th>\n",
       "      <td>YER184C</td>\n",
       "      <td>TOG1</td>\n",
       "      <td>Verified</td>\n",
       "      <td>4.725730e+00</td>\n",
       "      <td>4.725730</td>\n",
       "      <td>NaN</td>\n",
       "      <td>NaN</td>\n",
       "      <td>NaN</td>\n",
       "      <td>4.725730e+00</td>\n",
       "      <td>NaN</td>\n",
       "      <td>...</td>\n",
       "      <td>NaN</td>\n",
       "      <td>NaN</td>\n",
       "      <td>NaN</td>\n",
       "      <td>NaN</td>\n",
       "      <td>NaN</td>\n",
       "      <td>NaN</td>\n",
       "      <td>NaN</td>\n",
       "      <td>NaN</td>\n",
       "      <td>NaN</td>\n",
       "      <td>NaN</td>\n",
       "    </tr>\n",
       "    <tr>\n",
       "      <th>3</th>\n",
       "      <td>YGL063W</td>\n",
       "      <td>PUS2</td>\n",
       "      <td>Verified</td>\n",
       "      <td>5.497247e+00</td>\n",
       "      <td>5.497247</td>\n",
       "      <td>NaN</td>\n",
       "      <td>NaN</td>\n",
       "      <td>NaN</td>\n",
       "      <td>5.497247e+00</td>\n",
       "      <td>NaN</td>\n",
       "      <td>...</td>\n",
       "      <td>NaN</td>\n",
       "      <td>NaN</td>\n",
       "      <td>NaN</td>\n",
       "      <td>NaN</td>\n",
       "      <td>NaN</td>\n",
       "      <td>NaN</td>\n",
       "      <td>NaN</td>\n",
       "      <td>NaN</td>\n",
       "      <td>NaN</td>\n",
       "      <td>NaN</td>\n",
       "    </tr>\n",
       "    <tr>\n",
       "      <th>4</th>\n",
       "      <td>YPL159C</td>\n",
       "      <td>PET20</td>\n",
       "      <td>Verified</td>\n",
       "      <td>6.922929e+00</td>\n",
       "      <td>6.922929</td>\n",
       "      <td>NaN</td>\n",
       "      <td>NaN</td>\n",
       "      <td>NaN</td>\n",
       "      <td>6.922929e+00</td>\n",
       "      <td>NaN</td>\n",
       "      <td>...</td>\n",
       "      <td>NaN</td>\n",
       "      <td>NaN</td>\n",
       "      <td>NaN</td>\n",
       "      <td>NaN</td>\n",
       "      <td>NaN</td>\n",
       "      <td>NaN</td>\n",
       "      <td>NaN</td>\n",
       "      <td>NaN</td>\n",
       "      <td>NaN</td>\n",
       "      <td>NaN</td>\n",
       "    </tr>\n",
       "    <tr>\n",
       "      <th>...</th>\n",
       "      <td>...</td>\n",
       "      <td>...</td>\n",
       "      <td>...</td>\n",
       "      <td>...</td>\n",
       "      <td>...</td>\n",
       "      <td>...</td>\n",
       "      <td>...</td>\n",
       "      <td>...</td>\n",
       "      <td>...</td>\n",
       "      <td>...</td>\n",
       "      <td>...</td>\n",
       "      <td>...</td>\n",
       "      <td>...</td>\n",
       "      <td>...</td>\n",
       "      <td>...</td>\n",
       "      <td>...</td>\n",
       "      <td>...</td>\n",
       "      <td>...</td>\n",
       "      <td>...</td>\n",
       "      <td>...</td>\n",
       "      <td>...</td>\n",
       "    </tr>\n",
       "    <tr>\n",
       "      <th>5386</th>\n",
       "      <td>YCR012W</td>\n",
       "      <td>PGK1</td>\n",
       "      <td>Verified</td>\n",
       "      <td>1.048126e+06</td>\n",
       "      <td>535389.467835</td>\n",
       "      <td>118.212499</td>\n",
       "      <td>1898620.0</td>\n",
       "      <td>370624.0</td>\n",
       "      <td>5.612653e+05</td>\n",
       "      <td>3.696853e+06</td>\n",
       "      <td>...</td>\n",
       "      <td>632360.321606</td>\n",
       "      <td>762925.325484</td>\n",
       "      <td>3.869733e+06</td>\n",
       "      <td>NaN</td>\n",
       "      <td>535389.467835</td>\n",
       "      <td>NaN</td>\n",
       "      <td>467325.245209</td>\n",
       "      <td>1.013168e+06</td>\n",
       "      <td>2.518955e+06</td>\n",
       "      <td>314000.0</td>\n",
       "    </tr>\n",
       "    <tr>\n",
       "      <th>5387</th>\n",
       "      <td>YLR044C</td>\n",
       "      <td>PDC1</td>\n",
       "      <td>Verified</td>\n",
       "      <td>1.334957e+06</td>\n",
       "      <td>581219.289895</td>\n",
       "      <td>167.610282</td>\n",
       "      <td>1335789.0</td>\n",
       "      <td>284185.0</td>\n",
       "      <td>7.056524e+05</td>\n",
       "      <td>4.366751e+06</td>\n",
       "      <td>...</td>\n",
       "      <td>749870.982279</td>\n",
       "      <td>458461.578265</td>\n",
       "      <td>8.719740e+06</td>\n",
       "      <td>NaN</td>\n",
       "      <td>802711.880877</td>\n",
       "      <td>NaN</td>\n",
       "      <td>581219.289895</td>\n",
       "      <td>1.152585e+06</td>\n",
       "      <td>4.778059e+06</td>\n",
       "      <td>8970.0</td>\n",
       "    </tr>\n",
       "    <tr>\n",
       "      <th>5388</th>\n",
       "      <td>YHR174W</td>\n",
       "      <td>ENO2</td>\n",
       "      <td>Verified</td>\n",
       "      <td>1.392599e+06</td>\n",
       "      <td>736616.685356</td>\n",
       "      <td>169.701905</td>\n",
       "      <td>3055113.0</td>\n",
       "      <td>96517.0</td>\n",
       "      <td>9.298181e+05</td>\n",
       "      <td>9.756854e+05</td>\n",
       "      <td>...</td>\n",
       "      <td>698792.974393</td>\n",
       "      <td>786698.099060</td>\n",
       "      <td>9.928852e+06</td>\n",
       "      <td>NaN</td>\n",
       "      <td>711030.657259</td>\n",
       "      <td>762202.713453</td>\n",
       "      <td>867615.284478</td>\n",
       "      <td>1.926174e+06</td>\n",
       "      <td>3.651029e+06</td>\n",
       "      <td>2610.0</td>\n",
       "    </tr>\n",
       "    <tr>\n",
       "      <th>5389</th>\n",
       "      <td>YKL060C</td>\n",
       "      <td>FBA1</td>\n",
       "      <td>Verified</td>\n",
       "      <td>1.160837e+06</td>\n",
       "      <td>737008.613917</td>\n",
       "      <td>151.923907</td>\n",
       "      <td>2044661.0</td>\n",
       "      <td>276079.0</td>\n",
       "      <td>8.476516e+05</td>\n",
       "      <td>NaN</td>\n",
       "      <td>...</td>\n",
       "      <td>811477.040646</td>\n",
       "      <td>932942.583979</td>\n",
       "      <td>7.403471e+06</td>\n",
       "      <td>NaN</td>\n",
       "      <td>662540.187189</td>\n",
       "      <td>NaN</td>\n",
       "      <td>541286.587601</td>\n",
       "      <td>1.107529e+06</td>\n",
       "      <td>3.317388e+06</td>\n",
       "      <td>1020000.0</td>\n",
       "    </tr>\n",
       "    <tr>\n",
       "      <th>5390</th>\n",
       "      <td>YGR192C</td>\n",
       "      <td>TDH3</td>\n",
       "      <td>Verified</td>\n",
       "      <td>1.371127e+06</td>\n",
       "      <td>746357.568074</td>\n",
       "      <td>139.553969</td>\n",
       "      <td>2003699.0</td>\n",
       "      <td>248743.0</td>\n",
       "      <td>1.575311e+06</td>\n",
       "      <td>3.531903e+06</td>\n",
       "      <td>...</td>\n",
       "      <td>746357.568074</td>\n",
       "      <td>928368.697745</td>\n",
       "      <td>7.889502e+06</td>\n",
       "      <td>NaN</td>\n",
       "      <td>816996.457523</td>\n",
       "      <td>NaN</td>\n",
       "      <td>642009.529894</td>\n",
       "      <td>1.888509e+06</td>\n",
       "      <td>3.407017e+06</td>\n",
       "      <td>169000.0</td>\n",
       "    </tr>\n",
       "  </tbody>\n",
       "</table>\n",
       "<p>5391 rows × 27 columns</p>\n",
       "</div>"
      ],
      "text/plain": [
       "     Systematic Name Standard Name Qualifier a  Mean molecules per cell  \\\n",
       "0            YMR191W          SPG5    Verified             3.359783e+00   \n",
       "1            YJL093C          TOK1    Verified             3.804228e+00   \n",
       "2            YER184C          TOG1    Verified             4.725730e+00   \n",
       "3            YGL063W          PUS2    Verified             5.497247e+00   \n",
       "4            YPL159C         PET20    Verified             6.922929e+00   \n",
       "...              ...           ...         ...                      ...   \n",
       "5386         YCR012W          PGK1    Verified             1.048126e+06   \n",
       "5387         YLR044C          PDC1    Verified             1.334957e+06   \n",
       "5388         YHR174W          ENO2    Verified             1.392599e+06   \n",
       "5389         YKL060C          FBA1    Verified             1.160837e+06   \n",
       "5390         YGR192C          TDH3    Verified             1.371127e+06   \n",
       "\n",
       "      Median molecules per cell  Coefficient of Variation         LU  \\\n",
       "0                      3.359783                       NaN        NaN   \n",
       "1                      3.804228                       NaN        NaN   \n",
       "2                      4.725730                       NaN        NaN   \n",
       "3                      5.497247                       NaN        NaN   \n",
       "4                      6.922929                       NaN        NaN   \n",
       "...                         ...                       ...        ...   \n",
       "5386              535389.467835                118.212499  1898620.0   \n",
       "5387              581219.289895                167.610282  1335789.0   \n",
       "5388              736616.685356                169.701905  3055113.0   \n",
       "5389              737008.613917                151.923907  2044661.0   \n",
       "5390              746357.568074                139.553969  2003699.0   \n",
       "\n",
       "          PENG           KUL           LAW  ...            TKA            BRE  \\\n",
       "0          NaN  3.359783e+00           NaN  ...            NaN            NaN   \n",
       "1          NaN  3.804228e+00           NaN  ...            NaN            NaN   \n",
       "2          NaN  4.725730e+00           NaN  ...            NaN            NaN   \n",
       "3          NaN  5.497247e+00           NaN  ...            NaN            NaN   \n",
       "4          NaN  6.922929e+00           NaN  ...            NaN            NaN   \n",
       "...        ...           ...           ...  ...            ...            ...   \n",
       "5386  370624.0  5.612653e+05  3.696853e+06  ...  632360.321606  762925.325484   \n",
       "5387  284185.0  7.056524e+05  4.366751e+06  ...  749870.982279  458461.578265   \n",
       "5388   96517.0  9.298181e+05  9.756854e+05  ...  698792.974393  786698.099060   \n",
       "5389  276079.0  8.476516e+05           NaN  ...  811477.040646  932942.583979   \n",
       "5390  248743.0  1.575311e+06  3.531903e+06  ...  746357.568074  928368.697745   \n",
       "\n",
       "               DEN  MAZ            CHO            YOF            NEW  \\\n",
       "0              NaN  NaN            NaN            NaN            NaN   \n",
       "1              NaN  NaN            NaN            NaN            NaN   \n",
       "2              NaN  NaN            NaN            NaN            NaN   \n",
       "3              NaN  NaN            NaN            NaN            NaN   \n",
       "4              NaN  NaN            NaN            NaN            NaN   \n",
       "...            ...  ...            ...            ...            ...   \n",
       "5386  3.869733e+06  NaN  535389.467835            NaN  467325.245209   \n",
       "5387  8.719740e+06  NaN  802711.880877            NaN  581219.289895   \n",
       "5388  9.928852e+06  NaN  711030.657259  762202.713453  867615.284478   \n",
       "5389  7.403471e+06  NaN  662540.187189            NaN  541286.587601   \n",
       "5390  7.889502e+06  NaN  816996.457523            NaN  642009.529894   \n",
       "\n",
       "               LEE           DAV        GHA  \n",
       "0              NaN           NaN        NaN  \n",
       "1              NaN           NaN        NaN  \n",
       "2              NaN           NaN        NaN  \n",
       "3              NaN           NaN        NaN  \n",
       "4              NaN           NaN        NaN  \n",
       "...            ...           ...        ...  \n",
       "5386  1.013168e+06  2.518955e+06   314000.0  \n",
       "5387  1.152585e+06  4.778059e+06     8970.0  \n",
       "5388  1.926174e+06  3.651029e+06     2610.0  \n",
       "5389  1.107529e+06  3.317388e+06  1020000.0  \n",
       "5390  1.888509e+06  3.407017e+06   169000.0  \n",
       "\n",
       "[5391 rows x 27 columns]"
      ]
     },
     "execution_count": 340,
     "metadata": {},
     "output_type": "execute_result"
    }
   ],
   "source": [
    "abd = pd.read_csv(\"tarassov_protein_abundances.csv\") \n",
    "abd"
   ]
  },
  {
   "cell_type": "code",
   "execution_count": 341,
   "id": "034f100c",
   "metadata": {},
   "outputs": [
    {
     "data": {
      "text/plain": [
       "Index(['Systematic Name', 'Standard Name', 'Qualifier a',\n",
       "       'Mean molecules per cell', 'Median molecules per cell',\n",
       "       'Coefficient of Variation', 'LU', 'PENG', 'KUL', 'LAW', 'LAHT', 'DGD',\n",
       "       'LEE2', 'THAK', 'NAG', 'PIC', 'WEB', 'TKA', 'BRE', 'DEN', 'MAZ', 'CHO',\n",
       "       'YOF', 'NEW', 'LEE', 'DAV', 'GHA'],\n",
       "      dtype='object')"
      ]
     },
     "execution_count": 341,
     "metadata": {},
     "output_type": "execute_result"
    }
   ],
   "source": [
    "abd.columns"
   ]
  },
  {
   "cell_type": "code",
   "execution_count": 342,
   "id": "70c41270",
   "metadata": {
    "scrolled": true
   },
   "outputs": [
    {
     "data": {
      "text/plain": [
       "'YNL190W'"
      ]
     },
     "execution_count": 342,
     "metadata": {},
     "output_type": "execute_result"
    }
   ],
   "source": [
    "df['Protein_A'][0]"
   ]
  },
  {
   "cell_type": "code",
   "execution_count": 343,
   "id": "241fdc11",
   "metadata": {},
   "outputs": [
    {
     "data": {
      "text/plain": [
       "6045.12470422055"
      ]
     },
     "execution_count": 343,
     "metadata": {},
     "output_type": "execute_result"
    }
   ],
   "source": [
    "abd.loc[abd['Standard Name'].str.contains(df['Protein_A'][0], case=False)]['Mean molecules per cell'][:1].values[0]\n"
   ]
  },
  {
   "cell_type": "code",
   "execution_count": 442,
   "id": "03f13f3d",
   "metadata": {},
   "outputs": [
    {
     "data": {
      "text/plain": [
       "0    3.359783\n",
       "Name: Mean molecules per cell, dtype: float64"
      ]
     },
     "execution_count": 442,
     "metadata": {},
     "output_type": "execute_result"
    }
   ],
   "source": [
    "(abd.loc[abd['Standard Name'].str.contains('SPG5', case=False)]['Mean molecules per cell'][:1])\n",
    "# search['Mean molecules per cell'][:1].values[0]"
   ]
  },
  {
   "cell_type": "code",
   "execution_count": 345,
   "id": "d7e25c31",
   "metadata": {},
   "outputs": [
    {
     "data": {
      "text/plain": [
       "True"
      ]
     },
     "execution_count": 345,
     "metadata": {},
     "output_type": "execute_result"
    }
   ],
   "source": [
    "(len(abd.loc[abd['Standard Name'].str.contains(df['Protein_A'][i], case=False)]['Mean molecules per cell'][:1])>0) \n"
   ]
  },
  {
   "cell_type": "code",
   "execution_count": 346,
   "id": "1ae96a5c",
   "metadata": {},
   "outputs": [
    {
     "data": {
      "text/plain": [
       "Series([], Name: Mean molecules per cell, dtype: float64)"
      ]
     },
     "execution_count": 346,
     "metadata": {},
     "output_type": "execute_result"
    }
   ],
   "source": [
    "search = abd.loc[abd['Standard Name'].str.contains('abc', case=False)]\n",
    "search['Mean molecules per cell'][:1]"
   ]
  },
  {
   "cell_type": "code",
   "execution_count": 438,
   "id": "633069f7",
   "metadata": {},
   "outputs": [],
   "source": [
    "def cost(A_total, f_exp, f_curr):\n",
    "    f_sub=0\n",
    "    A_sub=0\n",
    "    for i in range(len(df)):\n",
    "        f_sub+=(f_curr[i]-f_exp[i])**2\n",
    "        if(len(abd.loc[abd['Standard Name'].str.contains(df['Protein_A'][i], case=False)]['Mean molecules per cell'][:1])>0):      \n",
    "            A_sub+=(A_total[i]-abd.loc[abd['Standard Name'].str.contains(df['Protein_A'][i], case=False)]['Mean molecules per cell'][:1].values[0])\n",
    "        elif(len(abd.loc[abd['Systematic Name'].str.contains(df['Protein_A'][i], case=False)]['Mean molecules per cell'][:1])>0):      \n",
    "            A_sub+=(A_total[i]-abd.loc[abd['Systematic Name'].str.contains(df['Protein_A'][i], case=False)]['Mean molecules per cell'][:1].values[0])\n",
    "        else:\n",
    "            print(df['Protein_A'][i])\n",
    "    \n",
    "    print(f_sub, A_sub)\n",
    "    cost=f_sub+(A_sub**2)\n",
    "    return cost\n",
    "#     print('Cost: ',cost)\n",
    "#     print(f_sub)\n",
    "#     print(A_sub**2)"
   ]
  },
  {
   "cell_type": "code",
   "execution_count": 439,
   "id": "a44b8cae",
   "metadata": {},
   "outputs": [
    {
     "name": "stdout",
     "output_type": "stream",
     "text": [
      "0.09053373665004466 -52347.70501745959\n"
     ]
    },
    {
     "data": {
      "text/plain": [
       "2740282220.685498"
      ]
     },
     "execution_count": 439,
     "metadata": {},
     "output_type": "execute_result"
    }
   ],
   "source": [
    "C_old=cost(A_total, f_exp, f_curr)\n",
    "C_old"
   ]
  },
  {
   "cell_type": "code",
   "execution_count": 349,
   "id": "64ee1ff5",
   "metadata": {},
   "outputs": [
    {
     "data": {
      "text/plain": [
       "2740282220.68594"
      ]
     },
     "execution_count": 349,
     "metadata": {},
     "output_type": "execute_result"
    }
   ],
   "source": [
    "C_new=cost(A_total_new, f_exp_new, f_curr_new)\n",
    "C_new"
   ]
  },
  {
   "cell_type": "code",
   "execution_count": 350,
   "id": "17ae7bf7",
   "metadata": {},
   "outputs": [
    {
     "data": {
      "text/plain": [
       "0.00044155120849609375"
      ]
     },
     "execution_count": 350,
     "metadata": {},
     "output_type": "execute_result"
    }
   ],
   "source": [
    "dC=C_new-C_old\n",
    "dC"
   ]
  },
  {
   "cell_type": "code",
   "execution_count": 436,
   "id": "2c36cc88",
   "metadata": {},
   "outputs": [
    {
     "name": "stdout",
     "output_type": "stream",
     "text": [
      "0.6389447410909821\n"
     ]
    }
   ],
   "source": [
    "print(random.random())"
   ]
  },
  {
   "cell_type": "code",
   "execution_count": 437,
   "id": "7be0e860",
   "metadata": {},
   "outputs": [],
   "source": [
    "# B=1\n",
    "t=0\n",
    "if((random.random()<=math.exp(B*dC)) and dC<=0):\n",
    "    Kd_new_temp=Kd_new\n",
    "else:\n",
    "    Kd_new_temp=Kd\n",
    "    Kd=Kd_new_temp\n",
    "    t=t+1"
   ]
  },
  {
   "cell_type": "code",
   "execution_count": null,
   "id": "17eef1c5",
   "metadata": {},
   "outputs": [],
   "source": []
  },
  {
   "cell_type": "code",
   "execution_count": null,
   "id": "08fbfba0",
   "metadata": {},
   "outputs": [],
   "source": []
  },
  {
   "cell_type": "code",
   "execution_count": null,
   "id": "ba43d45a",
   "metadata": {},
   "outputs": [],
   "source": []
  },
  {
   "cell_type": "code",
   "execution_count": null,
   "id": "14287b94",
   "metadata": {},
   "outputs": [],
   "source": []
  },
  {
   "cell_type": "code",
   "execution_count": null,
   "id": "86072dc7",
   "metadata": {},
   "outputs": [],
   "source": []
  },
  {
   "cell_type": "code",
   "execution_count": null,
   "id": "5fa434b8",
   "metadata": {},
   "outputs": [],
   "source": [
    "t=0\n",
    "while(t<100):\n",
    "    "
   ]
  }
 ],
 "metadata": {
  "kernelspec": {
   "display_name": "Python 3 (ipykernel)",
   "language": "python",
   "name": "python3"
  },
  "language_info": {
   "codemirror_mode": {
    "name": "ipython",
    "version": 3
   },
   "file_extension": ".py",
   "mimetype": "text/x-python",
   "name": "python",
   "nbconvert_exporter": "python",
   "pygments_lexer": "ipython3",
   "version": "3.9.12"
  }
 },
 "nbformat": 4,
 "nbformat_minor": 5
}
