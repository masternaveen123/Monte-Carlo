{
 "cells": [
  {
   "cell_type": "code",
   "execution_count": 1,
   "id": "5d74f3bd",
   "metadata": {},
   "outputs": [],
   "source": [
    "import pandas as pd \n",
    "import numpy as np\n",
    "import random\n",
    "import math\n",
    "import matplotlib.pyplot as plt\n",
    "import pandas as pd\n",
    "from matplotlib import animation\n",
    "import statistics\n",
    "from IPython.display import clear_output\n",
    "import scipy\n",
    "from scipy.stats import norm\n",
    "from tqdm.notebook import tqdm_notebook"
   ]
  },
  {
   "cell_type": "code",
   "execution_count": 2,
   "id": "c0534efe",
   "metadata": {},
   "outputs": [
    {
     "data": {
      "text/html": [
       "<div>\n",
       "<style scoped>\n",
       "    .dataframe tbody tr th:only-of-type {\n",
       "        vertical-align: middle;\n",
       "    }\n",
       "\n",
       "    .dataframe tbody tr th {\n",
       "        vertical-align: top;\n",
       "    }\n",
       "\n",
       "    .dataframe thead th {\n",
       "        text-align: right;\n",
       "    }\n",
       "</style>\n",
       "<table border=\"1\" class=\"dataframe\">\n",
       "  <thead>\n",
       "    <tr style=\"text-align: right;\">\n",
       "      <th></th>\n",
       "      <th>MATa orf_name</th>\n",
       "      <th>MATa gene_name</th>\n",
       "      <th>a_abd</th>\n",
       "      <th>MATalpha orf_name</th>\n",
       "      <th>MATalpha_gene_name</th>\n",
       "      <th>b_abd</th>\n",
       "      <th>intensity</th>\n",
       "      <th>PPV%</th>\n",
       "    </tr>\n",
       "  </thead>\n",
       "  <tbody>\n",
       "    <tr>\n",
       "      <th>0</th>\n",
       "      <td>YJR155W</td>\n",
       "      <td>AAD10</td>\n",
       "      <td>None</td>\n",
       "      <td>YCR042C</td>\n",
       "      <td>TAF2</td>\n",
       "      <td>None</td>\n",
       "      <td>21399</td>\n",
       "      <td>99.371069</td>\n",
       "    </tr>\n",
       "    <tr>\n",
       "      <th>1</th>\n",
       "      <td>YFL057C</td>\n",
       "      <td>AAD16</td>\n",
       "      <td>None</td>\n",
       "      <td>YHR080C</td>\n",
       "      <td>YHR080C</td>\n",
       "      <td>None</td>\n",
       "      <td>20048</td>\n",
       "      <td>98.666667</td>\n",
       "    </tr>\n",
       "    <tr>\n",
       "      <th>2</th>\n",
       "      <td>YJR108W</td>\n",
       "      <td>ABM1</td>\n",
       "      <td>None</td>\n",
       "      <td>YOR393W</td>\n",
       "      <td>ERR1</td>\n",
       "      <td>None</td>\n",
       "      <td>27637</td>\n",
       "      <td>99.315068</td>\n",
       "    </tr>\n",
       "    <tr>\n",
       "      <th>3</th>\n",
       "      <td>YJR108W</td>\n",
       "      <td>ABM1</td>\n",
       "      <td>None</td>\n",
       "      <td>YBR255C-A</td>\n",
       "      <td>YBR255C-A</td>\n",
       "      <td>None</td>\n",
       "      <td>53221</td>\n",
       "      <td>99.000000</td>\n",
       "    </tr>\n",
       "    <tr>\n",
       "      <th>4</th>\n",
       "      <td>YJR108W</td>\n",
       "      <td>ABM1</td>\n",
       "      <td>None</td>\n",
       "      <td>YBR296C-A</td>\n",
       "      <td>YBR296C-A</td>\n",
       "      <td>None</td>\n",
       "      <td>48548</td>\n",
       "      <td>99.000000</td>\n",
       "    </tr>\n",
       "    <tr>\n",
       "      <th>...</th>\n",
       "      <td>...</td>\n",
       "      <td>...</td>\n",
       "      <td>...</td>\n",
       "      <td>...</td>\n",
       "      <td>...</td>\n",
       "      <td>...</td>\n",
       "      <td>...</td>\n",
       "      <td>...</td>\n",
       "    </tr>\n",
       "    <tr>\n",
       "      <th>6277</th>\n",
       "      <td>YIR026C</td>\n",
       "      <td>YVH1</td>\n",
       "      <td>None</td>\n",
       "      <td>YHR146W</td>\n",
       "      <td>CRP1</td>\n",
       "      <td>None</td>\n",
       "      <td>125498</td>\n",
       "      <td>99.000000</td>\n",
       "    </tr>\n",
       "    <tr>\n",
       "      <th>6278</th>\n",
       "      <td>YIR026C</td>\n",
       "      <td>YVH1</td>\n",
       "      <td>None</td>\n",
       "      <td>YKL212W</td>\n",
       "      <td>SAC1</td>\n",
       "      <td>None</td>\n",
       "      <td>47003</td>\n",
       "      <td>99.000000</td>\n",
       "    </tr>\n",
       "    <tr>\n",
       "      <th>6279</th>\n",
       "      <td>YJL056C</td>\n",
       "      <td>ZAP1</td>\n",
       "      <td>None</td>\n",
       "      <td>YKR076W</td>\n",
       "      <td>ECM4</td>\n",
       "      <td>None</td>\n",
       "      <td>24213</td>\n",
       "      <td>99.350649</td>\n",
       "    </tr>\n",
       "    <tr>\n",
       "      <th>6280</th>\n",
       "      <td>YMR273C</td>\n",
       "      <td>ZDS1</td>\n",
       "      <td>None</td>\n",
       "      <td>YKR076W</td>\n",
       "      <td>ECM4</td>\n",
       "      <td>None</td>\n",
       "      <td>21283</td>\n",
       "      <td>99.315068</td>\n",
       "    </tr>\n",
       "    <tr>\n",
       "      <th>6281</th>\n",
       "      <td>YGR211W</td>\n",
       "      <td>ZPR1</td>\n",
       "      <td>None</td>\n",
       "      <td>YJL026W</td>\n",
       "      <td>RNR2</td>\n",
       "      <td>None</td>\n",
       "      <td>38017</td>\n",
       "      <td>99.000000</td>\n",
       "    </tr>\n",
       "  </tbody>\n",
       "</table>\n",
       "<p>6282 rows × 8 columns</p>\n",
       "</div>"
      ],
      "text/plain": [
       "     MATa orf_name MATa gene_name a_abd MATalpha orf_name MATalpha_gene_name  \\\n",
       "0          YJR155W          AAD10  None           YCR042C               TAF2   \n",
       "1          YFL057C          AAD16  None           YHR080C            YHR080C   \n",
       "2          YJR108W           ABM1  None           YOR393W               ERR1   \n",
       "3          YJR108W           ABM1  None         YBR255C-A          YBR255C-A   \n",
       "4          YJR108W           ABM1  None         YBR296C-A          YBR296C-A   \n",
       "...            ...            ...   ...               ...                ...   \n",
       "6277       YIR026C           YVH1  None           YHR146W               CRP1   \n",
       "6278       YIR026C           YVH1  None           YKL212W               SAC1   \n",
       "6279       YJL056C           ZAP1  None           YKR076W               ECM4   \n",
       "6280       YMR273C           ZDS1  None           YKR076W               ECM4   \n",
       "6281       YGR211W           ZPR1  None           YJL026W               RNR2   \n",
       "\n",
       "     b_abd  intensity       PPV%  \n",
       "0     None      21399  99.371069  \n",
       "1     None      20048  98.666667  \n",
       "2     None      27637  99.315068  \n",
       "3     None      53221  99.000000  \n",
       "4     None      48548  99.000000  \n",
       "...    ...        ...        ...  \n",
       "6277  None     125498  99.000000  \n",
       "6278  None      47003  99.000000  \n",
       "6279  None      24213  99.350649  \n",
       "6280  None      21283  99.315068  \n",
       "6281  None      38017  99.000000  \n",
       "\n",
       "[6282 rows x 8 columns]"
      ]
     },
     "execution_count": 2,
     "metadata": {},
     "output_type": "execute_result"
    }
   ],
   "source": [
    "df = pd.read_csv(\"tarassov (2).csv\") \n",
    "df.insert(2, 'a_abd', None)\n",
    "df.insert(5, 'b_abd', None)\n",
    "df"
   ]
  },
  {
   "cell_type": "code",
   "execution_count": 3,
   "id": "0d5f26a7",
   "metadata": {},
   "outputs": [
    {
     "data": {
      "text/html": [
       "<div>\n",
       "<style scoped>\n",
       "    .dataframe tbody tr th:only-of-type {\n",
       "        vertical-align: middle;\n",
       "    }\n",
       "\n",
       "    .dataframe tbody tr th {\n",
       "        vertical-align: top;\n",
       "    }\n",
       "\n",
       "    .dataframe thead th {\n",
       "        text-align: right;\n",
       "    }\n",
       "</style>\n",
       "<table border=\"1\" class=\"dataframe\">\n",
       "  <thead>\n",
       "    <tr style=\"text-align: right;\">\n",
       "      <th></th>\n",
       "      <th>Unnamed: 0</th>\n",
       "      <th>Systematic Name</th>\n",
       "      <th>Standard Name</th>\n",
       "      <th>Abundances uM</th>\n",
       "    </tr>\n",
       "  </thead>\n",
       "  <tbody>\n",
       "    <tr>\n",
       "      <th>0</th>\n",
       "      <td>0</td>\n",
       "      <td>YMR191W</td>\n",
       "      <td>SPG5</td>\n",
       "      <td>0.000128</td>\n",
       "    </tr>\n",
       "    <tr>\n",
       "      <th>1</th>\n",
       "      <td>1</td>\n",
       "      <td>YJL093C</td>\n",
       "      <td>TOK1</td>\n",
       "      <td>0.000145</td>\n",
       "    </tr>\n",
       "    <tr>\n",
       "      <th>2</th>\n",
       "      <td>2</td>\n",
       "      <td>YER184C</td>\n",
       "      <td>TOG1</td>\n",
       "      <td>0.000181</td>\n",
       "    </tr>\n",
       "    <tr>\n",
       "      <th>3</th>\n",
       "      <td>3</td>\n",
       "      <td>YGL063W</td>\n",
       "      <td>PUS2</td>\n",
       "      <td>0.000210</td>\n",
       "    </tr>\n",
       "    <tr>\n",
       "      <th>4</th>\n",
       "      <td>4</td>\n",
       "      <td>YPL159C</td>\n",
       "      <td>PET20</td>\n",
       "      <td>0.000265</td>\n",
       "    </tr>\n",
       "    <tr>\n",
       "      <th>...</th>\n",
       "      <td>...</td>\n",
       "      <td>...</td>\n",
       "      <td>...</td>\n",
       "      <td>...</td>\n",
       "    </tr>\n",
       "    <tr>\n",
       "      <th>5386</th>\n",
       "      <td>5386</td>\n",
       "      <td>YCR012W</td>\n",
       "      <td>PGK1</td>\n",
       "      <td>40.056802</td>\n",
       "    </tr>\n",
       "    <tr>\n",
       "      <th>5387</th>\n",
       "      <td>5387</td>\n",
       "      <td>YLR044C</td>\n",
       "      <td>PDC1</td>\n",
       "      <td>51.018756</td>\n",
       "    </tr>\n",
       "    <tr>\n",
       "      <th>5388</th>\n",
       "      <td>5388</td>\n",
       "      <td>YHR174W</td>\n",
       "      <td>ENO2</td>\n",
       "      <td>53.221692</td>\n",
       "    </tr>\n",
       "    <tr>\n",
       "      <th>5389</th>\n",
       "      <td>5389</td>\n",
       "      <td>YKL060C</td>\n",
       "      <td>FBA1</td>\n",
       "      <td>44.364324</td>\n",
       "    </tr>\n",
       "    <tr>\n",
       "      <th>5390</th>\n",
       "      <td>5390</td>\n",
       "      <td>YGR192C</td>\n",
       "      <td>TDH3</td>\n",
       "      <td>52.401090</td>\n",
       "    </tr>\n",
       "  </tbody>\n",
       "</table>\n",
       "<p>5391 rows × 4 columns</p>\n",
       "</div>"
      ],
      "text/plain": [
       "      Unnamed: 0 Systematic Name Standard Name  Abundances uM\n",
       "0              0         YMR191W          SPG5       0.000128\n",
       "1              1         YJL093C          TOK1       0.000145\n",
       "2              2         YER184C          TOG1       0.000181\n",
       "3              3         YGL063W          PUS2       0.000210\n",
       "4              4         YPL159C         PET20       0.000265\n",
       "...          ...             ...           ...            ...\n",
       "5386        5386         YCR012W          PGK1      40.056802\n",
       "5387        5387         YLR044C          PDC1      51.018756\n",
       "5388        5388         YHR174W          ENO2      53.221692\n",
       "5389        5389         YKL060C          FBA1      44.364324\n",
       "5390        5390         YGR192C          TDH3      52.401090\n",
       "\n",
       "[5391 rows x 4 columns]"
      ]
     },
     "execution_count": 3,
     "metadata": {},
     "output_type": "execute_result"
    }
   ],
   "source": [
    "abd = pd.read_csv(\"abundances (1).csv\") \n",
    "abd"
   ]
  },
  {
   "cell_type": "code",
   "execution_count": 4,
   "id": "746e2756",
   "metadata": {},
   "outputs": [
    {
     "name": "stdout",
     "output_type": "stream",
     "text": [
      "DID NOT MATCH YFL057C AAD16\n",
      "DID NOT MATCH YNR002C ATO2\n",
      "DID NOT MATCH YDL037C BSC1\n",
      "DID NOT MATCH YNL269W BSC4\n",
      "DID NOT MATCH YNL269W BSC4\n",
      "DID NOT MATCH YGR109C CLB6\n",
      "DID NOT MATCH YBL043W ECM13\n",
      "DID NOT MATCH YLR246W ERF2\n",
      "DID NOT MATCH YLR246W ERF2\n",
      "DID NOT MATCH YLR246W ERF2\n",
      "DID NOT MATCH YCR075C ERS1\n",
      "DID NOT MATCH YCR075C ERS1\n",
      "DID NOT MATCH YCR075C ERS1\n",
      "DID NOT MATCH YCR075C ERS1\n",
      "DID NOT MATCH YER060W-A FCY22\n",
      "DID NOT MATCH YER060W-A FCY22\n",
      "DID NOT MATCH YBR040W FIG1\n",
      "DID NOT MATCH YOR381W FRE3\n",
      "DID NOT MATCH YOR298W MUM3\n",
      "DID NOT MATCH YLR273C PIG1\n",
      "DID NOT MATCH YML047C PRM6\n",
      "DID NOT MATCH YDL039C PRM7\n",
      "DID NOT MATCH YBR033W YBR033W\n",
      "DID NOT MATCH YKL037W YKL037W\n",
      "DID NOT MATCH YKL037W YKL037W\n",
      "DID NOT MATCH YLL016W YLL016W\n"
     ]
    }
   ],
   "source": [
    "for index, row in df.iterrows():\n",
    "    if(abd['Systematic Name'].str.contains(row['MATa orf_name'], case=False).sum()>0):\n",
    "        df.loc[index, 'a_abd'] = abd.loc[abd['Systematic Name'].str.contains(row['MATa orf_name'], case=False)]['Abundances uM'][:1].values[0]\n",
    "    elif(abd['Standard Name'].str.contains(row['MATa orf_name'], case=False).sum()>0):\n",
    "        df.loc[index, 'a_abd'] = abd.loc[abd['Standard Name'].str.contains(row['MATa orf_name'], case=False)]['Abundances uM'][:1].values[0]\n",
    "    elif(abd['Systematic Name'].str.contains(row['MATa gene_name'], case=False).sum()>0):\n",
    "        df.loc[index, 'a_abd'] = abd.loc[abd['Systematic Name'].str.contains(row['MATa gene_name'], case=False)]['Abundances uM'][:1].values[0]\n",
    "    elif(abd['Standard Name'].str.contains(row['MATa gene_name'], case=False).sum()>0):\n",
    "        df.loc[index, 'a_abd'] = abd.loc[abd['Standard Name'].str.contains(row['MATa gene_name'], case=False)]['Abundances uM'][:1].values[0]\n",
    "    else:\n",
    "        print('DID NOT MATCH',row['MATa orf_name'], row['MATa gene_name'])\n",
    "        \n",
    "#     print(row['MATa orf_name'], row['MATalpha orf_name'],row['a_abd'])"
   ]
  },
  {
   "cell_type": "code",
   "execution_count": 5,
   "id": "f55c1c18",
   "metadata": {},
   "outputs": [
    {
     "name": "stdout",
     "output_type": "stream",
     "text": [
      "DID NOT MATCH YBR296C-A YBR296C-A\n"
     ]
    }
   ],
   "source": [
    "for index, row in df.iterrows():\n",
    "    if(abd['Systematic Name'].str.contains(row['MATalpha orf_name'], case=False).sum()>0):\n",
    "        df.loc[index, 'b_abd'] = abd.loc[abd['Systematic Name'].str.contains(row['MATalpha orf_name'], case=False)]['Abundances uM'][:1].values[0]\n",
    "    elif(abd['Standard Name'].str.contains(row['MATalpha orf_name'], case=False).sum()>0):\n",
    "        df.loc[index, 'b_abd'] = abd.loc[abd['Standard Name'].str.contains(row['MATalpha orf_name'], case=False)]['Abundances uM'][:1].values[0]\n",
    "    elif(abd['Systematic Name'].str.contains(row['MATa orf_name'], case=False).sum()>0):\n",
    "        df.loc[index, 'b_abd'] = abd.loc[abd['Systematic Name'].str.contains(row['MATa orf_name'], case=False)]['Abundances uM'][:1].values[0]\n",
    "    elif(abd['Standard Name'].str.contains(row['MATa orf_name'], case=False).sum()>0):\n",
    "        df.loc[index, 'b_abd'] = abd.loc[abd['Standard Name'].str.contains(row['MATa orf_name'], case=False)]['Abundances uM'][:1].values[0]\n",
    "    else:\n",
    "        print('DID NOT MATCH',row['MATalpha orf_name'],row['MATalpha_gene_name'])\n",
    "        \n",
    "#     print(row['MATa orf_name'], row['MATalpha orf_name'],row['a_abd'])"
   ]
  },
  {
   "cell_type": "code",
   "execution_count": 6,
   "id": "3266cf70",
   "metadata": {},
   "outputs": [],
   "source": [
    "df.rename(columns={'a_abd': 'Abd_A', 'b_abd': 'Abd_B','intensity':'Colony_Size'}, inplace=True)"
   ]
  },
  {
   "cell_type": "code",
   "execution_count": 7,
   "id": "30b2564d",
   "metadata": {},
   "outputs": [
    {
     "data": {
      "text/html": [
       "<div>\n",
       "<style scoped>\n",
       "    .dataframe tbody tr th:only-of-type {\n",
       "        vertical-align: middle;\n",
       "    }\n",
       "\n",
       "    .dataframe tbody tr th {\n",
       "        vertical-align: top;\n",
       "    }\n",
       "\n",
       "    .dataframe thead th {\n",
       "        text-align: right;\n",
       "    }\n",
       "</style>\n",
       "<table border=\"1\" class=\"dataframe\">\n",
       "  <thead>\n",
       "    <tr style=\"text-align: right;\">\n",
       "      <th></th>\n",
       "      <th>MATa orf_name</th>\n",
       "      <th>MATa gene_name</th>\n",
       "      <th>Abd_A</th>\n",
       "      <th>MATalpha orf_name</th>\n",
       "      <th>MATalpha_gene_name</th>\n",
       "      <th>Abd_B</th>\n",
       "      <th>Colony_Size</th>\n",
       "      <th>PPV%</th>\n",
       "    </tr>\n",
       "  </thead>\n",
       "  <tbody>\n",
       "    <tr>\n",
       "      <th>0</th>\n",
       "      <td>YJR155W</td>\n",
       "      <td>AAD10</td>\n",
       "      <td>0.16975</td>\n",
       "      <td>YCR042C</td>\n",
       "      <td>TAF2</td>\n",
       "      <td>0.070482</td>\n",
       "      <td>21399</td>\n",
       "      <td>99.371069</td>\n",
       "    </tr>\n",
       "    <tr>\n",
       "      <th>2</th>\n",
       "      <td>YJR108W</td>\n",
       "      <td>ABM1</td>\n",
       "      <td>0.047681</td>\n",
       "      <td>YOR393W</td>\n",
       "      <td>ERR1</td>\n",
       "      <td>0.076074</td>\n",
       "      <td>27637</td>\n",
       "      <td>99.315068</td>\n",
       "    </tr>\n",
       "    <tr>\n",
       "      <th>3</th>\n",
       "      <td>YJR108W</td>\n",
       "      <td>ABM1</td>\n",
       "      <td>0.047681</td>\n",
       "      <td>YBR255C-A</td>\n",
       "      <td>YBR255C-A</td>\n",
       "      <td>0.139513</td>\n",
       "      <td>53221</td>\n",
       "      <td>99.000000</td>\n",
       "    </tr>\n",
       "    <tr>\n",
       "      <th>4</th>\n",
       "      <td>YJR108W</td>\n",
       "      <td>ABM1</td>\n",
       "      <td>0.047681</td>\n",
       "      <td>YBR296C-A</td>\n",
       "      <td>YBR296C-A</td>\n",
       "      <td>0.047681</td>\n",
       "      <td>48548</td>\n",
       "      <td>99.000000</td>\n",
       "    </tr>\n",
       "    <tr>\n",
       "      <th>5</th>\n",
       "      <td>YJR108W</td>\n",
       "      <td>ABM1</td>\n",
       "      <td>0.047681</td>\n",
       "      <td>YNL026W</td>\n",
       "      <td>SAM50</td>\n",
       "      <td>0.113214</td>\n",
       "      <td>36243</td>\n",
       "      <td>99.000000</td>\n",
       "    </tr>\n",
       "    <tr>\n",
       "      <th>...</th>\n",
       "      <td>...</td>\n",
       "      <td>...</td>\n",
       "      <td>...</td>\n",
       "      <td>...</td>\n",
       "      <td>...</td>\n",
       "      <td>...</td>\n",
       "      <td>...</td>\n",
       "      <td>...</td>\n",
       "    </tr>\n",
       "    <tr>\n",
       "      <th>6277</th>\n",
       "      <td>YIR026C</td>\n",
       "      <td>YVH1</td>\n",
       "      <td>0.209777</td>\n",
       "      <td>YHR146W</td>\n",
       "      <td>CRP1</td>\n",
       "      <td>0.482526</td>\n",
       "      <td>125498</td>\n",
       "      <td>99.000000</td>\n",
       "    </tr>\n",
       "    <tr>\n",
       "      <th>6278</th>\n",
       "      <td>YIR026C</td>\n",
       "      <td>YVH1</td>\n",
       "      <td>0.209777</td>\n",
       "      <td>YKL212W</td>\n",
       "      <td>SAC1</td>\n",
       "      <td>0.477681</td>\n",
       "      <td>47003</td>\n",
       "      <td>99.000000</td>\n",
       "    </tr>\n",
       "    <tr>\n",
       "      <th>6279</th>\n",
       "      <td>YJL056C</td>\n",
       "      <td>ZAP1</td>\n",
       "      <td>0.051394</td>\n",
       "      <td>YKR076W</td>\n",
       "      <td>ECM4</td>\n",
       "      <td>0.145381</td>\n",
       "      <td>24213</td>\n",
       "      <td>99.350649</td>\n",
       "    </tr>\n",
       "    <tr>\n",
       "      <th>6280</th>\n",
       "      <td>YMR273C</td>\n",
       "      <td>ZDS1</td>\n",
       "      <td>0.048409</td>\n",
       "      <td>YKR076W</td>\n",
       "      <td>ECM4</td>\n",
       "      <td>0.145381</td>\n",
       "      <td>21283</td>\n",
       "      <td>99.315068</td>\n",
       "    </tr>\n",
       "    <tr>\n",
       "      <th>6281</th>\n",
       "      <td>YGR211W</td>\n",
       "      <td>ZPR1</td>\n",
       "      <td>0.487749</td>\n",
       "      <td>YJL026W</td>\n",
       "      <td>RNR2</td>\n",
       "      <td>1.957863</td>\n",
       "      <td>38017</td>\n",
       "      <td>99.000000</td>\n",
       "    </tr>\n",
       "  </tbody>\n",
       "</table>\n",
       "<p>6256 rows × 8 columns</p>\n",
       "</div>"
      ],
      "text/plain": [
       "     MATa orf_name MATa gene_name     Abd_A MATalpha orf_name  \\\n",
       "0          YJR155W          AAD10   0.16975           YCR042C   \n",
       "2          YJR108W           ABM1  0.047681           YOR393W   \n",
       "3          YJR108W           ABM1  0.047681         YBR255C-A   \n",
       "4          YJR108W           ABM1  0.047681         YBR296C-A   \n",
       "5          YJR108W           ABM1  0.047681           YNL026W   \n",
       "...            ...            ...       ...               ...   \n",
       "6277       YIR026C           YVH1  0.209777           YHR146W   \n",
       "6278       YIR026C           YVH1  0.209777           YKL212W   \n",
       "6279       YJL056C           ZAP1  0.051394           YKR076W   \n",
       "6280       YMR273C           ZDS1  0.048409           YKR076W   \n",
       "6281       YGR211W           ZPR1  0.487749           YJL026W   \n",
       "\n",
       "     MATalpha_gene_name     Abd_B  Colony_Size       PPV%  \n",
       "0                  TAF2  0.070482        21399  99.371069  \n",
       "2                  ERR1  0.076074        27637  99.315068  \n",
       "3             YBR255C-A  0.139513        53221  99.000000  \n",
       "4             YBR296C-A  0.047681        48548  99.000000  \n",
       "5                 SAM50  0.113214        36243  99.000000  \n",
       "...                 ...       ...          ...        ...  \n",
       "6277               CRP1  0.482526       125498  99.000000  \n",
       "6278               SAC1  0.477681        47003  99.000000  \n",
       "6279               ECM4  0.145381        24213  99.350649  \n",
       "6280               ECM4  0.145381        21283  99.315068  \n",
       "6281               RNR2  1.957863        38017  99.000000  \n",
       "\n",
       "[6256 rows x 8 columns]"
      ]
     },
     "execution_count": 7,
     "metadata": {},
     "output_type": "execute_result"
    }
   ],
   "source": [
    "df.dropna(subset=['Abd_A','Abd_B'],inplace=True)\n",
    "df"
   ]
  },
  {
   "cell_type": "code",
   "execution_count": 8,
   "id": "f0b5e419",
   "metadata": {},
   "outputs": [
    {
     "name": "stdout",
     "output_type": "stream",
     "text": [
      "0.4043496087366121 0.6217405870977305\n"
     ]
    }
   ],
   "source": [
    "pro_A=df['Abd_A'].to_list()\n",
    "pro_B=df['Abd_B'].to_list()\n",
    "pro_A\n",
    "A_mean,A_stdev=statistics.mean(pro_A),statistics.stdev(pro_A)\n",
    "print(A_mean, A_stdev)\n",
    "B_mean,B_stdev=statistics.mean(pro_B),statistics.stdev(pro_B)\n",
    "# mu, std = norm.fit(pro_A)\n",
    "# mu,std"
   ]
  },
  {
   "cell_type": "code",
   "execution_count": 9,
   "id": "46d7e2d1",
   "metadata": {},
   "outputs": [
    {
     "name": "stdout",
     "output_type": "stream",
     "text": [
      "7.654775115349385 0.0001284026399908 7.654775115349385 0.0144076924543301\n"
     ]
    },
    {
     "data": {
      "text/plain": [
       "(8, 0, 8, 0)"
      ]
     },
     "execution_count": 9,
     "metadata": {},
     "output_type": "execute_result"
    }
   ],
   "source": [
    "Ai_max,Ai_min,Aj_max,Aj_min=df['Abd_A'].max(),df['Abd_A'].min(),df['Abd_B'].max(),df['Abd_B'].min()\n",
    "print(Ai_max,Ai_min,Aj_max,Aj_min)\n",
    "# print(math.ceil(Ai_max),math.floor(Ai_min),math.ceil(Aj_max),math.floor(Aj_min))\n",
    "Ai_max,Ai_min,Aj_max,Aj_min=math.ceil(Ai_max),math.floor(Ai_min),math.ceil(Aj_max),math.floor(Aj_min)\n",
    "Ai_max,Ai_min,Aj_max,Aj_min"
   ]
  },
  {
   "cell_type": "code",
   "execution_count": 10,
   "id": "434d6de4",
   "metadata": {},
   "outputs": [
    {
     "data": {
      "text/html": [
       "<div>\n",
       "<style scoped>\n",
       "    .dataframe tbody tr th:only-of-type {\n",
       "        vertical-align: middle;\n",
       "    }\n",
       "\n",
       "    .dataframe tbody tr th {\n",
       "        vertical-align: top;\n",
       "    }\n",
       "\n",
       "    .dataframe thead th {\n",
       "        text-align: right;\n",
       "    }\n",
       "</style>\n",
       "<table border=\"1\" class=\"dataframe\">\n",
       "  <thead>\n",
       "    <tr style=\"text-align: right;\">\n",
       "      <th></th>\n",
       "      <th>MATa orf_name</th>\n",
       "      <th>MATa gene_name</th>\n",
       "      <th>Abd_A</th>\n",
       "      <th>MATalpha orf_name</th>\n",
       "      <th>MATalpha_gene_name</th>\n",
       "      <th>Abd_B</th>\n",
       "      <th>Colony_Size</th>\n",
       "      <th>PPV%</th>\n",
       "    </tr>\n",
       "  </thead>\n",
       "  <tbody>\n",
       "    <tr>\n",
       "      <th>0</th>\n",
       "      <td>YNL190W</td>\n",
       "      <td>YNL190W</td>\n",
       "      <td>0.23103</td>\n",
       "      <td>YCL025C</td>\n",
       "      <td>AGP1</td>\n",
       "      <td>1.042684</td>\n",
       "      <td>214802</td>\n",
       "      <td>99.0</td>\n",
       "    </tr>\n",
       "    <tr>\n",
       "      <th>1</th>\n",
       "      <td>YJR010W</td>\n",
       "      <td>MET3</td>\n",
       "      <td>0.730392</td>\n",
       "      <td>YJR010W</td>\n",
       "      <td>MET3</td>\n",
       "      <td>0.730392</td>\n",
       "      <td>203046</td>\n",
       "      <td>99.0</td>\n",
       "    </tr>\n",
       "    <tr>\n",
       "      <th>2</th>\n",
       "      <td>YFL005W</td>\n",
       "      <td>SEC4</td>\n",
       "      <td>0.938091</td>\n",
       "      <td>YER136W</td>\n",
       "      <td>GDI1</td>\n",
       "      <td>0.640307</td>\n",
       "      <td>194897</td>\n",
       "      <td>99.0</td>\n",
       "    </tr>\n",
       "    <tr>\n",
       "      <th>3</th>\n",
       "      <td>YGR284C</td>\n",
       "      <td>ERV29</td>\n",
       "      <td>0.270923</td>\n",
       "      <td>YCL025C</td>\n",
       "      <td>AGP1</td>\n",
       "      <td>1.042684</td>\n",
       "      <td>191611</td>\n",
       "      <td>99.0</td>\n",
       "    </tr>\n",
       "    <tr>\n",
       "      <th>4</th>\n",
       "      <td>YNL190W</td>\n",
       "      <td>YNL190W</td>\n",
       "      <td>0.23103</td>\n",
       "      <td>YKR039W</td>\n",
       "      <td>GAP1</td>\n",
       "      <td>0.736054</td>\n",
       "      <td>191457</td>\n",
       "      <td>99.0</td>\n",
       "    </tr>\n",
       "    <tr>\n",
       "      <th>5</th>\n",
       "      <td>YOR054C</td>\n",
       "      <td>VHS3</td>\n",
       "      <td>0.078706</td>\n",
       "      <td>YJL002C</td>\n",
       "      <td>OST1</td>\n",
       "      <td>0.398253</td>\n",
       "      <td>190626</td>\n",
       "      <td>99.0</td>\n",
       "    </tr>\n",
       "    <tr>\n",
       "      <th>6</th>\n",
       "      <td>YOR270C</td>\n",
       "      <td>VPH1</td>\n",
       "      <td>1.06263</td>\n",
       "      <td>YPR036W</td>\n",
       "      <td>VMA13</td>\n",
       "      <td>0.275942</td>\n",
       "      <td>182953</td>\n",
       "      <td>99.0</td>\n",
       "    </tr>\n",
       "    <tr>\n",
       "      <th>7</th>\n",
       "      <td>YNL138W</td>\n",
       "      <td>SRV2</td>\n",
       "      <td>0.130933</td>\n",
       "      <td>YNL138W</td>\n",
       "      <td>SRV2</td>\n",
       "      <td>0.130933</td>\n",
       "      <td>180483</td>\n",
       "      <td>99.0</td>\n",
       "    </tr>\n",
       "    <tr>\n",
       "      <th>8</th>\n",
       "      <td>YNL190W</td>\n",
       "      <td>YNL190W</td>\n",
       "      <td>0.23103</td>\n",
       "      <td>YJL002C</td>\n",
       "      <td>OST1</td>\n",
       "      <td>0.398253</td>\n",
       "      <td>179079</td>\n",
       "      <td>99.0</td>\n",
       "    </tr>\n",
       "    <tr>\n",
       "      <th>9</th>\n",
       "      <td>YDL212W</td>\n",
       "      <td>SHR3</td>\n",
       "      <td>0.21271</td>\n",
       "      <td>YKR039W</td>\n",
       "      <td>GAP1</td>\n",
       "      <td>0.736054</td>\n",
       "      <td>176711</td>\n",
       "      <td>99.0</td>\n",
       "    </tr>\n",
       "  </tbody>\n",
       "</table>\n",
       "</div>"
      ],
      "text/plain": [
       "  MATa orf_name MATa gene_name     Abd_A MATalpha orf_name MATalpha_gene_name  \\\n",
       "0       YNL190W        YNL190W   0.23103           YCL025C               AGP1   \n",
       "1       YJR010W           MET3  0.730392           YJR010W               MET3   \n",
       "2       YFL005W           SEC4  0.938091           YER136W               GDI1   \n",
       "3       YGR284C          ERV29  0.270923           YCL025C               AGP1   \n",
       "4       YNL190W        YNL190W   0.23103           YKR039W               GAP1   \n",
       "5       YOR054C           VHS3  0.078706           YJL002C               OST1   \n",
       "6       YOR270C           VPH1   1.06263           YPR036W              VMA13   \n",
       "7       YNL138W           SRV2  0.130933           YNL138W               SRV2   \n",
       "8       YNL190W        YNL190W   0.23103           YJL002C               OST1   \n",
       "9       YDL212W           SHR3   0.21271           YKR039W               GAP1   \n",
       "\n",
       "      Abd_B  Colony_Size  PPV%  \n",
       "0  1.042684       214802  99.0  \n",
       "1  0.730392       203046  99.0  \n",
       "2  0.640307       194897  99.0  \n",
       "3  1.042684       191611  99.0  \n",
       "4  0.736054       191457  99.0  \n",
       "5  0.398253       190626  99.0  \n",
       "6  0.275942       182953  99.0  \n",
       "7  0.130933       180483  99.0  \n",
       "8  0.398253       179079  99.0  \n",
       "9  0.736054       176711  99.0  "
      ]
     },
     "execution_count": 10,
     "metadata": {},
     "output_type": "execute_result"
    }
   ],
   "source": [
    "df.sort_values(by=['Colony_Size'], inplace=True, ascending=False)\n",
    "df=df[1:11]\n",
    "df.reset_index(drop=True,inplace=True)\n",
    "df"
   ]
  },
  {
   "cell_type": "code",
   "execution_count": 11,
   "id": "bd2228f5",
   "metadata": {},
   "outputs": [
    {
     "data": {
      "text/plain": [
       "[105.57604741062063,\n",
       " 768.5230722750725,\n",
       " 470.1345518609756,\n",
       " 515.214305832248,\n",
       " 345.65642753366865,\n",
       " 853.2446124072723,\n",
       " 124.06158657647553,\n",
       " 228.4818696377152,\n",
       " 320.9713982622141,\n",
       " 191.4644255000733]"
      ]
     },
     "execution_count": 11,
     "metadata": {},
     "output_type": "execute_result"
    }
   ],
   "source": [
    "Kd = []\n",
    "for i in range(len(df)):\n",
    "       Kd_rand = random.uniform(1, 10**3)\n",
    "       Kd.append(Kd_rand)\n",
    "Kd_initial=Kd\n",
    "Kd"
   ]
  },
  {
   "cell_type": "code",
   "execution_count": 12,
   "id": "a075ebc1",
   "metadata": {},
   "outputs": [],
   "source": [
    "mu_A, sigma_A = 3.7967176508404124, 1.5635593244880654 # mean and standard deviation\n",
    "mu_B, sigma_B = 4.069167482029483, 1.5642948498523275 # mean and standard deviation"
   ]
  },
  {
   "cell_type": "code",
   "execution_count": 13,
   "id": "aab72463",
   "metadata": {},
   "outputs": [
    {
     "name": "stdout",
     "output_type": "stream",
     "text": [
      "0 8\n"
     ]
    },
    {
     "data": {
      "text/plain": [
       "[6.155226922993463,\n",
       " 7.041118074277166,\n",
       " 6.954928474235477,\n",
       " 2.3669484471155053,\n",
       " 3.826084932982365,\n",
       " 2.227892351989982,\n",
       " 3.822951489217756,\n",
       " 0.37591291500628987,\n",
       " 4.960016635129891,\n",
       " 1.0355228803412517]"
      ]
     },
     "execution_count": 13,
     "metadata": {},
     "output_type": "execute_result"
    }
   ],
   "source": [
    "Ai = []\n",
    "for i in range(len(df)):\n",
    "       Ai_rand = random.uniform(Ai_min, Ai_max)\n",
    "#        Ai_rand = np.random.lognormal(mu_A, sigma_A)\n",
    "       Ai.append(Ai_rand)\n",
    "\n",
    "print(Ai_min, Ai_max)\n",
    "Ai"
   ]
  },
  {
   "cell_type": "code",
   "execution_count": 14,
   "id": "787588cd",
   "metadata": {},
   "outputs": [
    {
     "name": "stdout",
     "output_type": "stream",
     "text": [
      "0 8\n"
     ]
    },
    {
     "data": {
      "text/plain": [
       "[5.199530550564975,\n",
       " 2.518084734131911,\n",
       " 0.0987718807724427,\n",
       " 5.665639440405798,\n",
       " 6.963702433972498,\n",
       " 0.278755690115716,\n",
       " 4.264262843112513,\n",
       " 6.060640917884952,\n",
       " 6.831298946613997,\n",
       " 4.560712519570985]"
      ]
     },
     "execution_count": 14,
     "metadata": {},
     "output_type": "execute_result"
    }
   ],
   "source": [
    "Aj = []\n",
    "for i in range(len(df)):\n",
    "       Aj_rand = random.uniform(Aj_min, Aj_max)\n",
    "#        Aj_rand = np.random.lognormal(mu_B, sigma_B)\n",
    "       Aj.append(Aj_rand)\n",
    "    \n",
    "print(Aj_min, Aj_max)\n",
    "Aj"
   ]
  },
  {
   "cell_type": "code",
   "execution_count": 15,
   "id": "5274fb44",
   "metadata": {},
   "outputs": [],
   "source": [
    "# abd = pd.read_csv(\"tarassov_protein_abundances.csv\") \n",
    "# abd"
   ]
  },
  {
   "cell_type": "code",
   "execution_count": 16,
   "id": "7debcd15",
   "metadata": {},
   "outputs": [],
   "source": [
    "def fitness(Kda, Ai, Aj):\n",
    "    Ki=0.00054\n",
    "    a=0.1\n",
    "    B=1.3\n",
    "    MTX=440\n",
    "    Kapp=1\n",
    "\n",
    "    A=[]\n",
    "    f_c=[]\n",
    "\n",
    "    for i in range(len(df)):\n",
    "\n",
    "        f_cur=(a*Kapp*Ki*Ai[i]*Aj[i])/((B*Ki*Kda[i])+(B*Kda[i]*MTX)+(Kapp*Ki*Ai[i]*Aj[i]))\n",
    "        f_c.append(f_cur)\n",
    "#         print(f_c)\n",
    "\n",
    "\n",
    "        A.append(min(Ai[i],Aj[i])+Ai[i])\n",
    "#         print(A,'\\n')\n",
    "    \n",
    "    return A,f_c\n",
    "#     print(A_total,'\\n')\n",
    "#     print(f_exp,'\\n')\n",
    "#     print(f_curr,'\\n')"
   ]
  },
  {
   "cell_type": "code",
   "execution_count": 17,
   "id": "d4263ee1",
   "metadata": {},
   "outputs": [],
   "source": [
    "def fitness_exp(df):\n",
    "    f_exp=[]\n",
    "    for i in range(len(df)):\n",
    "        f_exp_c=(1/345600)*math.log(df['Colony_Size'][i]/20)\n",
    "        f_exp.append(f_exp_c)\n",
    "\n",
    "    return f_exp"
   ]
  },
  {
   "cell_type": "code",
   "execution_count": 18,
   "id": "a8dd7835",
   "metadata": {},
   "outputs": [],
   "source": [
    "def Kd_n(Kd):\n",
    "    \n",
    "    ddg=random.gauss(mu, sigma)\n",
    "    Kd_new=[element * math.exp(B*ddg) for element in Kd]\n",
    "    return Kd_new"
   ]
  },
  {
   "cell_type": "code",
   "execution_count": 19,
   "id": "a04e92a9",
   "metadata": {
    "scrolled": false
   },
   "outputs": [
    {
     "data": {
      "text/html": [
       "<div>\n",
       "<style scoped>\n",
       "    .dataframe tbody tr th:only-of-type {\n",
       "        vertical-align: middle;\n",
       "    }\n",
       "\n",
       "    .dataframe tbody tr th {\n",
       "        vertical-align: top;\n",
       "    }\n",
       "\n",
       "    .dataframe thead th {\n",
       "        text-align: right;\n",
       "    }\n",
       "</style>\n",
       "<table border=\"1\" class=\"dataframe\">\n",
       "  <thead>\n",
       "    <tr style=\"text-align: right;\">\n",
       "      <th></th>\n",
       "      <th>MATa orf_name</th>\n",
       "      <th>MATa gene_name</th>\n",
       "      <th>Abd_A</th>\n",
       "      <th>MATalpha orf_name</th>\n",
       "      <th>MATalpha_gene_name</th>\n",
       "      <th>Abd_B</th>\n",
       "      <th>Colony_Size</th>\n",
       "      <th>PPV%</th>\n",
       "    </tr>\n",
       "  </thead>\n",
       "  <tbody>\n",
       "    <tr>\n",
       "      <th>0</th>\n",
       "      <td>YNL190W</td>\n",
       "      <td>YNL190W</td>\n",
       "      <td>0.23103</td>\n",
       "      <td>YCL025C</td>\n",
       "      <td>AGP1</td>\n",
       "      <td>1.042684</td>\n",
       "      <td>214802</td>\n",
       "      <td>99.0</td>\n",
       "    </tr>\n",
       "    <tr>\n",
       "      <th>1</th>\n",
       "      <td>YJR010W</td>\n",
       "      <td>MET3</td>\n",
       "      <td>0.730392</td>\n",
       "      <td>YJR010W</td>\n",
       "      <td>MET3</td>\n",
       "      <td>0.730392</td>\n",
       "      <td>203046</td>\n",
       "      <td>99.0</td>\n",
       "    </tr>\n",
       "    <tr>\n",
       "      <th>2</th>\n",
       "      <td>YFL005W</td>\n",
       "      <td>SEC4</td>\n",
       "      <td>0.938091</td>\n",
       "      <td>YER136W</td>\n",
       "      <td>GDI1</td>\n",
       "      <td>0.640307</td>\n",
       "      <td>194897</td>\n",
       "      <td>99.0</td>\n",
       "    </tr>\n",
       "    <tr>\n",
       "      <th>3</th>\n",
       "      <td>YGR284C</td>\n",
       "      <td>ERV29</td>\n",
       "      <td>0.270923</td>\n",
       "      <td>YCL025C</td>\n",
       "      <td>AGP1</td>\n",
       "      <td>1.042684</td>\n",
       "      <td>191611</td>\n",
       "      <td>99.0</td>\n",
       "    </tr>\n",
       "    <tr>\n",
       "      <th>4</th>\n",
       "      <td>YNL190W</td>\n",
       "      <td>YNL190W</td>\n",
       "      <td>0.23103</td>\n",
       "      <td>YKR039W</td>\n",
       "      <td>GAP1</td>\n",
       "      <td>0.736054</td>\n",
       "      <td>191457</td>\n",
       "      <td>99.0</td>\n",
       "    </tr>\n",
       "    <tr>\n",
       "      <th>5</th>\n",
       "      <td>YOR054C</td>\n",
       "      <td>VHS3</td>\n",
       "      <td>0.078706</td>\n",
       "      <td>YJL002C</td>\n",
       "      <td>OST1</td>\n",
       "      <td>0.398253</td>\n",
       "      <td>190626</td>\n",
       "      <td>99.0</td>\n",
       "    </tr>\n",
       "    <tr>\n",
       "      <th>6</th>\n",
       "      <td>YOR270C</td>\n",
       "      <td>VPH1</td>\n",
       "      <td>1.06263</td>\n",
       "      <td>YPR036W</td>\n",
       "      <td>VMA13</td>\n",
       "      <td>0.275942</td>\n",
       "      <td>182953</td>\n",
       "      <td>99.0</td>\n",
       "    </tr>\n",
       "    <tr>\n",
       "      <th>7</th>\n",
       "      <td>YNL138W</td>\n",
       "      <td>SRV2</td>\n",
       "      <td>0.130933</td>\n",
       "      <td>YNL138W</td>\n",
       "      <td>SRV2</td>\n",
       "      <td>0.130933</td>\n",
       "      <td>180483</td>\n",
       "      <td>99.0</td>\n",
       "    </tr>\n",
       "    <tr>\n",
       "      <th>8</th>\n",
       "      <td>YNL190W</td>\n",
       "      <td>YNL190W</td>\n",
       "      <td>0.23103</td>\n",
       "      <td>YJL002C</td>\n",
       "      <td>OST1</td>\n",
       "      <td>0.398253</td>\n",
       "      <td>179079</td>\n",
       "      <td>99.0</td>\n",
       "    </tr>\n",
       "    <tr>\n",
       "      <th>9</th>\n",
       "      <td>YDL212W</td>\n",
       "      <td>SHR3</td>\n",
       "      <td>0.21271</td>\n",
       "      <td>YKR039W</td>\n",
       "      <td>GAP1</td>\n",
       "      <td>0.736054</td>\n",
       "      <td>176711</td>\n",
       "      <td>99.0</td>\n",
       "    </tr>\n",
       "  </tbody>\n",
       "</table>\n",
       "</div>"
      ],
      "text/plain": [
       "  MATa orf_name MATa gene_name     Abd_A MATalpha orf_name MATalpha_gene_name  \\\n",
       "0       YNL190W        YNL190W   0.23103           YCL025C               AGP1   \n",
       "1       YJR010W           MET3  0.730392           YJR010W               MET3   \n",
       "2       YFL005W           SEC4  0.938091           YER136W               GDI1   \n",
       "3       YGR284C          ERV29  0.270923           YCL025C               AGP1   \n",
       "4       YNL190W        YNL190W   0.23103           YKR039W               GAP1   \n",
       "5       YOR054C           VHS3  0.078706           YJL002C               OST1   \n",
       "6       YOR270C           VPH1   1.06263           YPR036W              VMA13   \n",
       "7       YNL138W           SRV2  0.130933           YNL138W               SRV2   \n",
       "8       YNL190W        YNL190W   0.23103           YJL002C               OST1   \n",
       "9       YDL212W           SHR3   0.21271           YKR039W               GAP1   \n",
       "\n",
       "      Abd_B  Colony_Size  PPV%  \n",
       "0  1.042684       214802  99.0  \n",
       "1  0.730392       203046  99.0  \n",
       "2  0.640307       194897  99.0  \n",
       "3  1.042684       191611  99.0  \n",
       "4  0.736054       191457  99.0  \n",
       "5  0.398253       190626  99.0  \n",
       "6  0.275942       182953  99.0  \n",
       "7  0.130933       180483  99.0  \n",
       "8  0.398253       179079  99.0  \n",
       "9  0.736054       176711  99.0  "
      ]
     },
     "execution_count": 19,
     "metadata": {},
     "output_type": "execute_result"
    }
   ],
   "source": [
    "df"
   ]
  },
  {
   "cell_type": "code",
   "execution_count": 20,
   "id": "88127118",
   "metadata": {},
   "outputs": [
    {
     "data": {
      "text/plain": [
       "4.117474630488058"
      ]
     },
     "execution_count": 20,
     "metadata": {},
     "output_type": "execute_result"
    }
   ],
   "source": [
    "df['Abd_A'].sum()"
   ]
  },
  {
   "cell_type": "code",
   "execution_count": 21,
   "id": "633069f7",
   "metadata": {},
   "outputs": [],
   "source": [
    "def cost(A_total, f_exp, f_curr):\n",
    "    f_sub=0\n",
    "    A_sub=0\n",
    "    for i in range(len(df)):\n",
    "        f_sub+=(f_curr[i]-f_exp[i])**2\n",
    "        A_sub=(A_total[i]-df['Abd_A'][i])**1\n",
    "\n",
    "#     print(f_sub,A_sub)\n",
    "    cost=f_sub+A_sub\n",
    "    return cost\n",
    "#     print('Cost: ',cost)\n",
    "#     print(f_sub)\n",
    "#     print(A_sub**2)"
   ]
  },
  {
   "cell_type": "code",
   "execution_count": 22,
   "id": "48f7ad44",
   "metadata": {},
   "outputs": [],
   "source": [
    "# mu = 1\n",
    "# sigma = 1.7\n",
    "# B=-0.01\n",
    "\n",
    "# f_exp=fitness_exp(df)\n",
    "# Kd_new=Kd_n(Kd)\n",
    "# A_total, f_curr=fitness(Kd, Ai, Aj)\n",
    "# A_total_new, f_curr_new=fitness(Kd_new, Ai, Aj)\n",
    "# C_old=cost(A_total, f_exp, f_curr)\n",
    "# print('\\n\\n')\n",
    "# C_new=cost(A_total_new, f_exp, f_curr_new)\n",
    "# print(Kd,'\\n\\n',Kd_new,'\\n\\n',f_curr,'\\n\\n',f_curr_new,'\\n\\n',C_old,'\\n\\n',C_new)"
   ]
  },
  {
   "cell_type": "code",
   "execution_count": 23,
   "id": "8488e636",
   "metadata": {
    "scrolled": true
   },
   "outputs": [
    {
     "data": {
      "text/plain": [
       "([11.354757473558438,\n",
       "  9.559202808409076,\n",
       "  7.05370035500792,\n",
       "  4.733896894231011,\n",
       "  7.65216986596473,\n",
       "  2.506648042105698,\n",
       "  7.645902978435512,\n",
       "  0.7518258300125797,\n",
       "  9.920033270259783,\n",
       "  2.0710457606825035],\n",
       " [2.8618039442898686e-08,\n",
       "  2.1779717666488878e-09,\n",
       "  1.3794342938916532e-10,\n",
       "  2.4572367704671556e-09,\n",
       "  7.276915649321835e-09,\n",
       "  6.871342349586294e-11,\n",
       "  1.2405165610816782e-08,\n",
       "  9.413502676343983e-10,\n",
       "  9.96591651329032e-09,\n",
       "  2.3286353819581057e-09])"
      ]
     },
     "execution_count": 23,
     "metadata": {},
     "output_type": "execute_result"
    }
   ],
   "source": [
    "A_total, f_curr=fitness(Kd, Ai, Aj)\n",
    "A_total, f_curr"
   ]
  },
  {
   "cell_type": "code",
   "execution_count": 24,
   "id": "4ddde907",
   "metadata": {},
   "outputs": [
    {
     "data": {
      "text/plain": [
       "[2.685688564527336e-05,\n",
       " 2.6694026504007606e-05,\n",
       " 2.6575504106811967e-05,\n",
       " 2.6526302895226932e-05,\n",
       " 2.652397640553916e-05,\n",
       " 2.6511390042470202e-05,\n",
       " 2.6392512426741455e-05,\n",
       " 2.6353181701215614e-05,\n",
       " 2.633058464898387e-05,\n",
       " 2.6292067810247114e-05]"
      ]
     },
     "execution_count": 24,
     "metadata": {},
     "output_type": "execute_result"
    }
   ],
   "source": [
    "f_exp=fitness_exp(df)\n",
    "f_exp"
   ]
  },
  {
   "cell_type": "code",
   "execution_count": 25,
   "id": "ff392167",
   "metadata": {},
   "outputs": [
    {
     "data": {
      "text/plain": [
       "[105.57604741062063,\n",
       " 768.5230722750725,\n",
       " 470.1345518609756,\n",
       " 515.214305832248,\n",
       " 345.65642753366865,\n",
       " 853.2446124072723,\n",
       " 124.06158657647553,\n",
       " 228.4818696377152,\n",
       " 320.9713982622141,\n",
       " 191.4644255000733]"
      ]
     },
     "execution_count": 25,
     "metadata": {},
     "output_type": "execute_result"
    }
   ],
   "source": [
    "Kd"
   ]
  },
  {
   "cell_type": "code",
   "execution_count": 26,
   "id": "b69378a8",
   "metadata": {},
   "outputs": [
    {
     "data": {
      "text/html": [
       "<div>\n",
       "<style scoped>\n",
       "    .dataframe tbody tr th:only-of-type {\n",
       "        vertical-align: middle;\n",
       "    }\n",
       "\n",
       "    .dataframe tbody tr th {\n",
       "        vertical-align: top;\n",
       "    }\n",
       "\n",
       "    .dataframe thead th {\n",
       "        text-align: right;\n",
       "    }\n",
       "</style>\n",
       "<table border=\"1\" class=\"dataframe\">\n",
       "  <thead>\n",
       "    <tr style=\"text-align: right;\">\n",
       "      <th></th>\n",
       "      <th>MATa orf_name</th>\n",
       "      <th>MATa gene_name</th>\n",
       "      <th>Abd_A</th>\n",
       "      <th>MATalpha orf_name</th>\n",
       "      <th>MATalpha_gene_name</th>\n",
       "      <th>Abd_B</th>\n",
       "      <th>Colony_Size</th>\n",
       "      <th>PPV%</th>\n",
       "    </tr>\n",
       "  </thead>\n",
       "  <tbody>\n",
       "    <tr>\n",
       "      <th>0</th>\n",
       "      <td>YNL190W</td>\n",
       "      <td>YNL190W</td>\n",
       "      <td>0.23103</td>\n",
       "      <td>YCL025C</td>\n",
       "      <td>AGP1</td>\n",
       "      <td>1.042684</td>\n",
       "      <td>214802</td>\n",
       "      <td>99.0</td>\n",
       "    </tr>\n",
       "    <tr>\n",
       "      <th>1</th>\n",
       "      <td>YJR010W</td>\n",
       "      <td>MET3</td>\n",
       "      <td>0.730392</td>\n",
       "      <td>YJR010W</td>\n",
       "      <td>MET3</td>\n",
       "      <td>0.730392</td>\n",
       "      <td>203046</td>\n",
       "      <td>99.0</td>\n",
       "    </tr>\n",
       "    <tr>\n",
       "      <th>2</th>\n",
       "      <td>YFL005W</td>\n",
       "      <td>SEC4</td>\n",
       "      <td>0.938091</td>\n",
       "      <td>YER136W</td>\n",
       "      <td>GDI1</td>\n",
       "      <td>0.640307</td>\n",
       "      <td>194897</td>\n",
       "      <td>99.0</td>\n",
       "    </tr>\n",
       "    <tr>\n",
       "      <th>3</th>\n",
       "      <td>YGR284C</td>\n",
       "      <td>ERV29</td>\n",
       "      <td>0.270923</td>\n",
       "      <td>YCL025C</td>\n",
       "      <td>AGP1</td>\n",
       "      <td>1.042684</td>\n",
       "      <td>191611</td>\n",
       "      <td>99.0</td>\n",
       "    </tr>\n",
       "    <tr>\n",
       "      <th>4</th>\n",
       "      <td>YNL190W</td>\n",
       "      <td>YNL190W</td>\n",
       "      <td>0.23103</td>\n",
       "      <td>YKR039W</td>\n",
       "      <td>GAP1</td>\n",
       "      <td>0.736054</td>\n",
       "      <td>191457</td>\n",
       "      <td>99.0</td>\n",
       "    </tr>\n",
       "    <tr>\n",
       "      <th>5</th>\n",
       "      <td>YOR054C</td>\n",
       "      <td>VHS3</td>\n",
       "      <td>0.078706</td>\n",
       "      <td>YJL002C</td>\n",
       "      <td>OST1</td>\n",
       "      <td>0.398253</td>\n",
       "      <td>190626</td>\n",
       "      <td>99.0</td>\n",
       "    </tr>\n",
       "    <tr>\n",
       "      <th>6</th>\n",
       "      <td>YOR270C</td>\n",
       "      <td>VPH1</td>\n",
       "      <td>1.06263</td>\n",
       "      <td>YPR036W</td>\n",
       "      <td>VMA13</td>\n",
       "      <td>0.275942</td>\n",
       "      <td>182953</td>\n",
       "      <td>99.0</td>\n",
       "    </tr>\n",
       "    <tr>\n",
       "      <th>7</th>\n",
       "      <td>YNL138W</td>\n",
       "      <td>SRV2</td>\n",
       "      <td>0.130933</td>\n",
       "      <td>YNL138W</td>\n",
       "      <td>SRV2</td>\n",
       "      <td>0.130933</td>\n",
       "      <td>180483</td>\n",
       "      <td>99.0</td>\n",
       "    </tr>\n",
       "    <tr>\n",
       "      <th>8</th>\n",
       "      <td>YNL190W</td>\n",
       "      <td>YNL190W</td>\n",
       "      <td>0.23103</td>\n",
       "      <td>YJL002C</td>\n",
       "      <td>OST1</td>\n",
       "      <td>0.398253</td>\n",
       "      <td>179079</td>\n",
       "      <td>99.0</td>\n",
       "    </tr>\n",
       "    <tr>\n",
       "      <th>9</th>\n",
       "      <td>YDL212W</td>\n",
       "      <td>SHR3</td>\n",
       "      <td>0.21271</td>\n",
       "      <td>YKR039W</td>\n",
       "      <td>GAP1</td>\n",
       "      <td>0.736054</td>\n",
       "      <td>176711</td>\n",
       "      <td>99.0</td>\n",
       "    </tr>\n",
       "  </tbody>\n",
       "</table>\n",
       "</div>"
      ],
      "text/plain": [
       "  MATa orf_name MATa gene_name     Abd_A MATalpha orf_name MATalpha_gene_name  \\\n",
       "0       YNL190W        YNL190W   0.23103           YCL025C               AGP1   \n",
       "1       YJR010W           MET3  0.730392           YJR010W               MET3   \n",
       "2       YFL005W           SEC4  0.938091           YER136W               GDI1   \n",
       "3       YGR284C          ERV29  0.270923           YCL025C               AGP1   \n",
       "4       YNL190W        YNL190W   0.23103           YKR039W               GAP1   \n",
       "5       YOR054C           VHS3  0.078706           YJL002C               OST1   \n",
       "6       YOR270C           VPH1   1.06263           YPR036W              VMA13   \n",
       "7       YNL138W           SRV2  0.130933           YNL138W               SRV2   \n",
       "8       YNL190W        YNL190W   0.23103           YJL002C               OST1   \n",
       "9       YDL212W           SHR3   0.21271           YKR039W               GAP1   \n",
       "\n",
       "      Abd_B  Colony_Size  PPV%  \n",
       "0  1.042684       214802  99.0  \n",
       "1  0.730392       203046  99.0  \n",
       "2  0.640307       194897  99.0  \n",
       "3  1.042684       191611  99.0  \n",
       "4  0.736054       191457  99.0  \n",
       "5  0.398253       190626  99.0  \n",
       "6  0.275942       182953  99.0  \n",
       "7  0.130933       180483  99.0  \n",
       "8  0.398253       179079  99.0  \n",
       "9  0.736054       176711  99.0  "
      ]
     },
     "execution_count": 26,
     "metadata": {},
     "output_type": "execute_result"
    }
   ],
   "source": [
    "df"
   ]
  },
  {
   "cell_type": "code",
   "execution_count": 27,
   "id": "5fa434b8",
   "metadata": {
    "scrolled": true
   },
   "outputs": [
    {
     "data": {
      "application/vnd.jupyter.widget-view+json": {
       "model_id": "d66243dc54924087a8a3464f6ae5894b",
       "version_major": 2,
       "version_minor": 0
      },
      "text/plain": [
       "Progress:   0%|          | 0/400000 [00:00<?, ?it/s]"
      ]
     },
     "metadata": {},
     "output_type": "display_data"
    },
    {
     "data": {
      "image/png": "[encoded data removed]",
      "text/plain": [
       "<Figure size 432x288 with 1 Axes>"
      ]
     },
     "metadata": {
      "needs_background": "light"
     },
     "output_type": "display_data"
    }
   ],
   "source": [
    "t=0\n",
    "\n",
    "mu = 1\n",
    "sigma = 1.7\n",
    "B=0.001\n",
    "Ai_max,Ai_min=max(Ai),min(Ai)\n",
    "Aj_max,Aj_min=max(Aj),min(Aj)\n",
    "\n",
    "dC_array=[]\n",
    "dC_sq_array=[]\n",
    "C_new_array=[]\n",
    "C_old_array=[]\n",
    "Ai_track=[]\n",
    "Aj_track=[]\n",
    "Kd_track=[]\n",
    "test=[]\n",
    "C_new=0\n",
    "\n",
    "\n",
    "\n",
    "# while(t<7000):\n",
    "for t in tqdm_notebook(range(400000),desc='Progress'):\n",
    "    \n",
    "    f_exp=fitness_exp(df)\n",
    "    Kd_new=Kd_n(Kd)\n",
    "    \n",
    "    Ai_len=len(Ai)\n",
    "    Ai_pos=random.randint(0,Ai_len-1)\n",
    "    E_a=random.gauss(0, 0.0001)\n",
    "    temp_Ai=Ai[Ai_pos]*(10**E_a)\n",
    "    Ai_tmp=Ai\n",
    "    if(temp_Ai<Ai_max and temp_Ai>Ai_min):\n",
    "        Ai_tmp[Ai_pos]=temp_Ai\n",
    "\n",
    "    Aj_len=len(Aj)\n",
    "    Aj_pos=random.randint(0,Aj_len-1)\n",
    "    E_b=random.gauss(0, 0.0001)\n",
    "    temp_Aj=Aj[Aj_pos]*(10**E_b)\n",
    "    Aj_tmp=Aj\n",
    "    if(temp_Aj<Aj_max and temp_Aj>Aj_min):\n",
    "        Aj_tmp[Aj_pos]=temp_Aj\n",
    "        \n",
    "        \n",
    "    A_total, f_curr=fitness(Kd, Ai, Aj)#comment this\n",
    "    A_total_new, f_curr_new=fitness(Kd_new, Ai_tmp, Aj_tmp)\n",
    "    C_old=cost(A_total, f_exp, f_curr)\n",
    "    C_new=cost(A_total_new, f_exp, f_curr_new)\n",
    "    dC=C_new-C_old\n",
    "    \n",
    "    C_old_array.append(C_old)\n",
    "    C_new_array.append(C_new)\n",
    "    dC_array.append(dC)\n",
    "    dC_sq_array.append(dC**2)\n",
    "    Ai_track.append(Ai.copy())\n",
    "    Aj_track.append(Aj.copy())\n",
    "    Kd_track.append(Kd)\n",
    "\n",
    "#     print('**',Ai_track,'\\n\\n')\n",
    "#     print(t,dC)\n",
    "    \n",
    "#     print(Kd,'\\n\\n',Kd_new,'\\n\\n',A_total,'\\n\\n',A_total_new,'\\n\\n',C_new,C_old,dC)\n",
    "#     test.append(np.exp(B*dC))\n",
    "    if(random.random()<=np.exp(-B*dC)): ##np. or math.\n",
    "#         print('1')\n",
    "#         C_new=cost(A_total_new, f_exp, f_curr_new)\n",
    "        Kd_new_temp=Kd_new\n",
    "        Ai=Ai_tmp\n",
    "        Aj=Aj_tmp\n",
    "\n",
    "#         print(t,Ai,'\\n',Aj,'\\n\\n')\n",
    "\n",
    "#         Ai_len=len(Ai)\n",
    "#         Ai_pos=random.randint(0,Ai_len-1)\n",
    "#         E_a=random.gauss(0, 0.0001)\n",
    "#         temp_Ai=Ai[Ai_pos]*(10**E_a)\n",
    "#         if(temp_Ai<Ai_max and temp_Ai>Ai_min):\n",
    "#             Ai[Ai_pos]=temp_Ai\n",
    "                \n",
    "#         Aj_len=len(Aj)\n",
    "#         Aj_pos=random.randint(0,Aj_len-1)\n",
    "#         E_b=random.gauss(0, 0.0001)\n",
    "#         temp_Aj=Aj[Aj_pos]*(10**E_b)\n",
    "#         if(temp_Aj<Aj_max and temp_Aj>Aj_min):\n",
    "#             Aj[Aj_pos]=temp_Aj\n",
    "\n",
    "#         print(Ai_pos,Aj_pos)\n",
    "#         print(Ai,'\\n',temp_Ai,'\\n',Aj,'\\n',temp_Aj,'\\n\\n')\n",
    "\n",
    "    else:\n",
    "#         print('2')\n",
    "        Kd_new_temp=Kd\n",
    "        Ai_tmp=Ai\n",
    "        Aj_tmp=Aj\n",
    "#         Ai=Ai_tmp\n",
    "#         Aj=Aj_tmp\n",
    "    \n",
    "#         Ai_max,Ai_min=max(Ai),min(Ai)\n",
    "#         E_a=random.gauss(0, 0.0001)\n",
    "#         Ai=[(element*(10**E_a) if (element*(10**E_a)>Ai_min and element*(10**E_a)<Ai_max) else element) for element in Ai]\n",
    "        \n",
    "#         Aj_max,Aj_min=max(Aj),min(Aj)\n",
    "#         E_b=random.gauss(0, 0.0001)\n",
    "#         Aj=[(element*(10**E_b) if (element*(10**E_b)>Aj_min and element*(10**E_b)<Aj_max) else element) for element in Aj]\n",
    "\n",
    "    Kd=Kd_new_temp\n",
    "    t=t+1\n",
    "#     print(t,'out',Ai,'\\n',Aj,'\\n\\n\\n')\n",
    "\n",
    "    \n",
    "#     count=0\n",
    "#     x=[]\n",
    "#     y=C_new_array\n",
    "\n",
    "#     for a in range(len(y)):\n",
    "#         x.append(a)\n",
    "\n",
    "#     plt.plot(x,y)\n",
    "#     plt.show()\n",
    "#     clear_output(wait=False)\n",
    "\n",
    "#     print(t,B,dC)\n",
    "#     if dC<=math.exp(-3):\n",
    "#         break\n",
    "    \n",
    "# print(Kd,'\\n\\n', Kd_new,'\\n\\n', Kd_new_temp,'\\n\\n',dC,'\\n TIME:',t)\n",
    "\n",
    "count=0\n",
    "x=[]\n",
    "y=C_new_array\n",
    "\n",
    "for a in range(len(y)):\n",
    "    x.append(a)\n",
    "    \n",
    "plt.plot(x,y)\n",
    "plt.show()"
   ]
  },
  {
   "cell_type": "code",
   "execution_count": 28,
   "id": "5070c468",
   "metadata": {
    "scrolled": true
   },
   "outputs": [
    {
     "data": {
      "image/png": "[encoded data removed]",
      "text/plain": [
       "<Figure size 432x288 with 1 Axes>"
      ]
     },
     "metadata": {
      "needs_background": "light"
     },
     "output_type": "display_data"
    }
   ],
   "source": [
    "count=0\n",
    "x=[]\n",
    "y=C_old_array\n",
    "\n",
    "for a in range(len(y)):\n",
    "    x.append(a)\n",
    "    \n",
    "plt.plot(x,y)\n",
    "plt.show()"
   ]
  },
  {
   "cell_type": "code",
   "execution_count": 29,
   "id": "20ce62e4",
   "metadata": {},
   "outputs": [
    {
     "data": {
      "image/png": "[encoded data removed]",
      "text/plain": [
       "<Figure size 432x288 with 1 Axes>"
      ]
     },
     "metadata": {
      "needs_background": "light"
     },
     "output_type": "display_data"
    }
   ],
   "source": [
    "count=0\n",
    "x=[]\n",
    "y=dC_array\n",
    "\n",
    "for a in range(len(y)):\n",
    "    x.append(a)\n",
    "    \n",
    "plt.plot(x,y)\n",
    "plt.show()"
   ]
  },
  {
   "cell_type": "code",
   "execution_count": 30,
   "id": "1064647d",
   "metadata": {},
   "outputs": [
    {
     "data": {
      "image/png": "[encoded data removed]",
      "text/plain": [
       "<Figure size 432x288 with 1 Axes>"
      ]
     },
     "metadata": {
      "needs_background": "light"
     },
     "output_type": "display_data"
    }
   ],
   "source": [
    "count=0\n",
    "x=[]\n",
    "y=dC_sq_array\n",
    "\n",
    "for a in range(len(y)):\n",
    "    x.append(a)\n",
    "    \n",
    "plt.plot(x,y)\n",
    "plt.show()"
   ]
  },
  {
   "cell_type": "code",
   "execution_count": 31,
   "id": "8f3a2272",
   "metadata": {
    "scrolled": false
   },
   "outputs": [
    {
     "data": {
      "text/plain": [
       "[<matplotlib.lines.Line2D at 0x7f44b802cbb0>,\n",
       " <matplotlib.lines.Line2D at 0x7f44b802cb50>,\n",
       " <matplotlib.lines.Line2D at 0x7f44b802cc70>,\n",
       " <matplotlib.lines.Line2D at 0x7f44b802cd90>,\n",
       " <matplotlib.lines.Line2D at 0x7f44b802ceb0>,\n",
       " <matplotlib.lines.Line2D at 0x7f44b802cfd0>,\n",
       " <matplotlib.lines.Line2D at 0x7f44b8041130>,\n",
       " <matplotlib.lines.Line2D at 0x7f44b8041250>,\n",
       " <matplotlib.lines.Line2D at 0x7f44b8041370>,\n",
       " <matplotlib.lines.Line2D at 0x7f44b8041490>]"
      ]
     },
     "execution_count": 31,
     "metadata": {},
     "output_type": "execute_result"
    },
    {
     "data": {
      "image/png": "[encoded data removed]",
      "text/plain": [
       "<Figure size 432x288 with 1 Axes>"
      ]
     },
     "metadata": {
      "needs_background": "light"
     },
     "output_type": "display_data"
    }
   ],
   "source": [
    "rng=np.arange(0,len(Ai_track))\n",
    "plt.plot(Ai_track,rng)"
   ]
  },
  {
   "cell_type": "code",
   "execution_count": 32,
   "id": "76742712",
   "metadata": {},
   "outputs": [],
   "source": [
    "# t,Ai_track"
   ]
  },
  {
   "cell_type": "code",
   "execution_count": 33,
   "id": "37ccaafc",
   "metadata": {},
   "outputs": [
    {
     "data": {
      "text/plain": [
       "[<matplotlib.lines.Line2D at 0x7f44b7fba3d0>,\n",
       " <matplotlib.lines.Line2D at 0x7f44b7fba430>,\n",
       " <matplotlib.lines.Line2D at 0x7f44b7fba550>,\n",
       " <matplotlib.lines.Line2D at 0x7f44b7fba670>,\n",
       " <matplotlib.lines.Line2D at 0x7f44b7fba790>,\n",
       " <matplotlib.lines.Line2D at 0x7f44b7fba8b0>,\n",
       " <matplotlib.lines.Line2D at 0x7f44b7fba9d0>,\n",
       " <matplotlib.lines.Line2D at 0x7f44b7fbaaf0>,\n",
       " <matplotlib.lines.Line2D at 0x7f44b7fbac10>,\n",
       " <matplotlib.lines.Line2D at 0x7f44b7fbad30>]"
      ]
     },
     "execution_count": 33,
     "metadata": {},
     "output_type": "execute_result"
    },
    {
     "data": {
      "image/png": "[encoded data removed]",
      "text/plain": [
       "<Figure size 432x288 with 1 Axes>"
      ]
     },
     "metadata": {
      "needs_background": "light"
     },
     "output_type": "display_data"
    }
   ],
   "source": [
    "rng=np.arange(0,len(Aj_track))\n",
    "plt.plot(Aj_track,rng)"
   ]
  },
  {
   "cell_type": "code",
   "execution_count": 34,
   "id": "f13b8f2c",
   "metadata": {},
   "outputs": [],
   "source": [
    "# Aj_track"
   ]
  },
  {
   "cell_type": "code",
   "execution_count": 35,
   "id": "c1a1b391",
   "metadata": {
    "scrolled": true
   },
   "outputs": [
    {
     "data": {
      "text/plain": [
       "[<matplotlib.lines.Line2D at 0x7f44b7ec81f0>,\n",
       " <matplotlib.lines.Line2D at 0x7f44b7ec8250>,\n",
       " <matplotlib.lines.Line2D at 0x7f44b7ec8370>,\n",
       " <matplotlib.lines.Line2D at 0x7f44b7ec8490>,\n",
       " <matplotlib.lines.Line2D at 0x7f44b7ec85b0>,\n",
       " <matplotlib.lines.Line2D at 0x7f44b7ec86d0>,\n",
       " <matplotlib.lines.Line2D at 0x7f44b7ec87f0>,\n",
       " <matplotlib.lines.Line2D at 0x7f44b7ec8910>,\n",
       " <matplotlib.lines.Line2D at 0x7f44b7ec8a30>,\n",
       " <matplotlib.lines.Line2D at 0x7f44b7ec8b50>]"
      ]
     },
     "execution_count": 35,
     "metadata": {},
     "output_type": "execute_result"
    },
    {
     "data": {
      "image/png": "[encoded data removed]",
      "text/plain": [
       "<Figure size 432x288 with 1 Axes>"
      ]
     },
     "metadata": {
      "needs_background": "light"
     },
     "output_type": "display_data"
    }
   ],
   "source": [
    "rng=np.arange(0,len(Kd_track))\n",
    "plt.plot(Kd_track,rng)"
   ]
  },
  {
   "cell_type": "code",
   "execution_count": 36,
   "id": "5ff9ead8",
   "metadata": {},
   "outputs": [
    {
     "data": {
      "text/plain": [
       "[105.57604741062063,\n",
       " 768.5230722750725,\n",
       " 470.1345518609756,\n",
       " 515.214305832248,\n",
       " 345.65642753366865,\n",
       " 853.2446124072723,\n",
       " 124.06158657647553,\n",
       " 228.4818696377152,\n",
       " 320.9713982622141,\n",
       " 191.4644255000733]"
      ]
     },
     "execution_count": 36,
     "metadata": {},
     "output_type": "execute_result"
    }
   ],
   "source": [
    "Kd_initial"
   ]
  },
  {
   "cell_type": "code",
   "execution_count": 37,
   "id": "cd25abb6",
   "metadata": {},
   "outputs": [
    {
     "data": {
      "text/plain": [
       "[6.570675895466624e+175,\n",
       " 4.78301295602357e+176,\n",
       " 2.925949439577194e+176,\n",
       " 3.2065097182175963e+176,\n",
       " 2.1512420783049748e+176,\n",
       " 5.310289545010281e+176,\n",
       " 7.72114979168417e+175,\n",
       " 1.421989504438188e+176,\n",
       " 1.9976112777675864e+176,\n",
       " 1.1916061609881079e+176]"
      ]
     },
     "execution_count": 37,
     "metadata": {},
     "output_type": "execute_result"
    }
   ],
   "source": [
    "Kd"
   ]
  }
 ],
 "metadata": {
  "kernelspec": {
   "display_name": "Python 3 (ipykernel)",
   "language": "python",
   "name": "python3"
  },
  "language_info": {
   "codemirror_mode": {
    "name": "ipython",
    "version": 3
   },
   "file_extension": ".py",
   "mimetype": "text/x-python",
   "name": "python",
   "nbconvert_exporter": "python",
   "pygments_lexer": "ipython3",
   "version": "3.9.12"
  }
 },
 "nbformat": 4,
 "nbformat_minor": 5
}
