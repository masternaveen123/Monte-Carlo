{
 "cells": [
  {
   "cell_type": "code",
   "execution_count": 1,
   "id": "5df679fe",
   "metadata": {},
   "outputs": [],
   "source": [
    "import numpy as np\n",
    "import matplotlib\n",
    "matplotlib.use('tkagg')\n",
    "import matplotlib.pyplot as plt\n",
    "import random\n",
    "\n",
    "X = [0]\n",
    "t = [0]\n",
    "\n",
    "tend = 1000\n",
    "\n",
    "k = 2\n",
    "gamma = 0.1"
   ]
  },
  {
   "cell_type": "code",
   "execution_count": null,
   "id": "66530363",
   "metadata": {},
   "outputs": [],
   "source": [
    "while t[-1] < tend:\n",
    "\n",
    "        current_X = X[-1]\n",
    "\n",
    "        rates = [k, gamma * current_X]\n",
    "        rate_sum = sum(rates)\n",
    "\n",
    "        tau = np.random.exponential(scale=1/rate_sum)\n",
    "\n",
    "        t.append(t[-1] + tau)\n",
    "\n",
    "        rand = random.uniform(0,1)\n",
    "\n",
    "        # production event\n",
    "        if rand * rate_sum > 0 and rand * rate_sum <= rates[0]:\n",
    "                X.append(X[-1] + 1)\n",
    "\n",
    "        # decay event\n",
    "        elif rand * rate_sum > rates[0] and rand * rate_sum <= rates[0] + rates[1]:\n",
    "                X.append(X[-1] - 1)\n",
    "        \n",
    "        plt.plot(t,X)\n",
    "        plt.xlabel(\"time\")\n",
    "        plt.ylabel(\"mRNA quantity\")\n",
    "        plt.show()"
   ]
  },
  {
   "cell_type": "code",
   "execution_count": null,
   "id": "14396f2b",
   "metadata": {},
   "outputs": [],
   "source": [
    "plt.plot(t,X)\n",
    "plt.xlabel(\"time\")\n",
    "plt.ylabel(\"mRNA quantity\")\n",
    "plt.show()"
   ]
  },
  {
   "cell_type": "code",
   "execution_count": null,
   "id": "690b8cc7",
   "metadata": {},
   "outputs": [],
   "source": []
  }
 ],
 "metadata": {
  "kernelspec": {
   "display_name": "Python 3 (ipykernel)",
   "language": "python",
   "name": "python3"
  },
  "language_info": {
   "codemirror_mode": {
    "name": "ipython",
    "version": 3
   },
   "file_extension": ".py",
   "mimetype": "text/x-python",
   "name": "python",
   "nbconvert_exporter": "python",
   "pygments_lexer": "ipython3",
   "version": "3.9.12"
  }
 },
 "nbformat": 4,
 "nbformat_minor": 5
}
