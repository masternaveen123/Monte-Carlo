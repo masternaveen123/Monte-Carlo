{
 "cells": [
  {
   "cell_type": "code",
   "execution_count": 1,
   "id": "5d74f3bd",
   "metadata": {},
   "outputs": [],
   "source": [
    "import pandas as pd \n",
    "import numpy as np\n",
    "import random\n",
    "import math\n",
    "import matplotlib.pyplot as plt\n",
    "import pandas as pd\n",
    "from matplotlib import animation\n",
    "import statistics\n",
    "from IPython.display import clear_output\n",
    "import scipy\n",
    "from scipy.stats import norm"
   ]
  },
  {
   "cell_type": "code",
   "execution_count": 2,
   "id": "c0534efe",
   "metadata": {},
   "outputs": [
    {
     "data": {
      "text/html": [
       "<div>\n",
       "<style scoped>\n",
       "    .dataframe tbody tr th:only-of-type {\n",
       "        vertical-align: middle;\n",
       "    }\n",
       "\n",
       "    .dataframe tbody tr th {\n",
       "        vertical-align: top;\n",
       "    }\n",
       "\n",
       "    .dataframe thead th {\n",
       "        text-align: right;\n",
       "    }\n",
       "</style>\n",
       "<table border=\"1\" class=\"dataframe\">\n",
       "  <thead>\n",
       "    <tr style=\"text-align: right;\">\n",
       "      <th></th>\n",
       "      <th>Protein_A</th>\n",
       "      <th>Protein_B</th>\n",
       "      <th>Abd_A</th>\n",
       "      <th>Abd_B</th>\n",
       "      <th>Colony_Size</th>\n",
       "    </tr>\n",
       "  </thead>\n",
       "  <tbody>\n",
       "    <tr>\n",
       "      <th>0</th>\n",
       "      <td>AAR2</td>\n",
       "      <td>LSM1</td>\n",
       "      <td>2.55</td>\n",
       "      <td>1066.00</td>\n",
       "      <td>23584</td>\n",
       "    </tr>\n",
       "    <tr>\n",
       "      <th>1</th>\n",
       "      <td>ABD1</td>\n",
       "      <td>TAF2</td>\n",
       "      <td>18.40</td>\n",
       "      <td>8.01</td>\n",
       "      <td>21605</td>\n",
       "    </tr>\n",
       "    <tr>\n",
       "      <th>2</th>\n",
       "      <td>ABD1</td>\n",
       "      <td>ECM4</td>\n",
       "      <td>18.40</td>\n",
       "      <td>21.90</td>\n",
       "      <td>21005</td>\n",
       "    </tr>\n",
       "    <tr>\n",
       "      <th>3</th>\n",
       "      <td>ABD1</td>\n",
       "      <td>RNR2</td>\n",
       "      <td>18.40</td>\n",
       "      <td>352.00</td>\n",
       "      <td>21044</td>\n",
       "    </tr>\n",
       "    <tr>\n",
       "      <th>4</th>\n",
       "      <td>ABF2</td>\n",
       "      <td>UBP6</td>\n",
       "      <td>640.00</td>\n",
       "      <td>126.00</td>\n",
       "      <td>21573</td>\n",
       "    </tr>\n",
       "    <tr>\n",
       "      <th>...</th>\n",
       "      <td>...</td>\n",
       "      <td>...</td>\n",
       "      <td>...</td>\n",
       "      <td>...</td>\n",
       "      <td>...</td>\n",
       "    </tr>\n",
       "    <tr>\n",
       "      <th>8554</th>\n",
       "      <td>ZIP2</td>\n",
       "      <td>DBP5</td>\n",
       "      <td>1.60</td>\n",
       "      <td>156.00</td>\n",
       "      <td>22056</td>\n",
       "    </tr>\n",
       "    <tr>\n",
       "      <th>8555</th>\n",
       "      <td>ZPR1</td>\n",
       "      <td>TAF2</td>\n",
       "      <td>119.00</td>\n",
       "      <td>8.01</td>\n",
       "      <td>22383</td>\n",
       "    </tr>\n",
       "    <tr>\n",
       "      <th>8556</th>\n",
       "      <td>ZPR1</td>\n",
       "      <td>ECM4</td>\n",
       "      <td>119.00</td>\n",
       "      <td>21.90</td>\n",
       "      <td>21555</td>\n",
       "    </tr>\n",
       "    <tr>\n",
       "      <th>8557</th>\n",
       "      <td>ZPR1</td>\n",
       "      <td>RNR2</td>\n",
       "      <td>119.00</td>\n",
       "      <td>352.00</td>\n",
       "      <td>38017</td>\n",
       "    </tr>\n",
       "    <tr>\n",
       "      <th>8558</th>\n",
       "      <td>ZRT3</td>\n",
       "      <td>TPM2</td>\n",
       "      <td>20.70</td>\n",
       "      <td>405.00</td>\n",
       "      <td>20805</td>\n",
       "    </tr>\n",
       "  </tbody>\n",
       "</table>\n",
       "<p>8559 rows × 5 columns</p>\n",
       "</div>"
      ],
      "text/plain": [
       "     Protein_A Protein_B   Abd_A    Abd_B  Colony_Size\n",
       "0         AAR2      LSM1    2.55  1066.00        23584\n",
       "1         ABD1      TAF2   18.40     8.01        21605\n",
       "2         ABD1      ECM4   18.40    21.90        21005\n",
       "3         ABD1      RNR2   18.40   352.00        21044\n",
       "4         ABF2      UBP6  640.00   126.00        21573\n",
       "...        ...       ...     ...      ...          ...\n",
       "8554      ZIP2      DBP5    1.60   156.00        22056\n",
       "8555      ZPR1      TAF2  119.00     8.01        22383\n",
       "8556      ZPR1      ECM4  119.00    21.90        21555\n",
       "8557      ZPR1      RNR2  119.00   352.00        38017\n",
       "8558      ZRT3      TPM2   20.70   405.00        20805\n",
       "\n",
       "[8559 rows x 5 columns]"
      ]
     },
     "execution_count": 2,
     "metadata": {},
     "output_type": "execute_result"
    }
   ],
   "source": [
    "df = pd.read_csv(\"tarassov_important_interactions.csv\") \n",
    "df"
   ]
  },
  {
   "cell_type": "code",
   "execution_count": 3,
   "id": "f0b5e419",
   "metadata": {},
   "outputs": [
    {
     "name": "stdout",
     "output_type": "stream",
     "text": [
      "135.45097090781633 278.43736789713654\n"
     ]
    }
   ],
   "source": [
    "pro_A=df['Abd_A'].to_list()\n",
    "pro_B=df['Abd_B'].to_list()\n",
    "pro_A\n",
    "A_mean,A_stdev=statistics.mean(pro_A),statistics.stdev(pro_A)\n",
    "print(A_mean, A_stdev)\n",
    "B_mean,B_stdev=statistics.mean(pro_B),statistics.stdev(pro_B)\n",
    "# mu, std = norm.fit(pro_A)\n",
    "# mu,std"
   ]
  },
  {
   "cell_type": "code",
   "execution_count": 4,
   "id": "9786c30f",
   "metadata": {},
   "outputs": [
    {
     "data": {
      "text/plain": [
       "(2.011137748625455, 0.0, 1099.3345445884029)"
      ]
     },
     "execution_count": 4,
     "metadata": {},
     "output_type": "execute_result"
    }
   ],
   "source": [
    "import numpy as np \n",
    "from scipy import stats\n",
    "x = 2 * np.random.randn(10000) + 7.0 # normally  distributed values\n",
    "y = np.exp(x) # these values have lognormal distribution\n",
    "stats.lognorm.fit(y, floc=0)"
   ]
  },
  {
   "cell_type": "code",
   "execution_count": 5,
   "id": "c4689446",
   "metadata": {},
   "outputs": [
    {
     "name": "stdout",
     "output_type": "stream",
     "text": [
      "135.45097090781636\n",
      "278.43736789713654\n"
     ]
    }
   ],
   "source": [
    "from statistics import NormalDist\n",
    "\n",
    "# data = [0.7237248252340628, 0.6402731706462489, -1.0616113628912391, -1.7796451823371144, -0.1475852030122049, 0.5617952240065559, -0.6371760932160501, -0.7257277223562687, 1.699633029946764, 0.2155375969350495, -0.33371076371293323, 0.1905125348631894, -0.8175477853425216, -1.7549449090704003, -0.512427115804309, 0.9720486316086447, 0.6248742504909869, 0.7450655841312533, -0.1451632129830228, -1.0252663611514108]\n",
    "norm = NormalDist.from_samples(pro_A)\n",
    "# NormalDist(mu=-0.12836704320073597, sigma=0.9240861018557649)\n",
    "print(norm.mean)\n",
    "# -0.12836704320073597\n",
    "print(norm.stdev)\n"
   ]
  },
  {
   "cell_type": "code",
   "execution_count": 6,
   "id": "46d7e2d1",
   "metadata": {},
   "outputs": [
    {
     "name": "stdout",
     "output_type": "stream",
     "text": [
      "9310.0 0.0 3420.0 0.13\n"
     ]
    },
    {
     "data": {
      "text/plain": [
       "(9310, 0, 3420, 0)"
      ]
     },
     "execution_count": 6,
     "metadata": {},
     "output_type": "execute_result"
    }
   ],
   "source": [
    "Ai_max,Ai_min,Aj_max,Aj_min=df['Abd_A'].max(),df['Abd_A'].min(),df['Abd_B'].max(),df['Abd_B'].min()\n",
    "print(Ai_max,Ai_min,Aj_max,Aj_min)\n",
    "# print(math.ceil(Ai_max),math.floor(Ai_min),math.ceil(Aj_max),math.floor(Aj_min))\n",
    "Ai_max,Ai_min,Aj_max,Aj_min=math.ceil(Ai_max),math.floor(Ai_min),math.ceil(Aj_max),math.floor(Aj_min)\n",
    "Ai_max,Ai_min,Aj_max,Aj_min"
   ]
  },
  {
   "cell_type": "code",
   "execution_count": 7,
   "id": "434d6de4",
   "metadata": {},
   "outputs": [],
   "source": [
    "df.sort_values(by=['Colony_Size'], inplace=True, ascending=False)\n",
    "df=df[1:11]"
   ]
  },
  {
   "cell_type": "code",
   "execution_count": 8,
   "id": "612f2d2f",
   "metadata": {},
   "outputs": [],
   "source": [
    "# df\n",
    "df.reset_index(drop=True,inplace=True)"
   ]
  },
  {
   "cell_type": "code",
   "execution_count": 9,
   "id": "10dedc77",
   "metadata": {
    "scrolled": true
   },
   "outputs": [
    {
     "data": {
      "text/html": [
       "<div>\n",
       "<style scoped>\n",
       "    .dataframe tbody tr th:only-of-type {\n",
       "        vertical-align: middle;\n",
       "    }\n",
       "\n",
       "    .dataframe tbody tr th {\n",
       "        vertical-align: top;\n",
       "    }\n",
       "\n",
       "    .dataframe thead th {\n",
       "        text-align: right;\n",
       "    }\n",
       "</style>\n",
       "<table border=\"1\" class=\"dataframe\">\n",
       "  <thead>\n",
       "    <tr style=\"text-align: right;\">\n",
       "      <th></th>\n",
       "      <th>Protein_A</th>\n",
       "      <th>Protein_B</th>\n",
       "      <th>Abd_A</th>\n",
       "      <th>Abd_B</th>\n",
       "      <th>Colony_Size</th>\n",
       "    </tr>\n",
       "  </thead>\n",
       "  <tbody>\n",
       "    <tr>\n",
       "      <th>0</th>\n",
       "      <td>YNL190W</td>\n",
       "      <td>AGP1</td>\n",
       "      <td>835.0</td>\n",
       "      <td>10.6</td>\n",
       "      <td>214802</td>\n",
       "    </tr>\n",
       "    <tr>\n",
       "      <th>1</th>\n",
       "      <td>MET3</td>\n",
       "      <td>MET3</td>\n",
       "      <td>57.1</td>\n",
       "      <td>57.1</td>\n",
       "      <td>203046</td>\n",
       "    </tr>\n",
       "    <tr>\n",
       "      <th>2</th>\n",
       "      <td>SEC4</td>\n",
       "      <td>GDI1</td>\n",
       "      <td>234.0</td>\n",
       "      <td>172.0</td>\n",
       "      <td>194897</td>\n",
       "    </tr>\n",
       "    <tr>\n",
       "      <th>3</th>\n",
       "      <td>ERV29</td>\n",
       "      <td>AGP1</td>\n",
       "      <td>49.8</td>\n",
       "      <td>10.6</td>\n",
       "      <td>191611</td>\n",
       "    </tr>\n",
       "    <tr>\n",
       "      <th>4</th>\n",
       "      <td>YNL190W</td>\n",
       "      <td>GAP1</td>\n",
       "      <td>835.0</td>\n",
       "      <td>11.9</td>\n",
       "      <td>191457</td>\n",
       "    </tr>\n",
       "    <tr>\n",
       "      <th>5</th>\n",
       "      <td>VHS3</td>\n",
       "      <td>OST1</td>\n",
       "      <td>14.9</td>\n",
       "      <td>52.8</td>\n",
       "      <td>190626</td>\n",
       "    </tr>\n",
       "    <tr>\n",
       "      <th>6</th>\n",
       "      <td>VPH1</td>\n",
       "      <td>VMA13</td>\n",
       "      <td>149.0</td>\n",
       "      <td>207.0</td>\n",
       "      <td>182953</td>\n",
       "    </tr>\n",
       "    <tr>\n",
       "      <th>7</th>\n",
       "      <td>SRV2</td>\n",
       "      <td>SRV2</td>\n",
       "      <td>255.0</td>\n",
       "      <td>255.0</td>\n",
       "      <td>180483</td>\n",
       "    </tr>\n",
       "    <tr>\n",
       "      <th>8</th>\n",
       "      <td>YNL190W</td>\n",
       "      <td>OST1</td>\n",
       "      <td>835.0</td>\n",
       "      <td>52.8</td>\n",
       "      <td>179079</td>\n",
       "    </tr>\n",
       "    <tr>\n",
       "      <th>9</th>\n",
       "      <td>SHR3</td>\n",
       "      <td>GAP1</td>\n",
       "      <td>35.7</td>\n",
       "      <td>11.9</td>\n",
       "      <td>176711</td>\n",
       "    </tr>\n",
       "  </tbody>\n",
       "</table>\n",
       "</div>"
      ],
      "text/plain": [
       "  Protein_A Protein_B  Abd_A  Abd_B  Colony_Size\n",
       "0   YNL190W      AGP1  835.0   10.6       214802\n",
       "1      MET3      MET3   57.1   57.1       203046\n",
       "2      SEC4      GDI1  234.0  172.0       194897\n",
       "3     ERV29      AGP1   49.8   10.6       191611\n",
       "4   YNL190W      GAP1  835.0   11.9       191457\n",
       "5      VHS3      OST1   14.9   52.8       190626\n",
       "6      VPH1     VMA13  149.0  207.0       182953\n",
       "7      SRV2      SRV2  255.0  255.0       180483\n",
       "8   YNL190W      OST1  835.0   52.8       179079\n",
       "9      SHR3      GAP1   35.7   11.9       176711"
      ]
     },
     "execution_count": 9,
     "metadata": {},
     "output_type": "execute_result"
    }
   ],
   "source": [
    "df"
   ]
  },
  {
   "cell_type": "code",
   "execution_count": 10,
   "id": "bd2228f5",
   "metadata": {},
   "outputs": [
    {
     "data": {
      "text/plain": [
       "[3610.663824138369,\n",
       " 1511.1007582149912,\n",
       " 2602.643432723334,\n",
       " 304.79223840946173,\n",
       " 3886.341639464752,\n",
       " 4535.084656589778,\n",
       " 7242.7255775296535,\n",
       " 5633.225610995189,\n",
       " 584.2996843233472,\n",
       " 4539.512000555335]"
      ]
     },
     "execution_count": 10,
     "metadata": {},
     "output_type": "execute_result"
    }
   ],
   "source": [
    "Kd = []\n",
    "for i in range(len(df)):\n",
    "       Kd_rand = random.uniform(1, 10**4)\n",
    "       Kd.append(Kd_rand)\n",
    "\n",
    "Kd"
   ]
  },
  {
   "cell_type": "code",
   "execution_count": 11,
   "id": "a075ebc1",
   "metadata": {},
   "outputs": [],
   "source": [
    "mu_A, sigma_A = 3.7967176508404124, 1.5635593244880654 # mean and standard deviation\n",
    "mu_B, sigma_B = 4.069167482029483, 1.5642948498523275 # mean and standard deviation"
   ]
  },
  {
   "cell_type": "code",
   "execution_count": 12,
   "id": "aab72463",
   "metadata": {},
   "outputs": [
    {
     "name": "stdout",
     "output_type": "stream",
     "text": [
      "0 9310\n"
     ]
    },
    {
     "data": {
      "text/plain": [
       "[8819.715277756964,\n",
       " 3992.720004449838,\n",
       " 604.0502088821522,\n",
       " 5934.1869046402835,\n",
       " 3730.0185991543117,\n",
       " 6562.705832627379,\n",
       " 824.326643128077,\n",
       " 7914.831306302332,\n",
       " 1696.5864941927143,\n",
       " 2938.1168290769456]"
      ]
     },
     "execution_count": 12,
     "metadata": {},
     "output_type": "execute_result"
    }
   ],
   "source": [
    "Ai = []\n",
    "for i in range(len(df)):\n",
    "       Ai_rand = random.uniform(Ai_min, Ai_max)\n",
    "#        Ai_rand = np.random.lognormal(mu_A, sigma_A)\n",
    "       Ai.append(Ai_rand)\n",
    "\n",
    "print(Ai_min, Ai_max)\n",
    "Ai"
   ]
  },
  {
   "cell_type": "code",
   "execution_count": 13,
   "id": "787588cd",
   "metadata": {},
   "outputs": [
    {
     "name": "stdout",
     "output_type": "stream",
     "text": [
      "0 3420\n"
     ]
    },
    {
     "data": {
      "text/plain": [
       "[586.8896738997732,\n",
       " 237.9027152369404,\n",
       " 2507.555631019141,\n",
       " 675.816689842032,\n",
       " 184.0031220965413,\n",
       " 1710.7669187339104,\n",
       " 1901.7017127011993,\n",
       " 2033.3934051612043,\n",
       " 1082.1313351584101,\n",
       " 922.7603100190462]"
      ]
     },
     "execution_count": 13,
     "metadata": {},
     "output_type": "execute_result"
    }
   ],
   "source": [
    "Aj = []\n",
    "for i in range(len(df)):\n",
    "       Aj_rand = random.uniform(Aj_min, Aj_max)\n",
    "#        Aj_rand = np.random.lognormal(mu_B, sigma_B)\n",
    "       Aj.append(Aj_rand)\n",
    "    \n",
    "print(Aj_min, Aj_max)\n",
    "Aj"
   ]
  },
  {
   "cell_type": "code",
   "execution_count": 14,
   "id": "5274fb44",
   "metadata": {},
   "outputs": [
    {
     "data": {
      "text/html": [
       "<div>\n",
       "<style scoped>\n",
       "    .dataframe tbody tr th:only-of-type {\n",
       "        vertical-align: middle;\n",
       "    }\n",
       "\n",
       "    .dataframe tbody tr th {\n",
       "        vertical-align: top;\n",
       "    }\n",
       "\n",
       "    .dataframe thead th {\n",
       "        text-align: right;\n",
       "    }\n",
       "</style>\n",
       "<table border=\"1\" class=\"dataframe\">\n",
       "  <thead>\n",
       "    <tr style=\"text-align: right;\">\n",
       "      <th></th>\n",
       "      <th>Systematic Name</th>\n",
       "      <th>Standard Name</th>\n",
       "      <th>Qualifier a</th>\n",
       "      <th>Mean molecules per cell</th>\n",
       "      <th>Median molecules per cell</th>\n",
       "      <th>Coefficient of Variation</th>\n",
       "      <th>LU</th>\n",
       "      <th>PENG</th>\n",
       "      <th>KUL</th>\n",
       "      <th>LAW</th>\n",
       "      <th>...</th>\n",
       "      <th>TKA</th>\n",
       "      <th>BRE</th>\n",
       "      <th>DEN</th>\n",
       "      <th>MAZ</th>\n",
       "      <th>CHO</th>\n",
       "      <th>YOF</th>\n",
       "      <th>NEW</th>\n",
       "      <th>LEE</th>\n",
       "      <th>DAV</th>\n",
       "      <th>GHA</th>\n",
       "    </tr>\n",
       "  </thead>\n",
       "  <tbody>\n",
       "    <tr>\n",
       "      <th>0</th>\n",
       "      <td>YMR191W</td>\n",
       "      <td>SPG5</td>\n",
       "      <td>Verified</td>\n",
       "      <td>3.359783e+00</td>\n",
       "      <td>3.359783</td>\n",
       "      <td>NaN</td>\n",
       "      <td>NaN</td>\n",
       "      <td>NaN</td>\n",
       "      <td>3.359783e+00</td>\n",
       "      <td>NaN</td>\n",
       "      <td>...</td>\n",
       "      <td>NaN</td>\n",
       "      <td>NaN</td>\n",
       "      <td>NaN</td>\n",
       "      <td>NaN</td>\n",
       "      <td>NaN</td>\n",
       "      <td>NaN</td>\n",
       "      <td>NaN</td>\n",
       "      <td>NaN</td>\n",
       "      <td>NaN</td>\n",
       "      <td>NaN</td>\n",
       "    </tr>\n",
       "    <tr>\n",
       "      <th>1</th>\n",
       "      <td>YJL093C</td>\n",
       "      <td>TOK1</td>\n",
       "      <td>Verified</td>\n",
       "      <td>3.804228e+00</td>\n",
       "      <td>3.804228</td>\n",
       "      <td>NaN</td>\n",
       "      <td>NaN</td>\n",
       "      <td>NaN</td>\n",
       "      <td>3.804228e+00</td>\n",
       "      <td>NaN</td>\n",
       "      <td>...</td>\n",
       "      <td>NaN</td>\n",
       "      <td>NaN</td>\n",
       "      <td>NaN</td>\n",
       "      <td>NaN</td>\n",
       "      <td>NaN</td>\n",
       "      <td>NaN</td>\n",
       "      <td>NaN</td>\n",
       "      <td>NaN</td>\n",
       "      <td>NaN</td>\n",
       "      <td>NaN</td>\n",
       "    </tr>\n",
       "    <tr>\n",
       "      <th>2</th>\n",
       "      <td>YER184C</td>\n",
       "      <td>TOG1</td>\n",
       "      <td>Verified</td>\n",
       "      <td>4.725730e+00</td>\n",
       "      <td>4.725730</td>\n",
       "      <td>NaN</td>\n",
       "      <td>NaN</td>\n",
       "      <td>NaN</td>\n",
       "      <td>4.725730e+00</td>\n",
       "      <td>NaN</td>\n",
       "      <td>...</td>\n",
       "      <td>NaN</td>\n",
       "      <td>NaN</td>\n",
       "      <td>NaN</td>\n",
       "      <td>NaN</td>\n",
       "      <td>NaN</td>\n",
       "      <td>NaN</td>\n",
       "      <td>NaN</td>\n",
       "      <td>NaN</td>\n",
       "      <td>NaN</td>\n",
       "      <td>NaN</td>\n",
       "    </tr>\n",
       "    <tr>\n",
       "      <th>3</th>\n",
       "      <td>YGL063W</td>\n",
       "      <td>PUS2</td>\n",
       "      <td>Verified</td>\n",
       "      <td>5.497247e+00</td>\n",
       "      <td>5.497247</td>\n",
       "      <td>NaN</td>\n",
       "      <td>NaN</td>\n",
       "      <td>NaN</td>\n",
       "      <td>5.497247e+00</td>\n",
       "      <td>NaN</td>\n",
       "      <td>...</td>\n",
       "      <td>NaN</td>\n",
       "      <td>NaN</td>\n",
       "      <td>NaN</td>\n",
       "      <td>NaN</td>\n",
       "      <td>NaN</td>\n",
       "      <td>NaN</td>\n",
       "      <td>NaN</td>\n",
       "      <td>NaN</td>\n",
       "      <td>NaN</td>\n",
       "      <td>NaN</td>\n",
       "    </tr>\n",
       "    <tr>\n",
       "      <th>4</th>\n",
       "      <td>YPL159C</td>\n",
       "      <td>PET20</td>\n",
       "      <td>Verified</td>\n",
       "      <td>6.922929e+00</td>\n",
       "      <td>6.922929</td>\n",
       "      <td>NaN</td>\n",
       "      <td>NaN</td>\n",
       "      <td>NaN</td>\n",
       "      <td>6.922929e+00</td>\n",
       "      <td>NaN</td>\n",
       "      <td>...</td>\n",
       "      <td>NaN</td>\n",
       "      <td>NaN</td>\n",
       "      <td>NaN</td>\n",
       "      <td>NaN</td>\n",
       "      <td>NaN</td>\n",
       "      <td>NaN</td>\n",
       "      <td>NaN</td>\n",
       "      <td>NaN</td>\n",
       "      <td>NaN</td>\n",
       "      <td>NaN</td>\n",
       "    </tr>\n",
       "    <tr>\n",
       "      <th>...</th>\n",
       "      <td>...</td>\n",
       "      <td>...</td>\n",
       "      <td>...</td>\n",
       "      <td>...</td>\n",
       "      <td>...</td>\n",
       "      <td>...</td>\n",
       "      <td>...</td>\n",
       "      <td>...</td>\n",
       "      <td>...</td>\n",
       "      <td>...</td>\n",
       "      <td>...</td>\n",
       "      <td>...</td>\n",
       "      <td>...</td>\n",
       "      <td>...</td>\n",
       "      <td>...</td>\n",
       "      <td>...</td>\n",
       "      <td>...</td>\n",
       "      <td>...</td>\n",
       "      <td>...</td>\n",
       "      <td>...</td>\n",
       "      <td>...</td>\n",
       "    </tr>\n",
       "    <tr>\n",
       "      <th>5386</th>\n",
       "      <td>YCR012W</td>\n",
       "      <td>PGK1</td>\n",
       "      <td>Verified</td>\n",
       "      <td>1.048126e+06</td>\n",
       "      <td>535389.467835</td>\n",
       "      <td>118.212499</td>\n",
       "      <td>1898620.0</td>\n",
       "      <td>370624.0</td>\n",
       "      <td>5.612653e+05</td>\n",
       "      <td>3.696853e+06</td>\n",
       "      <td>...</td>\n",
       "      <td>632360.321606</td>\n",
       "      <td>762925.325484</td>\n",
       "      <td>3.869733e+06</td>\n",
       "      <td>NaN</td>\n",
       "      <td>535389.467835</td>\n",
       "      <td>NaN</td>\n",
       "      <td>467325.245209</td>\n",
       "      <td>1.013168e+06</td>\n",
       "      <td>2.518955e+06</td>\n",
       "      <td>314000.0</td>\n",
       "    </tr>\n",
       "    <tr>\n",
       "      <th>5387</th>\n",
       "      <td>YLR044C</td>\n",
       "      <td>PDC1</td>\n",
       "      <td>Verified</td>\n",
       "      <td>1.334957e+06</td>\n",
       "      <td>581219.289895</td>\n",
       "      <td>167.610282</td>\n",
       "      <td>1335789.0</td>\n",
       "      <td>284185.0</td>\n",
       "      <td>7.056524e+05</td>\n",
       "      <td>4.366751e+06</td>\n",
       "      <td>...</td>\n",
       "      <td>749870.982279</td>\n",
       "      <td>458461.578265</td>\n",
       "      <td>8.719740e+06</td>\n",
       "      <td>NaN</td>\n",
       "      <td>802711.880877</td>\n",
       "      <td>NaN</td>\n",
       "      <td>581219.289895</td>\n",
       "      <td>1.152585e+06</td>\n",
       "      <td>4.778059e+06</td>\n",
       "      <td>8970.0</td>\n",
       "    </tr>\n",
       "    <tr>\n",
       "      <th>5388</th>\n",
       "      <td>YHR174W</td>\n",
       "      <td>ENO2</td>\n",
       "      <td>Verified</td>\n",
       "      <td>1.392599e+06</td>\n",
       "      <td>736616.685356</td>\n",
       "      <td>169.701905</td>\n",
       "      <td>3055113.0</td>\n",
       "      <td>96517.0</td>\n",
       "      <td>9.298181e+05</td>\n",
       "      <td>9.756854e+05</td>\n",
       "      <td>...</td>\n",
       "      <td>698792.974393</td>\n",
       "      <td>786698.099060</td>\n",
       "      <td>9.928852e+06</td>\n",
       "      <td>NaN</td>\n",
       "      <td>711030.657259</td>\n",
       "      <td>762202.713453</td>\n",
       "      <td>867615.284478</td>\n",
       "      <td>1.926174e+06</td>\n",
       "      <td>3.651029e+06</td>\n",
       "      <td>2610.0</td>\n",
       "    </tr>\n",
       "    <tr>\n",
       "      <th>5389</th>\n",
       "      <td>YKL060C</td>\n",
       "      <td>FBA1</td>\n",
       "      <td>Verified</td>\n",
       "      <td>1.160837e+06</td>\n",
       "      <td>737008.613917</td>\n",
       "      <td>151.923907</td>\n",
       "      <td>2044661.0</td>\n",
       "      <td>276079.0</td>\n",
       "      <td>8.476516e+05</td>\n",
       "      <td>NaN</td>\n",
       "      <td>...</td>\n",
       "      <td>811477.040646</td>\n",
       "      <td>932942.583979</td>\n",
       "      <td>7.403471e+06</td>\n",
       "      <td>NaN</td>\n",
       "      <td>662540.187189</td>\n",
       "      <td>NaN</td>\n",
       "      <td>541286.587601</td>\n",
       "      <td>1.107529e+06</td>\n",
       "      <td>3.317388e+06</td>\n",
       "      <td>1020000.0</td>\n",
       "    </tr>\n",
       "    <tr>\n",
       "      <th>5390</th>\n",
       "      <td>YGR192C</td>\n",
       "      <td>TDH3</td>\n",
       "      <td>Verified</td>\n",
       "      <td>1.371127e+06</td>\n",
       "      <td>746357.568074</td>\n",
       "      <td>139.553969</td>\n",
       "      <td>2003699.0</td>\n",
       "      <td>248743.0</td>\n",
       "      <td>1.575311e+06</td>\n",
       "      <td>3.531903e+06</td>\n",
       "      <td>...</td>\n",
       "      <td>746357.568074</td>\n",
       "      <td>928368.697745</td>\n",
       "      <td>7.889502e+06</td>\n",
       "      <td>NaN</td>\n",
       "      <td>816996.457523</td>\n",
       "      <td>NaN</td>\n",
       "      <td>642009.529894</td>\n",
       "      <td>1.888509e+06</td>\n",
       "      <td>3.407017e+06</td>\n",
       "      <td>169000.0</td>\n",
       "    </tr>\n",
       "  </tbody>\n",
       "</table>\n",
       "<p>5391 rows × 27 columns</p>\n",
       "</div>"
      ],
      "text/plain": [
       "     Systematic Name Standard Name Qualifier a  Mean molecules per cell  \\\n",
       "0            YMR191W          SPG5    Verified             3.359783e+00   \n",
       "1            YJL093C          TOK1    Verified             3.804228e+00   \n",
       "2            YER184C          TOG1    Verified             4.725730e+00   \n",
       "3            YGL063W          PUS2    Verified             5.497247e+00   \n",
       "4            YPL159C         PET20    Verified             6.922929e+00   \n",
       "...              ...           ...         ...                      ...   \n",
       "5386         YCR012W          PGK1    Verified             1.048126e+06   \n",
       "5387         YLR044C          PDC1    Verified             1.334957e+06   \n",
       "5388         YHR174W          ENO2    Verified             1.392599e+06   \n",
       "5389         YKL060C          FBA1    Verified             1.160837e+06   \n",
       "5390         YGR192C          TDH3    Verified             1.371127e+06   \n",
       "\n",
       "      Median molecules per cell  Coefficient of Variation         LU  \\\n",
       "0                      3.359783                       NaN        NaN   \n",
       "1                      3.804228                       NaN        NaN   \n",
       "2                      4.725730                       NaN        NaN   \n",
       "3                      5.497247                       NaN        NaN   \n",
       "4                      6.922929                       NaN        NaN   \n",
       "...                         ...                       ...        ...   \n",
       "5386              535389.467835                118.212499  1898620.0   \n",
       "5387              581219.289895                167.610282  1335789.0   \n",
       "5388              736616.685356                169.701905  3055113.0   \n",
       "5389              737008.613917                151.923907  2044661.0   \n",
       "5390              746357.568074                139.553969  2003699.0   \n",
       "\n",
       "          PENG           KUL           LAW  ...            TKA            BRE  \\\n",
       "0          NaN  3.359783e+00           NaN  ...            NaN            NaN   \n",
       "1          NaN  3.804228e+00           NaN  ...            NaN            NaN   \n",
       "2          NaN  4.725730e+00           NaN  ...            NaN            NaN   \n",
       "3          NaN  5.497247e+00           NaN  ...            NaN            NaN   \n",
       "4          NaN  6.922929e+00           NaN  ...            NaN            NaN   \n",
       "...        ...           ...           ...  ...            ...            ...   \n",
       "5386  370624.0  5.612653e+05  3.696853e+06  ...  632360.321606  762925.325484   \n",
       "5387  284185.0  7.056524e+05  4.366751e+06  ...  749870.982279  458461.578265   \n",
       "5388   96517.0  9.298181e+05  9.756854e+05  ...  698792.974393  786698.099060   \n",
       "5389  276079.0  8.476516e+05           NaN  ...  811477.040646  932942.583979   \n",
       "5390  248743.0  1.575311e+06  3.531903e+06  ...  746357.568074  928368.697745   \n",
       "\n",
       "               DEN  MAZ            CHO            YOF            NEW  \\\n",
       "0              NaN  NaN            NaN            NaN            NaN   \n",
       "1              NaN  NaN            NaN            NaN            NaN   \n",
       "2              NaN  NaN            NaN            NaN            NaN   \n",
       "3              NaN  NaN            NaN            NaN            NaN   \n",
       "4              NaN  NaN            NaN            NaN            NaN   \n",
       "...            ...  ...            ...            ...            ...   \n",
       "5386  3.869733e+06  NaN  535389.467835            NaN  467325.245209   \n",
       "5387  8.719740e+06  NaN  802711.880877            NaN  581219.289895   \n",
       "5388  9.928852e+06  NaN  711030.657259  762202.713453  867615.284478   \n",
       "5389  7.403471e+06  NaN  662540.187189            NaN  541286.587601   \n",
       "5390  7.889502e+06  NaN  816996.457523            NaN  642009.529894   \n",
       "\n",
       "               LEE           DAV        GHA  \n",
       "0              NaN           NaN        NaN  \n",
       "1              NaN           NaN        NaN  \n",
       "2              NaN           NaN        NaN  \n",
       "3              NaN           NaN        NaN  \n",
       "4              NaN           NaN        NaN  \n",
       "...            ...           ...        ...  \n",
       "5386  1.013168e+06  2.518955e+06   314000.0  \n",
       "5387  1.152585e+06  4.778059e+06     8970.0  \n",
       "5388  1.926174e+06  3.651029e+06     2610.0  \n",
       "5389  1.107529e+06  3.317388e+06  1020000.0  \n",
       "5390  1.888509e+06  3.407017e+06   169000.0  \n",
       "\n",
       "[5391 rows x 27 columns]"
      ]
     },
     "execution_count": 14,
     "metadata": {},
     "output_type": "execute_result"
    }
   ],
   "source": [
    "abd = pd.read_csv(\"tarassov_protein_abundances.csv\") \n",
    "abd"
   ]
  },
  {
   "cell_type": "code",
   "execution_count": 15,
   "id": "7debcd15",
   "metadata": {},
   "outputs": [],
   "source": [
    "def fitness(Kda, Ai, Aj):\n",
    "    Ki=0.00054\n",
    "    a=0.1\n",
    "    B=1.3\n",
    "    MTX=4.4\n",
    "    Kapp=1\n",
    "\n",
    "    A=[]\n",
    "    f_c=[]\n",
    "\n",
    "    for i in range(len(df)):\n",
    "\n",
    "        f_cur=(a*Kapp*Ki*Ai[i]*Aj[i])/((B*Ki*Kda[i])+(B*Kda[i]*MTX)+(Kapp*Ki*Ai[i]*Aj[i]))\n",
    "        f_c.append(f_cur)\n",
    "#         print(f_c)\n",
    "\n",
    "\n",
    "        A.append(min(Ai[i],Aj[i])+Ai[i])\n",
    "#         print(A,'\\n')\n",
    "    \n",
    "    return A,f_c\n",
    "#     print(A_total,'\\n')\n",
    "#     print(f_exp,'\\n')\n",
    "#     print(f_curr,'\\n')"
   ]
  },
  {
   "cell_type": "code",
   "execution_count": 16,
   "id": "d4263ee1",
   "metadata": {},
   "outputs": [],
   "source": [
    "def fitness_exp(df):\n",
    "    f_exp=[]\n",
    "    for i in range(len(df)):\n",
    "        f_exp_c=(1/345600)*math.log(df['Colony_Size'][i]/20)\n",
    "        f_exp.append(f_exp_c)\n",
    "\n",
    "    return f_exp"
   ]
  },
  {
   "cell_type": "code",
   "execution_count": 17,
   "id": "a8dd7835",
   "metadata": {},
   "outputs": [],
   "source": [
    "def Kd_n(Kd):\n",
    "    \n",
    "    ddg=random.gauss(mu, sigma)\n",
    "    Kd_new=[element * math.exp(B*ddg) for element in Kd]\n",
    "    return Kd_new"
   ]
  },
  {
   "cell_type": "code",
   "execution_count": 18,
   "id": "633069f7",
   "metadata": {},
   "outputs": [],
   "source": [
    "def cost(A_total, f_exp, f_curr):\n",
    "    f_sub=0\n",
    "    A_sub=0\n",
    "    for i in range(len(df)):\n",
    "        f_sub+=(f_curr[i]-f_exp[i])**2\n",
    "#         print(f_sub)\n",
    "        if(len(abd.loc[abd['Standard Name'].str.contains(df['Protein_A'][i], case=False)]['Mean molecules per cell'][:1])>0):      \n",
    "            A_sub+=(A_total[i]-abd.loc[abd['Standard Name'].str.contains(df['Protein_A'][i], case=False)]['Mean molecules per cell'][:1].values[0])\n",
    "        elif(len(abd.loc[abd['Systematic Name'].str.contains(df['Protein_A'][i], case=False)]['Mean molecules per cell'][:1])>0):      \n",
    "            A_sub+=(A_total[i]-abd.loc[abd['Systematic Name'].str.contains(df['Protein_A'][i], case=False)]['Mean molecules per cell'][:1].values[0])\n",
    "        else:\n",
    "            print(df['Protein_A'][i])\n",
    "    \n",
    "#     print(f_sub,A_sub)\n",
    "    cost=f_sub+(A_sub**2)\n",
    "    return cost\n",
    "#     print('Cost: ',cost)\n",
    "#     print(f_sub)\n",
    "#     print(A_sub**2)"
   ]
  },
  {
   "cell_type": "code",
   "execution_count": 19,
   "id": "48f7ad44",
   "metadata": {},
   "outputs": [],
   "source": [
    "# mu = 1\n",
    "# sigma = 1.7\n",
    "# B=-0.01\n",
    "\n",
    "# f_exp=fitness_exp(df)\n",
    "# Kd_new=Kd_n(Kd)\n",
    "# A_total, f_curr=fitness(Kd, Ai, Aj)\n",
    "# A_total_new, f_curr_new=fitness(Kd_new, Ai, Aj)\n",
    "# C_old=cost(A_total, f_exp, f_curr)\n",
    "# print('\\n\\n')\n",
    "# C_new=cost(A_total_new, f_exp, f_curr_new)\n",
    "# print(Kd,'\\n\\n',Kd_new,'\\n\\n',f_curr,'\\n\\n',f_curr_new,'\\n\\n',C_old,'\\n\\n',C_new)"
   ]
  },
  {
   "cell_type": "code",
   "execution_count": 20,
   "id": "8488e636",
   "metadata": {
    "scrolled": true
   },
   "outputs": [
    {
     "data": {
      "text/plain": [
       "([9406.604951656738,\n",
       "  4230.6227196867785,\n",
       "  1208.1004177643044,\n",
       "  6610.003594482316,\n",
       "  3914.021721250853,\n",
       "  8273.472751361289,\n",
       "  1648.653286256154,\n",
       "  9948.224711463537,\n",
       "  2778.7178293511242,\n",
       "  3860.877139095992],\n",
       " [0.01191926180617911,\n",
       "  0.0056012567220102725,\n",
       "  0.005207478128761073,\n",
       "  0.05539748296060916,\n",
       "  0.0016396817888428268,\n",
       "  0.01894210143695509,\n",
       "  0.0020021684099884615,\n",
       "  0.021240060015802142,\n",
       "  0.02287495269992278,\n",
       "  0.005336724233479147])"
      ]
     },
     "execution_count": 20,
     "metadata": {},
     "output_type": "execute_result"
    }
   ],
   "source": [
    "A_total, f_curr=fitness(Kd, Ai, Aj)\n",
    "A_total, f_curr"
   ]
  },
  {
   "cell_type": "code",
   "execution_count": 21,
   "id": "ff392167",
   "metadata": {},
   "outputs": [
    {
     "data": {
      "text/plain": [
       "[3610.663824138369,\n",
       " 1511.1007582149912,\n",
       " 2602.643432723334,\n",
       " 304.79223840946173,\n",
       " 3886.341639464752,\n",
       " 4535.084656589778,\n",
       " 7242.7255775296535,\n",
       " 5633.225610995189,\n",
       " 584.2996843233472,\n",
       " 4539.512000555335]"
      ]
     },
     "execution_count": 21,
     "metadata": {},
     "output_type": "execute_result"
    }
   ],
   "source": [
    "Kd"
   ]
  },
  {
   "cell_type": "code",
   "execution_count": 22,
   "id": "5fa434b8",
   "metadata": {
    "scrolled": false
   },
   "outputs": [
    {
     "data": {
      "image/png": "[encoded data removed]",
      "text/plain": [
       "<Figure size 432x288 with 1 Axes>"
      ]
     },
     "metadata": {
      "needs_background": "light"
     },
     "output_type": "display_data"
    }
   ],
   "source": [
    "\n",
    "t=0\n",
    "\n",
    "mu = 1\n",
    "sigma = 1.7\n",
    "B=-0.001\n",
    "Ai_max,Ai_min=max(Ai),min(Ai)\n",
    "Aj_max,Aj_min=max(Aj),min(Aj)\n",
    "\n",
    "dC_array=[]\n",
    "dC_sq_array=[]\n",
    "C_new_array=[]\n",
    "C_old_array=[]\n",
    "Ai_track=[]\n",
    "Aj_track=[]\n",
    "Kd_track=[]\n",
    "test=[]\n",
    "C_new=0\n",
    "\n",
    "\n",
    "\n",
    "while(t<15000):\n",
    "    \n",
    "    f_exp=fitness_exp(df)\n",
    "    Kd_new=Kd_n(Kd)\n",
    "    \n",
    "    Ai_len=len(Ai)\n",
    "    Ai_pos=random.randint(0,Ai_len-1)\n",
    "    E_a=random.gauss(0, 0.001)\n",
    "    temp_Ai=Ai[Ai_pos]*(10**E_a)\n",
    "    Ai_tmp=Ai\n",
    "    if(temp_Ai<Ai_max and temp_Ai>Ai_min):\n",
    "        Ai_tmp[Ai_pos]=temp_Ai\n",
    "\n",
    "    Aj_len=len(Aj)\n",
    "    Aj_pos=random.randint(0,Aj_len-1)\n",
    "    E_b=random.gauss(0, 0.001)\n",
    "    temp_Aj=Aj[Aj_pos]*(10**E_b)\n",
    "    Aj_tmp=Aj\n",
    "    if(temp_Aj<Aj_max and temp_Aj>Aj_min):\n",
    "        Aj_tmp[Aj_pos]=temp_Aj\n",
    "        \n",
    "        \n",
    "    A_total, f_curr=fitness(Kd, Ai, Aj)#comment this\n",
    "    A_total_new, f_curr_new=fitness(Kd_new, Ai_tmp, Aj_tmp)\n",
    "    C_old=cost(A_total, f_exp, f_curr)\n",
    "    C_new=cost(A_total_new, f_exp, f_curr_new)\n",
    "    dC=C_new-C_old\n",
    "    \n",
    "    C_old_array.append(C_old)\n",
    "    C_new_array.append(C_new)\n",
    "    dC_array.append(dC)\n",
    "    dC_sq_array.append(dC**2)\n",
    "    Ai_track.append(Ai.copy())\n",
    "    Aj_track.append(Aj.copy())\n",
    "    Kd_track.append(Kd)\n",
    "\n",
    "#     print('**',Ai_track,'\\n\\n')\n",
    "#     print(t,dC)\n",
    "    \n",
    "#     print(Kd,'\\n\\n',Kd_new,'\\n\\n',A_total,'\\n\\n',A_total_new,'\\n\\n',C_new,C_old,dC)\n",
    "#     test.append(np.exp(B*dC))\n",
    "    if((random.random()<=np.exp(B*dC)) and dC<=0): ##np. or math.\n",
    "#         print('1')\n",
    "#         C_new=cost(A_total_new, f_exp, f_curr_new)\n",
    "        Kd_new_temp=Kd_new\n",
    "        Ai=Ai_tmp\n",
    "        Aj=Aj_tmp\n",
    "\n",
    "#         print(t,Ai,'\\n',Aj,'\\n\\n')\n",
    "\n",
    "#         Ai_len=len(Ai)\n",
    "#         Ai_pos=random.randint(0,Ai_len-1)\n",
    "#         E_a=random.gauss(0, 0.0001)\n",
    "#         temp_Ai=Ai[Ai_pos]*(10**E_a)\n",
    "#         if(temp_Ai<Ai_max and temp_Ai>Ai_min):\n",
    "#             Ai[Ai_pos]=temp_Ai\n",
    "                \n",
    "#         Aj_len=len(Aj)\n",
    "#         Aj_pos=random.randint(0,Aj_len-1)\n",
    "#         E_b=random.gauss(0, 0.0001)\n",
    "#         temp_Aj=Aj[Aj_pos]*(10**E_b)\n",
    "#         if(temp_Aj<Aj_max and temp_Aj>Aj_min):\n",
    "#             Aj[Aj_pos]=temp_Aj\n",
    "\n",
    "#         print(Ai_pos,Aj_pos)\n",
    "#         print(Ai,'\\n',temp_Ai,'\\n',Aj,'\\n',temp_Aj,'\\n\\n')\n",
    "\n",
    "    else:\n",
    "#         print('2')\n",
    "        Kd_new_temp=Kd\n",
    "    \n",
    "#         Ai_max,Ai_min=max(Ai),min(Ai)\n",
    "#         E_a=random.gauss(0, 0.0001)\n",
    "#         Ai=[(element*(10**E_a) if (element*(10**E_a)>Ai_min and element*(10**E_a)<Ai_max) else element) for element in Ai]\n",
    "        \n",
    "#         Aj_max,Aj_min=max(Aj),min(Aj)\n",
    "#         E_b=random.gauss(0, 0.0001)\n",
    "#         Aj=[(element*(10**E_b) if (element*(10**E_b)>Aj_min and element*(10**E_b)<Aj_max) else element) for element in Aj]\n",
    "\n",
    "    Kd=Kd_new_temp\n",
    "    t=t+1\n",
    "#     print(t,'out',Ai,'\\n',Aj,'\\n\\n\\n')\n",
    "\n",
    "    \n",
    "#     count=0\n",
    "#     x=[]\n",
    "#     y=C_new_array\n",
    "\n",
    "#     for a in range(len(y)):\n",
    "#         x.append(a)\n",
    "\n",
    "#     plt.plot(x,y)\n",
    "#     plt.show()\n",
    "#     clear_output(wait=False)\n",
    "\n",
    "#     print(t,B,dC)\n",
    "#     if dC<=math.exp(-3):\n",
    "#         break\n",
    "    \n",
    "# print(Kd,'\\n\\n', Kd_new,'\\n\\n', Kd_new_temp,'\\n\\n',dC,'\\n TIME:',t)\n",
    "\n",
    "count=0\n",
    "x=[]\n",
    "y=C_new_array\n",
    "\n",
    "for a in range(len(y)):\n",
    "    x.append(a)\n",
    "    \n",
    "plt.plot(x,y)\n",
    "plt.show()"
   ]
  },
  {
   "cell_type": "code",
   "execution_count": 23,
   "id": "5070c468",
   "metadata": {
    "scrolled": true
   },
   "outputs": [
    {
     "data": {
      "image/png": "[encoded data removed]",
      "text/plain": [
       "<Figure size 432x288 with 1 Axes>"
      ]
     },
     "metadata": {
      "needs_background": "light"
     },
     "output_type": "display_data"
    }
   ],
   "source": [
    "count=0\n",
    "x=[]\n",
    "y=C_old_array\n",
    "\n",
    "for a in range(len(y)):\n",
    "    x.append(a)\n",
    "    \n",
    "plt.plot(x,y)\n",
    "plt.show()"
   ]
  },
  {
   "cell_type": "code",
   "execution_count": 24,
   "id": "20ce62e4",
   "metadata": {},
   "outputs": [
    {
     "data": {
      "image/png": "[encoded data removed]",
      "text/plain": [
       "<Figure size 432x288 with 1 Axes>"
      ]
     },
     "metadata": {
      "needs_background": "light"
     },
     "output_type": "display_data"
    }
   ],
   "source": [
    "count=0\n",
    "x=[]\n",
    "y=dC_array\n",
    "\n",
    "for a in range(len(y)):\n",
    "    x.append(a)\n",
    "    \n",
    "plt.plot(x,y)\n",
    "plt.show()"
   ]
  },
  {
   "cell_type": "code",
   "execution_count": 25,
   "id": "1064647d",
   "metadata": {},
   "outputs": [
    {
     "data": {
      "image/png": "[encoded data removed]",
      "text/plain": [
       "<Figure size 432x288 with 1 Axes>"
      ]
     },
     "metadata": {
      "needs_background": "light"
     },
     "output_type": "display_data"
    }
   ],
   "source": [
    "count=0\n",
    "x=[]\n",
    "y=dC_sq_array\n",
    "\n",
    "for a in range(len(y)):\n",
    "    x.append(a)\n",
    "    \n",
    "plt.plot(x,y)\n",
    "plt.show()"
   ]
  },
  {
   "cell_type": "code",
   "execution_count": 26,
   "id": "8f3a2272",
   "metadata": {
    "scrolled": false
   },
   "outputs": [
    {
     "data": {
      "text/plain": [
       "[<matplotlib.lines.Line2D at 0x7f96245f7730>,\n",
       " <matplotlib.lines.Line2D at 0x7f96245f76d0>,\n",
       " <matplotlib.lines.Line2D at 0x7f96245f77f0>,\n",
       " <matplotlib.lines.Line2D at 0x7f96245f7910>,\n",
       " <matplotlib.lines.Line2D at 0x7f96245f7a30>,\n",
       " <matplotlib.lines.Line2D at 0x7f96245f7b50>,\n",
       " <matplotlib.lines.Line2D at 0x7f96245f7c70>,\n",
       " <matplotlib.lines.Line2D at 0x7f96245f7d90>,\n",
       " <matplotlib.lines.Line2D at 0x7f96245f7eb0>,\n",
       " <matplotlib.lines.Line2D at 0x7f96245f7fd0>]"
      ]
     },
     "execution_count": 26,
     "metadata": {},
     "output_type": "execute_result"
    },
    {
     "data": {
      "image/png": "[encoded data removed]",
      "text/plain": [
       "<Figure size 432x288 with 1 Axes>"
      ]
     },
     "metadata": {
      "needs_background": "light"
     },
     "output_type": "display_data"
    }
   ],
   "source": [
    "rng=np.arange(0,len(Ai_track))\n",
    "plt.plot(Ai_track,rng)"
   ]
  },
  {
   "cell_type": "code",
   "execution_count": 27,
   "id": "76742712",
   "metadata": {},
   "outputs": [],
   "source": [
    "# t,Ai_track"
   ]
  },
  {
   "cell_type": "code",
   "execution_count": 28,
   "id": "37ccaafc",
   "metadata": {},
   "outputs": [
    {
     "data": {
      "text/plain": [
       "[<matplotlib.lines.Line2D at 0x7f962469a790>,\n",
       " <matplotlib.lines.Line2D at 0x7f962469a130>,\n",
       " <matplotlib.lines.Line2D at 0x7f962469a520>,\n",
       " <matplotlib.lines.Line2D at 0x7f962469a610>,\n",
       " <matplotlib.lines.Line2D at 0x7f962469a340>,\n",
       " <matplotlib.lines.Line2D at 0x7f962469a190>,\n",
       " <matplotlib.lines.Line2D at 0x7f962469ac70>,\n",
       " <matplotlib.lines.Line2D at 0x7f962469ad60>,\n",
       " <matplotlib.lines.Line2D at 0x7f962469aa90>,\n",
       " <matplotlib.lines.Line2D at 0x7f962469a8e0>]"
      ]
     },
     "execution_count": 28,
     "metadata": {},
     "output_type": "execute_result"
    },
    {
     "data": {
      "image/png": "[encoded data removed]",
      "text/plain": [
       "<Figure size 432x288 with 1 Axes>"
      ]
     },
     "metadata": {
      "needs_background": "light"
     },
     "output_type": "display_data"
    }
   ],
   "source": [
    "rng=np.arange(0,len(Aj_track))\n",
    "plt.plot(Aj_track,rng)"
   ]
  },
  {
   "cell_type": "code",
   "execution_count": 29,
   "id": "f13b8f2c",
   "metadata": {},
   "outputs": [],
   "source": [
    "# Aj_track"
   ]
  },
  {
   "cell_type": "code",
   "execution_count": 30,
   "id": "7c97005e",
   "metadata": {},
   "outputs": [
    {
     "data": {
      "text/plain": [
       "[<matplotlib.lines.Line2D at 0x7f96248a1c10>,\n",
       " <matplotlib.lines.Line2D at 0x7f96248a1ee0>,\n",
       " <matplotlib.lines.Line2D at 0x7f96248a19d0>,\n",
       " <matplotlib.lines.Line2D at 0x7f96248a1400>,\n",
       " <matplotlib.lines.Line2D at 0x7f96248a14f0>,\n",
       " <matplotlib.lines.Line2D at 0x7f96248b16a0>,\n",
       " <matplotlib.lines.Line2D at 0x7f96248b17c0>,\n",
       " <matplotlib.lines.Line2D at 0x7f96248b1f40>,\n",
       " <matplotlib.lines.Line2D at 0x7f96248b12e0>,\n",
       " <matplotlib.lines.Line2D at 0x7f96248b14f0>]"
      ]
     },
     "execution_count": 30,
     "metadata": {},
     "output_type": "execute_result"
    },
    {
     "data": {
      "image/png": "[encoded data removed]",
      "text/plain": [
       "<Figure size 432x288 with 1 Axes>"
      ]
     },
     "metadata": {
      "needs_background": "light"
     },
     "output_type": "display_data"
    }
   ],
   "source": [
    "rng=np.arange(0,len(Kd_track))\n",
    "plt.plot(Kd_track,rng)"
   ]
  },
  {
   "cell_type": "code",
   "execution_count": 31,
   "id": "45e03a1f",
   "metadata": {},
   "outputs": [
    {
     "data": {
      "text/plain": [
       "[57709.839099513374,\n",
       " 24152.174189340276,\n",
       " 41598.48190012825,\n",
       " 4871.544927500424,\n",
       " 62116.04337126826,\n",
       " 72485.0106744355,\n",
       " 115761.68485331371,\n",
       " 90036.77978781806,\n",
       " 9338.958820472166,\n",
       " 72555.77364776553]"
      ]
     },
     "execution_count": 31,
     "metadata": {},
     "output_type": "execute_result"
    }
   ],
   "source": [
    "Kd"
   ]
  }
 ],
 "metadata": {
  "kernelspec": {
   "display_name": "Python 3 (ipykernel)",
   "language": "python",
   "name": "python3"
  },
  "language_info": {
   "codemirror_mode": {
    "name": "ipython",
    "version": 3
   },
   "file_extension": ".py",
   "mimetype": "text/x-python",
   "name": "python",
   "nbconvert_exporter": "python",
   "pygments_lexer": "ipython3",
   "version": "3.9.12"
  }
 },
 "nbformat": 4,
 "nbformat_minor": 5
}
